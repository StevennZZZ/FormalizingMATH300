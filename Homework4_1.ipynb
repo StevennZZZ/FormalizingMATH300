{
  "cells": [
    {
      "cell_type": "markdown",
      "metadata": {
        "id": "view-in-github",
        "colab_type": "text"
      },
      "source": [
        "<a href=\"https://colab.research.google.com/github/StevennZZZ/FormalizingMATH300/blob/main/Homework4_1.ipynb\" target=\"_parent\"><img src=\"https://colab.research.google.com/assets/colab-badge.svg\" alt=\"Open In Colab\"/></a>"
      ]
    },
    {
      "cell_type": "markdown",
      "metadata": {
        "id": "D0Lx9do1gwoy"
      },
      "source": [
        "<h1>\n",
        "<center>CFRM 421/521, Spring 2023</center>\n",
        "</h1>\n",
        "\n",
        "<h1>\n",
        "<center>[Insert your name here]</center>\n",
        "</h1>\n",
        "\n",
        "<h1>\n",
        "<center>Homework 4</center>\n",
        "</h1>\n",
        "\n",
        "* **Due: Wednesday, May 27, 2024, 11:59 PM**\n",
        "\n",
        "\n",
        "* Total marks: 43\n",
        "\n",
        "\n",
        "* Late submissions are allowed, but a 20% penalty per day applies. Your last submission is considered for calculating the penalty.\n",
        "\n",
        "\n",
        "*  Use this Jupyter notebook as a template for your solutions. **Your solution must be submitted as both one Jupyter notebook and one PDF file on Gradescope.** There will be two modules on Gradescope, one for each file type. The notebook must be already run, that is, make sure that you have run all the code, save the notebook, and then when you reopen the notebook, checked that all output appears as expected. You are allowed to use code from the textbook, textbook website, or lecture notes."
      ]
    },
    {
      "cell_type": "markdown",
      "metadata": {
        "id": "QWzuwOmkgwoz"
      },
      "source": [
        "# 1. A regression MLP [12 marks]\n",
        "\n",
        "Consider the original source of the California housing data (used in Homework 2) in Scikit-Learn.  The data is obtained and split using the code below, where we split off 20% as the test set, and then split off 20% of the training set as a validation set, and keep the remaining 80% of the training set as the actual training set. The following code creates the training set `X_train`, `y_train`, the validation set `X_valid`, `y_valid` and the test set `X_test`, `y_test`."
      ]
    },
    {
      "cell_type": "code",
      "source": [
        "from google.colab import files\n",
        "\n",
        "uploaded = files.upload()"
      ],
      "metadata": {
        "colab": {
          "base_uri": "https://localhost:8080/",
          "height": 76
        },
        "id": "g2GFmJN-4FI5",
        "outputId": "529efe33-c5cf-4a39-f90b-5c7a6dc40663"
      },
      "execution_count": 136,
      "outputs": [
        {
          "output_type": "display_data",
          "data": {
            "text/plain": [
              "<IPython.core.display.HTML object>"
            ],
            "text/html": [
              "\n",
              "     <input type=\"file\" id=\"files-fe32a64e-3458-4d9a-ba10-d33879ba2bff\" name=\"files[]\" multiple disabled\n",
              "        style=\"border:none\" />\n",
              "     <output id=\"result-fe32a64e-3458-4d9a-ba10-d33879ba2bff\">\n",
              "      Upload widget is only available when the cell has been executed in the\n",
              "      current browser session. Please rerun this cell to enable.\n",
              "      </output>\n",
              "      <script>// Copyright 2017 Google LLC\n",
              "//\n",
              "// Licensed under the Apache License, Version 2.0 (the \"License\");\n",
              "// you may not use this file except in compliance with the License.\n",
              "// You may obtain a copy of the License at\n",
              "//\n",
              "//      http://www.apache.org/licenses/LICENSE-2.0\n",
              "//\n",
              "// Unless required by applicable law or agreed to in writing, software\n",
              "// distributed under the License is distributed on an \"AS IS\" BASIS,\n",
              "// WITHOUT WARRANTIES OR CONDITIONS OF ANY KIND, either express or implied.\n",
              "// See the License for the specific language governing permissions and\n",
              "// limitations under the License.\n",
              "\n",
              "/**\n",
              " * @fileoverview Helpers for google.colab Python module.\n",
              " */\n",
              "(function(scope) {\n",
              "function span(text, styleAttributes = {}) {\n",
              "  const element = document.createElement('span');\n",
              "  element.textContent = text;\n",
              "  for (const key of Object.keys(styleAttributes)) {\n",
              "    element.style[key] = styleAttributes[key];\n",
              "  }\n",
              "  return element;\n",
              "}\n",
              "\n",
              "// Max number of bytes which will be uploaded at a time.\n",
              "const MAX_PAYLOAD_SIZE = 100 * 1024;\n",
              "\n",
              "function _uploadFiles(inputId, outputId) {\n",
              "  const steps = uploadFilesStep(inputId, outputId);\n",
              "  const outputElement = document.getElementById(outputId);\n",
              "  // Cache steps on the outputElement to make it available for the next call\n",
              "  // to uploadFilesContinue from Python.\n",
              "  outputElement.steps = steps;\n",
              "\n",
              "  return _uploadFilesContinue(outputId);\n",
              "}\n",
              "\n",
              "// This is roughly an async generator (not supported in the browser yet),\n",
              "// where there are multiple asynchronous steps and the Python side is going\n",
              "// to poll for completion of each step.\n",
              "// This uses a Promise to block the python side on completion of each step,\n",
              "// then passes the result of the previous step as the input to the next step.\n",
              "function _uploadFilesContinue(outputId) {\n",
              "  const outputElement = document.getElementById(outputId);\n",
              "  const steps = outputElement.steps;\n",
              "\n",
              "  const next = steps.next(outputElement.lastPromiseValue);\n",
              "  return Promise.resolve(next.value.promise).then((value) => {\n",
              "    // Cache the last promise value to make it available to the next\n",
              "    // step of the generator.\n",
              "    outputElement.lastPromiseValue = value;\n",
              "    return next.value.response;\n",
              "  });\n",
              "}\n",
              "\n",
              "/**\n",
              " * Generator function which is called between each async step of the upload\n",
              " * process.\n",
              " * @param {string} inputId Element ID of the input file picker element.\n",
              " * @param {string} outputId Element ID of the output display.\n",
              " * @return {!Iterable<!Object>} Iterable of next steps.\n",
              " */\n",
              "function* uploadFilesStep(inputId, outputId) {\n",
              "  const inputElement = document.getElementById(inputId);\n",
              "  inputElement.disabled = false;\n",
              "\n",
              "  const outputElement = document.getElementById(outputId);\n",
              "  outputElement.innerHTML = '';\n",
              "\n",
              "  const pickedPromise = new Promise((resolve) => {\n",
              "    inputElement.addEventListener('change', (e) => {\n",
              "      resolve(e.target.files);\n",
              "    });\n",
              "  });\n",
              "\n",
              "  const cancel = document.createElement('button');\n",
              "  inputElement.parentElement.appendChild(cancel);\n",
              "  cancel.textContent = 'Cancel upload';\n",
              "  const cancelPromise = new Promise((resolve) => {\n",
              "    cancel.onclick = () => {\n",
              "      resolve(null);\n",
              "    };\n",
              "  });\n",
              "\n",
              "  // Wait for the user to pick the files.\n",
              "  const files = yield {\n",
              "    promise: Promise.race([pickedPromise, cancelPromise]),\n",
              "    response: {\n",
              "      action: 'starting',\n",
              "    }\n",
              "  };\n",
              "\n",
              "  cancel.remove();\n",
              "\n",
              "  // Disable the input element since further picks are not allowed.\n",
              "  inputElement.disabled = true;\n",
              "\n",
              "  if (!files) {\n",
              "    return {\n",
              "      response: {\n",
              "        action: 'complete',\n",
              "      }\n",
              "    };\n",
              "  }\n",
              "\n",
              "  for (const file of files) {\n",
              "    const li = document.createElement('li');\n",
              "    li.append(span(file.name, {fontWeight: 'bold'}));\n",
              "    li.append(span(\n",
              "        `(${file.type || 'n/a'}) - ${file.size} bytes, ` +\n",
              "        `last modified: ${\n",
              "            file.lastModifiedDate ? file.lastModifiedDate.toLocaleDateString() :\n",
              "                                    'n/a'} - `));\n",
              "    const percent = span('0% done');\n",
              "    li.appendChild(percent);\n",
              "\n",
              "    outputElement.appendChild(li);\n",
              "\n",
              "    const fileDataPromise = new Promise((resolve) => {\n",
              "      const reader = new FileReader();\n",
              "      reader.onload = (e) => {\n",
              "        resolve(e.target.result);\n",
              "      };\n",
              "      reader.readAsArrayBuffer(file);\n",
              "    });\n",
              "    // Wait for the data to be ready.\n",
              "    let fileData = yield {\n",
              "      promise: fileDataPromise,\n",
              "      response: {\n",
              "        action: 'continue',\n",
              "      }\n",
              "    };\n",
              "\n",
              "    // Use a chunked sending to avoid message size limits. See b/62115660.\n",
              "    let position = 0;\n",
              "    do {\n",
              "      const length = Math.min(fileData.byteLength - position, MAX_PAYLOAD_SIZE);\n",
              "      const chunk = new Uint8Array(fileData, position, length);\n",
              "      position += length;\n",
              "\n",
              "      const base64 = btoa(String.fromCharCode.apply(null, chunk));\n",
              "      yield {\n",
              "        response: {\n",
              "          action: 'append',\n",
              "          file: file.name,\n",
              "          data: base64,\n",
              "        },\n",
              "      };\n",
              "\n",
              "      let percentDone = fileData.byteLength === 0 ?\n",
              "          100 :\n",
              "          Math.round((position / fileData.byteLength) * 100);\n",
              "      percent.textContent = `${percentDone}% done`;\n",
              "\n",
              "    } while (position < fileData.byteLength);\n",
              "  }\n",
              "\n",
              "  // All done.\n",
              "  yield {\n",
              "    response: {\n",
              "      action: 'complete',\n",
              "    }\n",
              "  };\n",
              "}\n",
              "\n",
              "scope.google = scope.google || {};\n",
              "scope.google.colab = scope.google.colab || {};\n",
              "scope.google.colab._files = {\n",
              "  _uploadFiles,\n",
              "  _uploadFilesContinue,\n",
              "};\n",
              "})(self);\n",
              "</script> "
            ]
          },
          "metadata": {}
        },
        {
          "output_type": "stream",
          "name": "stdout",
          "text": [
            "Saving bank_cleaned.csv to bank_cleaned (2).csv\n"
          ]
        }
      ]
    },
    {
      "cell_type": "code",
      "execution_count": 137,
      "metadata": {
        "id": "Lq1gF5Nhgwoz"
      },
      "outputs": [],
      "source": [
        "import numpy as np\n",
        "import pandas as pd\n",
        "import tensorflow as tf\n",
        "from sklearn.datasets import fetch_california_housing\n",
        "from sklearn.model_selection import train_test_split\n",
        "\n",
        "housing = fetch_california_housing()\n",
        "X = housing.data\n",
        "y = housing.target\n",
        "\n",
        "X_train_tmp, X_test, y_train_tmp, y_test = train_test_split(X, y, test_size=0.2, random_state=42)\n",
        "X_train, X_valid, y_train, y_valid = train_test_split(X_train_tmp, y_train_tmp, test_size=0.2, random_state=42)"
      ]
    },
    {
      "cell_type": "markdown",
      "metadata": {
        "id": "Y9rGJyJbgwo0"
      },
      "source": [
        "## (a) [4 marks]\n",
        "\n",
        "Use `tensorflow.keras` to train a regression MLP with a normalization layer as the first layer (`tf.keras.layers.Normalization(input_shape=X_train.shape[1:])`), and one hidden layer of 50 ReLU neurons. For the output layer, try both a ReLU activation function and no activation function (which is equivalent to the identity function). Explain which choice is better. Use the appropriate weight initialization. Use the Nadam optimizer. Train for 30 epochs, and report the mean squared error on the validation set. In the `.compile()` method, use `loss=\"mse\"`."
      ]
    },
    {
      "cell_type": "markdown",
      "metadata": {
        "id": "lbNM0o4Sgwo0"
      },
      "source": [
        "**[Add your solution here]**"
      ]
    },
    {
      "cell_type": "code",
      "source": [
        "def reset_session(seed=42):\n",
        "    tf.random.set_seed(seed)\n",
        "    np.random.seed(seed)\n",
        "    tf.keras.backend.clear_session()\n",
        "\n",
        "reset_session()\n",
        "\n",
        "model = tf.keras.models.Sequential([\n",
        "    tf.keras.layers.Normalization(input_shape=X_train.shape[1:]),\n",
        "    tf.keras.layers.Dense(50, activation=\"relu\", kernel_initializer=\"he_normal\"),\n",
        "    tf.keras.layers.Dense(1, activation=\"relu\", kernel_initializer=\"he_normal\")\n",
        "])\n",
        "model.compile(loss=\"mse\", optimizer=\"nadam\")\n",
        "run = model.fit(X_train, y_train, epochs=30,\n",
        "                validation_data=(X_valid, y_valid),verbose=1)\n",
        "\n",
        "mse_relu = model.evaluate(X_valid, y_valid)\n",
        "print(f'MSE with ReLU activation in output layer: {mse_relu}')"
      ],
      "metadata": {
        "colab": {
          "base_uri": "https://localhost:8080/"
        },
        "id": "iDiAAieeg6PO",
        "outputId": "230b773d-fabb-4b3f-eddf-fa3d04fb4b8a"
      },
      "execution_count": 138,
      "outputs": [
        {
          "output_type": "stream",
          "name": "stdout",
          "text": [
            "Epoch 1/30\n",
            "413/413 [==============================] - 2s 2ms/step - loss: 2428.2869 - val_loss: 5.7523\n",
            "Epoch 2/30\n",
            "413/413 [==============================] - 1s 2ms/step - loss: 5.5894 - val_loss: 5.7480\n",
            "Epoch 3/30\n",
            "413/413 [==============================] - 1s 2ms/step - loss: 5.5883 - val_loss: 5.7484\n",
            "Epoch 4/30\n",
            "413/413 [==============================] - 1s 2ms/step - loss: 5.5884 - val_loss: 5.7484\n",
            "Epoch 5/30\n",
            "413/413 [==============================] - 1s 2ms/step - loss: 5.5891 - val_loss: 5.7472\n",
            "Epoch 6/30\n",
            "413/413 [==============================] - 1s 2ms/step - loss: 5.5885 - val_loss: 5.7511\n",
            "Epoch 7/30\n",
            "413/413 [==============================] - 1s 2ms/step - loss: 5.5882 - val_loss: 5.7503\n",
            "Epoch 8/30\n",
            "413/413 [==============================] - 1s 2ms/step - loss: 5.5878 - val_loss: 5.7459\n",
            "Epoch 9/30\n",
            "413/413 [==============================] - 1s 2ms/step - loss: 5.5859 - val_loss: 5.7513\n",
            "Epoch 10/30\n",
            "413/413 [==============================] - 1s 2ms/step - loss: 5.5871 - val_loss: 5.7429\n",
            "Epoch 11/30\n",
            "413/413 [==============================] - 1s 3ms/step - loss: 5.5852 - val_loss: 5.7434\n",
            "Epoch 12/30\n",
            "413/413 [==============================] - 1s 3ms/step - loss: 5.5838 - val_loss: 5.7423\n",
            "Epoch 13/30\n",
            "413/413 [==============================] - 1s 3ms/step - loss: 5.5884 - val_loss: 5.7435\n",
            "Epoch 14/30\n",
            "413/413 [==============================] - 1s 2ms/step - loss: 5.5860 - val_loss: 5.7450\n",
            "Epoch 15/30\n",
            "413/413 [==============================] - 1s 2ms/step - loss: 5.5871 - val_loss: 5.7422\n",
            "Epoch 16/30\n",
            "413/413 [==============================] - 1s 2ms/step - loss: 5.6006 - val_loss: 5.7455\n",
            "Epoch 17/30\n",
            "413/413 [==============================] - 1s 2ms/step - loss: 5.5873 - val_loss: 5.7452\n",
            "Epoch 18/30\n",
            "413/413 [==============================] - 1s 2ms/step - loss: 5.5824 - val_loss: 5.7442\n",
            "Epoch 19/30\n",
            "413/413 [==============================] - 1s 2ms/step - loss: 5.5806 - val_loss: 5.7467\n",
            "Epoch 20/30\n",
            "413/413 [==============================] - 1s 2ms/step - loss: 5.5826 - val_loss: 5.7432\n",
            "Epoch 21/30\n",
            "413/413 [==============================] - 1s 2ms/step - loss: 5.5833 - val_loss: 5.7425\n",
            "Epoch 22/30\n",
            "413/413 [==============================] - 1s 2ms/step - loss: 5.5803 - val_loss: 5.7464\n",
            "Epoch 23/30\n",
            "413/413 [==============================] - 1s 2ms/step - loss: 5.5797 - val_loss: 5.7394\n",
            "Epoch 24/30\n",
            "413/413 [==============================] - 1s 2ms/step - loss: 5.5841 - val_loss: 5.7393\n",
            "Epoch 25/30\n",
            "413/413 [==============================] - 1s 3ms/step - loss: 5.5815 - val_loss: 5.7380\n",
            "Epoch 26/30\n",
            "413/413 [==============================] - 1s 3ms/step - loss: 5.5785 - val_loss: 5.7488\n",
            "Epoch 27/30\n",
            "413/413 [==============================] - 1s 4ms/step - loss: 5.5857 - val_loss: 5.7368\n",
            "Epoch 28/30\n",
            "413/413 [==============================] - 1s 2ms/step - loss: 5.5806 - val_loss: 5.7501\n",
            "Epoch 29/30\n",
            "413/413 [==============================] - 1s 2ms/step - loss: 5.5817 - val_loss: 5.7394\n",
            "Epoch 30/30\n",
            "413/413 [==============================] - 1s 2ms/step - loss: 5.5906 - val_loss: 5.7231\n",
            "104/104 [==============================] - 0s 1ms/step - loss: 5.7231\n",
            "MSE with ReLU activation in output layer: 5.7230753898620605\n"
          ]
        }
      ]
    },
    {
      "cell_type": "code",
      "source": [
        "reset_session()\n",
        "\n",
        "model = tf.keras.models.Sequential([\n",
        "    tf.keras.layers.Normalization(input_shape=X_train.shape[1:]),\n",
        "    tf.keras.layers.Dense(50, activation=\"relu\",\n",
        "                kernel_initializer=\"he_normal\"),\n",
        "    tf.keras.layers.Dense(1, activation=None)\n",
        "])\n",
        "model.compile(loss=\"mse\", optimizer=\"nadam\")\n",
        "run = model.fit(X_train, y_train, epochs=30,\n",
        "         validation_data=(X_valid, y_valid))\n",
        "\n",
        "mse_identity = model.evaluate(X_valid, y_valid)\n",
        "print(f'MSE with no activation function in output layer: {mse_identity}')"
      ],
      "metadata": {
        "colab": {
          "base_uri": "https://localhost:8080/"
        },
        "id": "NqnuqTSQhAV5",
        "outputId": "9a4407f2-d033-4bbb-f262-9696b1f6b7ef"
      },
      "execution_count": 139,
      "outputs": [
        {
          "output_type": "stream",
          "name": "stdout",
          "text": [
            "Epoch 1/30\n",
            "413/413 [==============================] - 2s 2ms/step - loss: 29016.4512 - val_loss: 9.0850\n",
            "Epoch 2/30\n",
            "413/413 [==============================] - 1s 2ms/step - loss: 4.4629 - val_loss: 4.9447\n",
            "Epoch 3/30\n",
            "413/413 [==============================] - 1s 2ms/step - loss: 2.4768 - val_loss: 3.1734\n",
            "Epoch 4/30\n",
            "413/413 [==============================] - 1s 2ms/step - loss: 1.7978 - val_loss: 2.3547\n",
            "Epoch 5/30\n",
            "413/413 [==============================] - 1s 2ms/step - loss: 1.2987 - val_loss: 1.9404\n",
            "Epoch 6/30\n",
            "413/413 [==============================] - 1s 2ms/step - loss: 1.1012 - val_loss: 1.8665\n",
            "Epoch 7/30\n",
            "413/413 [==============================] - 1s 2ms/step - loss: 0.9817 - val_loss: 1.4625\n",
            "Epoch 8/30\n",
            "413/413 [==============================] - 1s 3ms/step - loss: 0.9474 - val_loss: 1.4674\n",
            "Epoch 9/30\n",
            "413/413 [==============================] - 1s 3ms/step - loss: 0.9148 - val_loss: 1.5403\n",
            "Epoch 10/30\n",
            "413/413 [==============================] - 1s 3ms/step - loss: 0.8562 - val_loss: 1.2065\n",
            "Epoch 11/30\n",
            "413/413 [==============================] - 1s 2ms/step - loss: 0.8169 - val_loss: 1.3775\n",
            "Epoch 12/30\n",
            "413/413 [==============================] - 1s 2ms/step - loss: 0.8369 - val_loss: 1.5673\n",
            "Epoch 13/30\n",
            "413/413 [==============================] - 1s 2ms/step - loss: 0.9150 - val_loss: 1.0796\n",
            "Epoch 14/30\n",
            "413/413 [==============================] - 1s 2ms/step - loss: 0.8235 - val_loss: 0.9409\n",
            "Epoch 15/30\n",
            "413/413 [==============================] - 1s 2ms/step - loss: 0.9855 - val_loss: 2.2997\n",
            "Epoch 16/30\n",
            "413/413 [==============================] - 1s 2ms/step - loss: 0.9315 - val_loss: 1.8880\n",
            "Epoch 17/30\n",
            "413/413 [==============================] - 1s 2ms/step - loss: 1.0563 - val_loss: 0.8669\n",
            "Epoch 18/30\n",
            "413/413 [==============================] - 1s 2ms/step - loss: 0.9322 - val_loss: 0.7978\n",
            "Epoch 19/30\n",
            "413/413 [==============================] - 1s 2ms/step - loss: 0.8399 - val_loss: 1.1396\n",
            "Epoch 20/30\n",
            "413/413 [==============================] - 1s 2ms/step - loss: 4.1602 - val_loss: 1.1410\n",
            "Epoch 21/30\n",
            "413/413 [==============================] - 1s 2ms/step - loss: 1.7826 - val_loss: 2.3722\n",
            "Epoch 22/30\n",
            "413/413 [==============================] - 1s 3ms/step - loss: 3.0564 - val_loss: 4.2211\n",
            "Epoch 23/30\n",
            "413/413 [==============================] - 1s 3ms/step - loss: 2.9752 - val_loss: 4.4847\n",
            "Epoch 24/30\n",
            "413/413 [==============================] - 1s 3ms/step - loss: 10.3421 - val_loss: 1.1779\n",
            "Epoch 25/30\n",
            "413/413 [==============================] - 1s 2ms/step - loss: 0.8543 - val_loss: 1.0743\n",
            "Epoch 26/30\n",
            "413/413 [==============================] - 1s 2ms/step - loss: 10.2028 - val_loss: 2.1386\n",
            "Epoch 27/30\n",
            "413/413 [==============================] - 1s 2ms/step - loss: 0.8191 - val_loss: 0.8045\n",
            "Epoch 28/30\n",
            "413/413 [==============================] - 1s 2ms/step - loss: 1.0048 - val_loss: 0.9080\n",
            "Epoch 29/30\n",
            "413/413 [==============================] - 1s 2ms/step - loss: 4.4061 - val_loss: 1.5412\n",
            "Epoch 30/30\n",
            "413/413 [==============================] - 1s 2ms/step - loss: 7.7181 - val_loss: 1.3669\n",
            "104/104 [==============================] - 0s 1ms/step - loss: 1.3669\n",
            "MSE with no activation function in output layer: 1.366870641708374\n"
          ]
        }
      ]
    },
    {
      "cell_type": "code",
      "source": [
        "mse_df = pd.DataFrame({\n",
        "    \"Activation Function\": [\"ReLU\", \"None\"],\n",
        "    \"MSE\": [mse_relu, mse_identity]\n",
        "})\n",
        "\n",
        "mse_df"
      ],
      "metadata": {
        "colab": {
          "base_uri": "https://localhost:8080/",
          "height": 112
        },
        "id": "NTm2TuShhBum",
        "outputId": "7976782f-86a9-4401-84e6-88a01249bbe7"
      },
      "execution_count": 140,
      "outputs": [
        {
          "output_type": "execute_result",
          "data": {
            "text/plain": [
              "  Activation Function       MSE\n",
              "0                ReLU  5.723075\n",
              "1                None  1.366871"
            ],
            "text/html": [
              "\n",
              "  <div id=\"df-a11ac595-7d34-44ee-bc80-6bd8717162c9\" class=\"colab-df-container\">\n",
              "    <div>\n",
              "<style scoped>\n",
              "    .dataframe tbody tr th:only-of-type {\n",
              "        vertical-align: middle;\n",
              "    }\n",
              "\n",
              "    .dataframe tbody tr th {\n",
              "        vertical-align: top;\n",
              "    }\n",
              "\n",
              "    .dataframe thead th {\n",
              "        text-align: right;\n",
              "    }\n",
              "</style>\n",
              "<table border=\"1\" class=\"dataframe\">\n",
              "  <thead>\n",
              "    <tr style=\"text-align: right;\">\n",
              "      <th></th>\n",
              "      <th>Activation Function</th>\n",
              "      <th>MSE</th>\n",
              "    </tr>\n",
              "  </thead>\n",
              "  <tbody>\n",
              "    <tr>\n",
              "      <th>0</th>\n",
              "      <td>ReLU</td>\n",
              "      <td>5.723075</td>\n",
              "    </tr>\n",
              "    <tr>\n",
              "      <th>1</th>\n",
              "      <td>None</td>\n",
              "      <td>1.366871</td>\n",
              "    </tr>\n",
              "  </tbody>\n",
              "</table>\n",
              "</div>\n",
              "    <div class=\"colab-df-buttons\">\n",
              "\n",
              "  <div class=\"colab-df-container\">\n",
              "    <button class=\"colab-df-convert\" onclick=\"convertToInteractive('df-a11ac595-7d34-44ee-bc80-6bd8717162c9')\"\n",
              "            title=\"Convert this dataframe to an interactive table.\"\n",
              "            style=\"display:none;\">\n",
              "\n",
              "  <svg xmlns=\"http://www.w3.org/2000/svg\" height=\"24px\" viewBox=\"0 -960 960 960\">\n",
              "    <path d=\"M120-120v-720h720v720H120Zm60-500h600v-160H180v160Zm220 220h160v-160H400v160Zm0 220h160v-160H400v160ZM180-400h160v-160H180v160Zm440 0h160v-160H620v160ZM180-180h160v-160H180v160Zm440 0h160v-160H620v160Z\"/>\n",
              "  </svg>\n",
              "    </button>\n",
              "\n",
              "  <style>\n",
              "    .colab-df-container {\n",
              "      display:flex;\n",
              "      gap: 12px;\n",
              "    }\n",
              "\n",
              "    .colab-df-convert {\n",
              "      background-color: #E8F0FE;\n",
              "      border: none;\n",
              "      border-radius: 50%;\n",
              "      cursor: pointer;\n",
              "      display: none;\n",
              "      fill: #1967D2;\n",
              "      height: 32px;\n",
              "      padding: 0 0 0 0;\n",
              "      width: 32px;\n",
              "    }\n",
              "\n",
              "    .colab-df-convert:hover {\n",
              "      background-color: #E2EBFA;\n",
              "      box-shadow: 0px 1px 2px rgba(60, 64, 67, 0.3), 0px 1px 3px 1px rgba(60, 64, 67, 0.15);\n",
              "      fill: #174EA6;\n",
              "    }\n",
              "\n",
              "    .colab-df-buttons div {\n",
              "      margin-bottom: 4px;\n",
              "    }\n",
              "\n",
              "    [theme=dark] .colab-df-convert {\n",
              "      background-color: #3B4455;\n",
              "      fill: #D2E3FC;\n",
              "    }\n",
              "\n",
              "    [theme=dark] .colab-df-convert:hover {\n",
              "      background-color: #434B5C;\n",
              "      box-shadow: 0px 1px 3px 1px rgba(0, 0, 0, 0.15);\n",
              "      filter: drop-shadow(0px 1px 2px rgba(0, 0, 0, 0.3));\n",
              "      fill: #FFFFFF;\n",
              "    }\n",
              "  </style>\n",
              "\n",
              "    <script>\n",
              "      const buttonEl =\n",
              "        document.querySelector('#df-a11ac595-7d34-44ee-bc80-6bd8717162c9 button.colab-df-convert');\n",
              "      buttonEl.style.display =\n",
              "        google.colab.kernel.accessAllowed ? 'block' : 'none';\n",
              "\n",
              "      async function convertToInteractive(key) {\n",
              "        const element = document.querySelector('#df-a11ac595-7d34-44ee-bc80-6bd8717162c9');\n",
              "        const dataTable =\n",
              "          await google.colab.kernel.invokeFunction('convertToInteractive',\n",
              "                                                    [key], {});\n",
              "        if (!dataTable) return;\n",
              "\n",
              "        const docLinkHtml = 'Like what you see? Visit the ' +\n",
              "          '<a target=\"_blank\" href=https://colab.research.google.com/notebooks/data_table.ipynb>data table notebook</a>'\n",
              "          + ' to learn more about interactive tables.';\n",
              "        element.innerHTML = '';\n",
              "        dataTable['output_type'] = 'display_data';\n",
              "        await google.colab.output.renderOutput(dataTable, element);\n",
              "        const docLink = document.createElement('div');\n",
              "        docLink.innerHTML = docLinkHtml;\n",
              "        element.appendChild(docLink);\n",
              "      }\n",
              "    </script>\n",
              "  </div>\n",
              "\n",
              "\n",
              "<div id=\"df-aec27f85-7830-493c-b84e-6af5717ccd93\">\n",
              "  <button class=\"colab-df-quickchart\" onclick=\"quickchart('df-aec27f85-7830-493c-b84e-6af5717ccd93')\"\n",
              "            title=\"Suggest charts\"\n",
              "            style=\"display:none;\">\n",
              "\n",
              "<svg xmlns=\"http://www.w3.org/2000/svg\" height=\"24px\"viewBox=\"0 0 24 24\"\n",
              "     width=\"24px\">\n",
              "    <g>\n",
              "        <path d=\"M19 3H5c-1.1 0-2 .9-2 2v14c0 1.1.9 2 2 2h14c1.1 0 2-.9 2-2V5c0-1.1-.9-2-2-2zM9 17H7v-7h2v7zm4 0h-2V7h2v10zm4 0h-2v-4h2v4z\"/>\n",
              "    </g>\n",
              "</svg>\n",
              "  </button>\n",
              "\n",
              "<style>\n",
              "  .colab-df-quickchart {\n",
              "      --bg-color: #E8F0FE;\n",
              "      --fill-color: #1967D2;\n",
              "      --hover-bg-color: #E2EBFA;\n",
              "      --hover-fill-color: #174EA6;\n",
              "      --disabled-fill-color: #AAA;\n",
              "      --disabled-bg-color: #DDD;\n",
              "  }\n",
              "\n",
              "  [theme=dark] .colab-df-quickchart {\n",
              "      --bg-color: #3B4455;\n",
              "      --fill-color: #D2E3FC;\n",
              "      --hover-bg-color: #434B5C;\n",
              "      --hover-fill-color: #FFFFFF;\n",
              "      --disabled-bg-color: #3B4455;\n",
              "      --disabled-fill-color: #666;\n",
              "  }\n",
              "\n",
              "  .colab-df-quickchart {\n",
              "    background-color: var(--bg-color);\n",
              "    border: none;\n",
              "    border-radius: 50%;\n",
              "    cursor: pointer;\n",
              "    display: none;\n",
              "    fill: var(--fill-color);\n",
              "    height: 32px;\n",
              "    padding: 0;\n",
              "    width: 32px;\n",
              "  }\n",
              "\n",
              "  .colab-df-quickchart:hover {\n",
              "    background-color: var(--hover-bg-color);\n",
              "    box-shadow: 0 1px 2px rgba(60, 64, 67, 0.3), 0 1px 3px 1px rgba(60, 64, 67, 0.15);\n",
              "    fill: var(--button-hover-fill-color);\n",
              "  }\n",
              "\n",
              "  .colab-df-quickchart-complete:disabled,\n",
              "  .colab-df-quickchart-complete:disabled:hover {\n",
              "    background-color: var(--disabled-bg-color);\n",
              "    fill: var(--disabled-fill-color);\n",
              "    box-shadow: none;\n",
              "  }\n",
              "\n",
              "  .colab-df-spinner {\n",
              "    border: 2px solid var(--fill-color);\n",
              "    border-color: transparent;\n",
              "    border-bottom-color: var(--fill-color);\n",
              "    animation:\n",
              "      spin 1s steps(1) infinite;\n",
              "  }\n",
              "\n",
              "  @keyframes spin {\n",
              "    0% {\n",
              "      border-color: transparent;\n",
              "      border-bottom-color: var(--fill-color);\n",
              "      border-left-color: var(--fill-color);\n",
              "    }\n",
              "    20% {\n",
              "      border-color: transparent;\n",
              "      border-left-color: var(--fill-color);\n",
              "      border-top-color: var(--fill-color);\n",
              "    }\n",
              "    30% {\n",
              "      border-color: transparent;\n",
              "      border-left-color: var(--fill-color);\n",
              "      border-top-color: var(--fill-color);\n",
              "      border-right-color: var(--fill-color);\n",
              "    }\n",
              "    40% {\n",
              "      border-color: transparent;\n",
              "      border-right-color: var(--fill-color);\n",
              "      border-top-color: var(--fill-color);\n",
              "    }\n",
              "    60% {\n",
              "      border-color: transparent;\n",
              "      border-right-color: var(--fill-color);\n",
              "    }\n",
              "    80% {\n",
              "      border-color: transparent;\n",
              "      border-right-color: var(--fill-color);\n",
              "      border-bottom-color: var(--fill-color);\n",
              "    }\n",
              "    90% {\n",
              "      border-color: transparent;\n",
              "      border-bottom-color: var(--fill-color);\n",
              "    }\n",
              "  }\n",
              "</style>\n",
              "\n",
              "  <script>\n",
              "    async function quickchart(key) {\n",
              "      const quickchartButtonEl =\n",
              "        document.querySelector('#' + key + ' button');\n",
              "      quickchartButtonEl.disabled = true;  // To prevent multiple clicks.\n",
              "      quickchartButtonEl.classList.add('colab-df-spinner');\n",
              "      try {\n",
              "        const charts = await google.colab.kernel.invokeFunction(\n",
              "            'suggestCharts', [key], {});\n",
              "      } catch (error) {\n",
              "        console.error('Error during call to suggestCharts:', error);\n",
              "      }\n",
              "      quickchartButtonEl.classList.remove('colab-df-spinner');\n",
              "      quickchartButtonEl.classList.add('colab-df-quickchart-complete');\n",
              "    }\n",
              "    (() => {\n",
              "      let quickchartButtonEl =\n",
              "        document.querySelector('#df-aec27f85-7830-493c-b84e-6af5717ccd93 button');\n",
              "      quickchartButtonEl.style.display =\n",
              "        google.colab.kernel.accessAllowed ? 'block' : 'none';\n",
              "    })();\n",
              "  </script>\n",
              "</div>\n",
              "    </div>\n",
              "  </div>\n"
            ],
            "application/vnd.google.colaboratory.intrinsic+json": {
              "type": "dataframe",
              "variable_name": "mse_df",
              "summary": "{\n  \"name\": \"mse_df\",\n  \"rows\": 2,\n  \"fields\": [\n    {\n      \"column\": \"Activation Function\",\n      \"properties\": {\n        \"dtype\": \"string\",\n        \"num_unique_values\": 2,\n        \"samples\": [\n          \"None\",\n          \"ReLU\"\n        ],\n        \"semantic_type\": \"\",\n        \"description\": \"\"\n      }\n    },\n    {\n      \"column\": \"MSE\",\n      \"properties\": {\n        \"dtype\": \"number\",\n        \"std\": 3.080301917656508,\n        \"min\": 1.366870641708374,\n        \"max\": 5.7230753898620605,\n        \"num_unique_values\": 2,\n        \"samples\": [\n          1.366870641708374,\n          5.7230753898620605\n        ],\n        \"semantic_type\": \"\",\n        \"description\": \"\"\n      }\n    }\n  ]\n}"
            }
          },
          "metadata": {},
          "execution_count": 140
        }
      ]
    },
    {
      "cell_type": "markdown",
      "metadata": {
        "id": "0GbLfsb9gwo0"
      },
      "source": [
        "## (b) [6 marks]\n",
        "\n",
        "Read the section \"Fine-Tuning Neural Network Hyperparameters\" in the textbook and the corresponding section in the [Jupyter notebook](https://github.com/ageron/handson-ml3/blob/main/10_neural_nets_with_keras.ipynb) on the textbook website using Keras Tuner. You will need to install the package `keras_tuner` if you don't already have it.\n",
        "\n",
        "Then use Keras Tuner to do a randomized search to search for the best hyperparameters. Do the randomized search over the first 5000 observations of the training set. Use 20 iterations, 20 epochs per iteration. Use the same network architecture as (a) except where otherwise specified below. Use no activation function for the output layer. Use a seed of 42, and the objective is clearly to minimize validation loss. The hyperparameters to search over are:\n",
        "\n",
        "* Hidden layers: 1 to 5.\n",
        "* Number of neurons per layer: 1 to 100.\n",
        "* Learning rate: 1e-4 to 1e-2 using log sampling.\n",
        "* $\\ell_2$ regularizers with `l2` value: 1e-4 to 100 using log sampling.\n",
        "* Optimizer: `tf.keras.optimizers.SGD(learning_rate=learning_rate,clipnorm=1.0)` and `tf.keras.optimizers.Nadam(learning_rate=learning_rate)`.\n",
        "\n",
        "Print the best hyperparameter. (You can ignore any warning message you may get)."
      ]
    },
    {
      "cell_type": "markdown",
      "metadata": {
        "id": "GPdf5kpbgwo0"
      },
      "source": [
        "**[Add your solution here]**"
      ]
    },
    {
      "cell_type": "code",
      "source": [
        "!pip install keras-tuner\n"
      ],
      "metadata": {
        "colab": {
          "base_uri": "https://localhost:8080/"
        },
        "id": "Idn0-apui1Xb",
        "outputId": "15bd30cf-adfc-426a-cde7-21e9424f4e30"
      },
      "execution_count": 141,
      "outputs": [
        {
          "output_type": "stream",
          "name": "stdout",
          "text": [
            "Requirement already satisfied: keras-tuner in /usr/local/lib/python3.10/dist-packages (1.4.7)\n",
            "Requirement already satisfied: keras in /usr/local/lib/python3.10/dist-packages (from keras-tuner) (2.15.0)\n",
            "Requirement already satisfied: packaging in /usr/local/lib/python3.10/dist-packages (from keras-tuner) (24.0)\n",
            "Requirement already satisfied: requests in /usr/local/lib/python3.10/dist-packages (from keras-tuner) (2.31.0)\n",
            "Requirement already satisfied: kt-legacy in /usr/local/lib/python3.10/dist-packages (from keras-tuner) (1.0.5)\n",
            "Requirement already satisfied: charset-normalizer<4,>=2 in /usr/local/lib/python3.10/dist-packages (from requests->keras-tuner) (3.3.2)\n",
            "Requirement already satisfied: idna<4,>=2.5 in /usr/local/lib/python3.10/dist-packages (from requests->keras-tuner) (3.7)\n",
            "Requirement already satisfied: urllib3<3,>=1.21.1 in /usr/local/lib/python3.10/dist-packages (from requests->keras-tuner) (2.0.7)\n",
            "Requirement already satisfied: certifi>=2017.4.17 in /usr/local/lib/python3.10/dist-packages (from requests->keras-tuner) (2024.2.2)\n"
          ]
        }
      ]
    },
    {
      "cell_type": "code",
      "source": [
        "import keras_tuner as kt\n",
        "\n",
        "reset_session()\n",
        "\n",
        "def build_model(hp):\n",
        "    n_hidden = hp.Int(\"n_hidden\", min_value=1, max_value=5)\n",
        "    n_neurons = hp.Int(\"n_neurons\", min_value=1, max_value=100)\n",
        "    learning_rate = hp.Float(\"learning_rate\", min_value=1e-4,\n",
        "                  max_value=1e-2,sampling=\"log\")\n",
        "    reg = hp.Float(\"l2\", min_value=1e-4,\n",
        "            max_value=100,sampling=\"log\")\n",
        "    optimizer = hp.Choice(\"optimizer\", values=[\"sgd\", \"nadam\"])\n",
        "    if optimizer == \"sgd\":\n",
        "        optimizer = tf.keras.optimizers.SGD(learning_rate=learning_rate,clipnorm=1.0)\n",
        "    else:\n",
        "        optimizer = tf.keras.optimizers.Nadam(learning_rate=learning_rate)\n",
        "\n",
        "    model = tf.keras.Sequential()\n",
        "    model.add(tf.keras.layers.Normalization(input_shape=X_train.shape[1:]))\n",
        "    for _ in range(n_hidden):\n",
        "        model.add(tf.keras.layers.Dense(n_neurons,  activation=\"relu\", kernel_initializer=\"he_normal\",\n",
        "             kernel_regularizer=tf.keras.regularizers.l2(reg)))\n",
        "    model.add(tf.keras.layers.Dense(1,activation=None, kernel_initializer=\"he_normal\",\n",
        "         kernel_regularizer=tf.keras.regularizers.l2(reg)))\n",
        "    model.compile(loss=\"mse\", optimizer=\"Nadam\")\n",
        "    return model\n",
        "\n",
        "random_search_tuner = kt.RandomSearch(\n",
        "    build_model, objective=\"val_loss\", max_trials=20, overwrite=True,\n",
        "    directory=\"calorif_housing\", project_name=\"my_rnd_search\", seed=42)\n",
        "random_search_tuner.search(X_train[:5000], y_train[:5000], epochs=20,\n",
        "                           validation_data=(X_valid, y_valid))"
      ],
      "metadata": {
        "colab": {
          "base_uri": "https://localhost:8080/"
        },
        "id": "mecZMQnuiocW",
        "outputId": "3fdd2e41-8191-48d3-a78e-d29b8768fb04"
      },
      "execution_count": 142,
      "outputs": [
        {
          "output_type": "stream",
          "name": "stdout",
          "text": [
            "Trial 20 Complete [00h 00m 13s]\n",
            "val_loss: 68.51395416259766\n",
            "\n",
            "Best val_loss So Far: 1.4804799556732178\n",
            "Total elapsed time: 00h 06m 06s\n"
          ]
        }
      ]
    },
    {
      "cell_type": "code",
      "source": [
        "random_search_tuner.get_best_hyperparameters(num_trials=1)[0].values"
      ],
      "metadata": {
        "colab": {
          "base_uri": "https://localhost:8080/"
        },
        "id": "xswj1BFMjDu0",
        "outputId": "18099914-ef2d-4ee5-9094-476a8e806340"
      },
      "execution_count": 143,
      "outputs": [
        {
          "output_type": "execute_result",
          "data": {
            "text/plain": [
              "{'n_hidden': 3,\n",
              " 'n_neurons': 4,\n",
              " 'learning_rate': 0.0003032990167232719,\n",
              " 'l2': 23.736367100254395,\n",
              " 'optimizer': 'nadam'}"
            ]
          },
          "metadata": {},
          "execution_count": 143
        }
      ]
    },
    {
      "cell_type": "code",
      "source": [
        "top3_models = random_search_tuner.get_best_models(num_models=3)\n",
        "best_model = top3_models[0]\n",
        "best_model.summary()"
      ],
      "metadata": {
        "colab": {
          "base_uri": "https://localhost:8080/"
        },
        "id": "d55EyMA1jKm0",
        "outputId": "943f7626-4a2b-4676-ea55-eb438e1a658d"
      },
      "execution_count": 144,
      "outputs": [
        {
          "output_type": "stream",
          "name": "stdout",
          "text": [
            "Model: \"sequential\"\n"
          ]
        },
        {
          "output_type": "stream",
          "name": "stderr",
          "text": [
            "WARNING:tensorflow:Detecting that an object or model or tf.train.Checkpoint is being deleted with unrestored values. See the following logs for the specific values in question. To silence these warnings, use `status.expect_partial()`. See https://www.tensorflow.org/api_docs/python/tf/train/Checkpoint#restorefor details about the status object returned by the restore function.\n"
          ]
        },
        {
          "output_type": "stream",
          "name": "stdout",
          "text": [
            "_________________________________________________________________\n",
            " Layer (type)                Output Shape              Param #   \n"
          ]
        },
        {
          "output_type": "stream",
          "name": "stderr",
          "text": [
            "WARNING:tensorflow:Value in checkpoint could not be found in the restored object: (root).optimizer._u_product\n"
          ]
        },
        {
          "output_type": "stream",
          "name": "stdout",
          "text": [
            "=================================================================\n"
          ]
        },
        {
          "output_type": "stream",
          "name": "stderr",
          "text": [
            "WARNING:tensorflow:Value in checkpoint could not be found in the restored object: (root).optimizer._variables.1\n",
            "WARNING:tensorflow:Value in checkpoint could not be found in the restored object: (root).optimizer._variables.2\n"
          ]
        },
        {
          "output_type": "stream",
          "name": "stdout",
          "text": [
            " normalization (Normalizati  (None, 8)                 17        \n",
            " on)                                                             \n",
            "                                                                 \n",
            " dense (Dense)               (None, 4)                 36        \n",
            "                                                                 \n",
            " dense_1 (Dense)             (None, 4)                 20        \n"
          ]
        },
        {
          "output_type": "stream",
          "name": "stderr",
          "text": [
            "WARNING:tensorflow:Value in checkpoint could not be found in the restored object: (root).optimizer._variables.3\n"
          ]
        },
        {
          "output_type": "stream",
          "name": "stdout",
          "text": [
            "                                                                 \n",
            " dense_2 (Dense)             (None, 4)                 20        \n",
            "                                                                 \n"
          ]
        },
        {
          "output_type": "stream",
          "name": "stderr",
          "text": [
            "WARNING:tensorflow:Value in checkpoint could not be found in the restored object: (root).optimizer._variables.4\n"
          ]
        },
        {
          "output_type": "stream",
          "name": "stdout",
          "text": [
            " dense_3 (Dense)             (None, 1)                 5         \n",
            "                                                                 \n",
            "=================================================================\n",
            "Total params: 98 (396.00 Byte)\n",
            "Trainable params: 81 (324.00 Byte)\n",
            "Non-trainable params: 17 (72.00 Byte)\n",
            "_________________________________________________________________\n"
          ]
        },
        {
          "output_type": "stream",
          "name": "stderr",
          "text": [
            "WARNING:tensorflow:Value in checkpoint could not be found in the restored object: (root).optimizer._variables.5\n"
          ]
        }
      ]
    },
    {
      "cell_type": "markdown",
      "metadata": {
        "id": "HiOSkElcgwo0"
      },
      "source": [
        "## (c) [2 marks]\n",
        "\n",
        "For the best model in (b), train the model on the full training data for 200 epochs. Plot the learning curve. Does it look like the model is overfitting?"
      ]
    },
    {
      "cell_type": "markdown",
      "metadata": {
        "id": "-Y0UwsAWgwo0"
      },
      "source": [
        "**[Add your solution here]**"
      ]
    },
    {
      "cell_type": "code",
      "source": [
        "reset_session()"
      ],
      "metadata": {
        "colab": {
          "base_uri": "https://localhost:8080/"
        },
        "id": "l6AkNALnjoMM",
        "outputId": "8d2677d4-4b56-413b-fa1f-57bb032b5761"
      },
      "execution_count": 145,
      "outputs": [
        {
          "output_type": "stream",
          "name": "stderr",
          "text": [
            "WARNING:tensorflow:Value in checkpoint could not be found in the restored object: (root).optimizer._variables.6\n",
            "WARNING:tensorflow:Value in checkpoint could not be found in the restored object: (root).optimizer._variables.7\n",
            "WARNING:tensorflow:Value in checkpoint could not be found in the restored object: (root).optimizer._variables.8\n"
          ]
        }
      ]
    },
    {
      "cell_type": "code",
      "source": [
        "best_run_c = best_model.fit(X_train, y_train, epochs=200, validation_data=(X_valid, y_valid))"
      ],
      "metadata": {
        "colab": {
          "base_uri": "https://localhost:8080/"
        },
        "id": "wQ-71aTwjp0K",
        "outputId": "235eff51-9e9d-449b-ec5b-5864334a8689"
      },
      "execution_count": 146,
      "outputs": [
        {
          "output_type": "stream",
          "name": "stderr",
          "text": [
            "WARNING:tensorflow:Value in checkpoint could not be found in the restored object: (root).optimizer._variables.9\n",
            "WARNING:tensorflow:Value in checkpoint could not be found in the restored object: (root).optimizer._variables.10\n",
            "WARNING:tensorflow:Value in checkpoint could not be found in the restored object: (root).optimizer._variables.11\n",
            "WARNING:tensorflow:Value in checkpoint could not be found in the restored object: (root).optimizer._variables.12\n",
            "WARNING:tensorflow:Value in checkpoint could not be found in the restored object: (root).optimizer._variables.13\n",
            "WARNING:tensorflow:Value in checkpoint could not be found in the restored object: (root).optimizer._variables.14\n",
            "WARNING:tensorflow:Value in checkpoint could not be found in the restored object: (root).optimizer._variables.15\n",
            "WARNING:tensorflow:Value in checkpoint could not be found in the restored object: (root).optimizer._variables.16\n",
            "WARNING:tensorflow:Value in checkpoint could not be found in the restored object: (root).optimizer._variables.17\n",
            "WARNING:tensorflow:Value in checkpoint could not be found in the restored object: (root).optimizer._variables.18\n",
            "WARNING:tensorflow:Value in checkpoint could not be found in the restored object: (root).optimizer._variables.19\n",
            "WARNING:tensorflow:Value in checkpoint could not be found in the restored object: (root).optimizer._variables.20\n",
            "WARNING:tensorflow:Detecting that an object or model or tf.train.Checkpoint is being deleted with unrestored values. See the following logs for the specific values in question. To silence these warnings, use `status.expect_partial()`. See https://www.tensorflow.org/api_docs/python/tf/train/Checkpoint#restorefor details about the status object returned by the restore function.\n",
            "WARNING:tensorflow:Value in checkpoint could not be found in the restored object: (root).optimizer._u_product\n",
            "WARNING:tensorflow:Value in checkpoint could not be found in the restored object: (root).optimizer._variables.1\n",
            "WARNING:tensorflow:Value in checkpoint could not be found in the restored object: (root).optimizer._variables.2\n",
            "WARNING:tensorflow:Value in checkpoint could not be found in the restored object: (root).optimizer._variables.3\n",
            "WARNING:tensorflow:Value in checkpoint could not be found in the restored object: (root).optimizer._variables.4\n",
            "WARNING:tensorflow:Value in checkpoint could not be found in the restored object: (root).optimizer._variables.5\n",
            "WARNING:tensorflow:Value in checkpoint could not be found in the restored object: (root).optimizer._variables.6\n",
            "WARNING:tensorflow:Value in checkpoint could not be found in the restored object: (root).optimizer._variables.7\n",
            "WARNING:tensorflow:Value in checkpoint could not be found in the restored object: (root).optimizer._variables.8\n"
          ]
        },
        {
          "output_type": "stream",
          "name": "stdout",
          "text": [
            "Epoch 1/200\n",
            "413/413 [==============================] - 5s 5ms/step - loss: 1.3730 - val_loss: 1.4091\n",
            "Epoch 2/200\n",
            "413/413 [==============================] - 2s 4ms/step - loss: 1.3378 - val_loss: 1.3899\n",
            "Epoch 3/200\n",
            "413/413 [==============================] - 2s 5ms/step - loss: 1.3289 - val_loss: 1.3836\n",
            "Epoch 4/200\n",
            "413/413 [==============================] - 3s 7ms/step - loss: 1.3266 - val_loss: 1.3813\n",
            "Epoch 5/200\n",
            "413/413 [==============================] - 2s 5ms/step - loss: 1.3261 - val_loss: 1.3808\n",
            "Epoch 6/200\n",
            "413/413 [==============================] - 2s 4ms/step - loss: 1.3260 - val_loss: 1.3807\n",
            "Epoch 7/200\n",
            "413/413 [==============================] - 2s 5ms/step - loss: 1.3259 - val_loss: 1.3805\n",
            "Epoch 8/200\n",
            "413/413 [==============================] - 2s 4ms/step - loss: 1.3260 - val_loss: 1.3805\n",
            "Epoch 9/200\n",
            "413/413 [==============================] - 2s 6ms/step - loss: 1.3260 - val_loss: 1.3807\n",
            "Epoch 10/200\n",
            "413/413 [==============================] - 2s 6ms/step - loss: 1.3260 - val_loss: 1.3808\n",
            "Epoch 11/200\n",
            "413/413 [==============================] - 3s 7ms/step - loss: 1.3259 - val_loss: 1.3806\n",
            "Epoch 12/200\n",
            "413/413 [==============================] - 2s 5ms/step - loss: 1.3260 - val_loss: 1.3806\n",
            "Epoch 13/200\n",
            "413/413 [==============================] - 2s 4ms/step - loss: 1.3260 - val_loss: 1.3805\n",
            "Epoch 14/200\n",
            "413/413 [==============================] - 2s 4ms/step - loss: 1.3259 - val_loss: 1.3809\n",
            "Epoch 15/200\n",
            "413/413 [==============================] - 1s 2ms/step - loss: 1.3259 - val_loss: 1.3802\n",
            "Epoch 16/200\n",
            "413/413 [==============================] - 1s 2ms/step - loss: 1.3260 - val_loss: 1.3805\n",
            "Epoch 17/200\n",
            "413/413 [==============================] - 1s 2ms/step - loss: 1.3260 - val_loss: 1.3808\n",
            "Epoch 18/200\n",
            "413/413 [==============================] - 1s 2ms/step - loss: 1.3259 - val_loss: 1.3809\n",
            "Epoch 19/200\n",
            "413/413 [==============================] - 1s 3ms/step - loss: 1.3260 - val_loss: 1.3806\n",
            "Epoch 20/200\n",
            "413/413 [==============================] - 1s 4ms/step - loss: 1.3260 - val_loss: 1.3804\n",
            "Epoch 21/200\n",
            "413/413 [==============================] - 1s 3ms/step - loss: 1.3260 - val_loss: 1.3812\n",
            "Epoch 22/200\n",
            "413/413 [==============================] - 1s 3ms/step - loss: 1.3261 - val_loss: 1.3809\n",
            "Epoch 23/200\n",
            "413/413 [==============================] - 1s 2ms/step - loss: 1.3260 - val_loss: 1.3808\n",
            "Epoch 24/200\n",
            "413/413 [==============================] - 1s 2ms/step - loss: 1.3260 - val_loss: 1.3806\n",
            "Epoch 25/200\n",
            "413/413 [==============================] - 1s 2ms/step - loss: 1.3260 - val_loss: 1.3805\n",
            "Epoch 26/200\n",
            "413/413 [==============================] - 1s 2ms/step - loss: 1.3260 - val_loss: 1.3810\n",
            "Epoch 27/200\n",
            "413/413 [==============================] - 1s 2ms/step - loss: 1.3260 - val_loss: 1.3803\n",
            "Epoch 28/200\n",
            "413/413 [==============================] - 1s 2ms/step - loss: 1.3260 - val_loss: 1.3804\n",
            "Epoch 29/200\n",
            "413/413 [==============================] - 1s 2ms/step - loss: 1.3260 - val_loss: 1.3807\n",
            "Epoch 30/200\n",
            "413/413 [==============================] - 1s 2ms/step - loss: 1.3260 - val_loss: 1.3805\n",
            "Epoch 31/200\n",
            "413/413 [==============================] - 1s 2ms/step - loss: 1.3260 - val_loss: 1.3805\n",
            "Epoch 32/200\n",
            "413/413 [==============================] - 1s 3ms/step - loss: 1.3260 - val_loss: 1.3805\n",
            "Epoch 33/200\n",
            "413/413 [==============================] - 1s 4ms/step - loss: 1.3260 - val_loss: 1.3804\n",
            "Epoch 34/200\n",
            "413/413 [==============================] - 1s 3ms/step - loss: 1.3258 - val_loss: 1.3812\n",
            "Epoch 35/200\n",
            "413/413 [==============================] - 1s 3ms/step - loss: 1.3261 - val_loss: 1.3806\n",
            "Epoch 36/200\n",
            "413/413 [==============================] - 1s 2ms/step - loss: 1.3261 - val_loss: 1.3805\n",
            "Epoch 37/200\n",
            "413/413 [==============================] - 1s 2ms/step - loss: 1.3260 - val_loss: 1.3810\n",
            "Epoch 38/200\n",
            "413/413 [==============================] - 1s 2ms/step - loss: 1.3260 - val_loss: 1.3808\n",
            "Epoch 39/200\n",
            "413/413 [==============================] - 1s 2ms/step - loss: 1.3260 - val_loss: 1.3806\n",
            "Epoch 40/200\n",
            "413/413 [==============================] - 1s 2ms/step - loss: 1.3259 - val_loss: 1.3811\n",
            "Epoch 41/200\n",
            "413/413 [==============================] - 1s 2ms/step - loss: 1.3261 - val_loss: 1.3808\n",
            "Epoch 42/200\n",
            "413/413 [==============================] - 1s 2ms/step - loss: 1.3260 - val_loss: 1.3803\n",
            "Epoch 43/200\n",
            "413/413 [==============================] - 1s 2ms/step - loss: 1.3261 - val_loss: 1.3805\n",
            "Epoch 44/200\n",
            "413/413 [==============================] - 1s 2ms/step - loss: 1.3260 - val_loss: 1.3805\n",
            "Epoch 45/200\n",
            "413/413 [==============================] - 1s 3ms/step - loss: 1.3260 - val_loss: 1.3807\n",
            "Epoch 46/200\n",
            "413/413 [==============================] - 1s 4ms/step - loss: 1.3260 - val_loss: 1.3805\n",
            "Epoch 47/200\n",
            "413/413 [==============================] - 1s 3ms/step - loss: 1.3260 - val_loss: 1.3806\n",
            "Epoch 48/200\n",
            "413/413 [==============================] - 1s 2ms/step - loss: 1.3260 - val_loss: 1.3804\n",
            "Epoch 49/200\n",
            "413/413 [==============================] - 1s 2ms/step - loss: 1.3261 - val_loss: 1.3806\n",
            "Epoch 50/200\n",
            "413/413 [==============================] - 1s 2ms/step - loss: 1.3260 - val_loss: 1.3805\n",
            "Epoch 51/200\n",
            "413/413 [==============================] - 1s 2ms/step - loss: 1.3260 - val_loss: 1.3804\n",
            "Epoch 52/200\n",
            "413/413 [==============================] - 1s 2ms/step - loss: 1.3260 - val_loss: 1.3805\n",
            "Epoch 53/200\n",
            "413/413 [==============================] - 1s 2ms/step - loss: 1.3260 - val_loss: 1.3809\n",
            "Epoch 54/200\n",
            "413/413 [==============================] - 1s 2ms/step - loss: 1.3260 - val_loss: 1.3807\n",
            "Epoch 55/200\n",
            "413/413 [==============================] - 1s 2ms/step - loss: 1.3260 - val_loss: 1.3810\n",
            "Epoch 56/200\n",
            "413/413 [==============================] - 1s 2ms/step - loss: 1.3260 - val_loss: 1.3808\n",
            "Epoch 57/200\n",
            "413/413 [==============================] - 1s 3ms/step - loss: 1.3260 - val_loss: 1.3808\n",
            "Epoch 58/200\n",
            "413/413 [==============================] - 2s 4ms/step - loss: 1.3260 - val_loss: 1.3807\n",
            "Epoch 59/200\n",
            "413/413 [==============================] - 1s 3ms/step - loss: 1.3260 - val_loss: 1.3806\n",
            "Epoch 60/200\n",
            "413/413 [==============================] - 1s 2ms/step - loss: 1.3260 - val_loss: 1.3805\n",
            "Epoch 61/200\n",
            "413/413 [==============================] - 1s 2ms/step - loss: 1.3260 - val_loss: 1.3806\n",
            "Epoch 62/200\n",
            "413/413 [==============================] - 1s 2ms/step - loss: 1.3260 - val_loss: 1.3810\n",
            "Epoch 63/200\n",
            "413/413 [==============================] - 1s 2ms/step - loss: 1.3260 - val_loss: 1.3807\n",
            "Epoch 64/200\n",
            "413/413 [==============================] - 1s 2ms/step - loss: 1.3260 - val_loss: 1.3804\n",
            "Epoch 65/200\n",
            "413/413 [==============================] - 1s 2ms/step - loss: 1.3260 - val_loss: 1.3805\n",
            "Epoch 66/200\n",
            "413/413 [==============================] - 1s 2ms/step - loss: 1.3260 - val_loss: 1.3809\n",
            "Epoch 67/200\n",
            "413/413 [==============================] - 1s 2ms/step - loss: 1.3260 - val_loss: 1.3804\n",
            "Epoch 68/200\n",
            "413/413 [==============================] - 1s 2ms/step - loss: 1.3260 - val_loss: 1.3807\n",
            "Epoch 69/200\n",
            "413/413 [==============================] - 1s 2ms/step - loss: 1.3261 - val_loss: 1.3806\n",
            "Epoch 70/200\n",
            "413/413 [==============================] - 1s 3ms/step - loss: 1.3259 - val_loss: 1.3808\n",
            "Epoch 71/200\n",
            "413/413 [==============================] - 2s 4ms/step - loss: 1.3260 - val_loss: 1.3806\n",
            "Epoch 72/200\n",
            "413/413 [==============================] - 1s 3ms/step - loss: 1.3260 - val_loss: 1.3806\n",
            "Epoch 73/200\n",
            "413/413 [==============================] - 1s 2ms/step - loss: 1.3259 - val_loss: 1.3810\n",
            "Epoch 74/200\n",
            "413/413 [==============================] - 1s 2ms/step - loss: 1.3260 - val_loss: 1.3806\n",
            "Epoch 75/200\n",
            "413/413 [==============================] - 1s 2ms/step - loss: 1.3260 - val_loss: 1.3804\n",
            "Epoch 76/200\n",
            "413/413 [==============================] - 1s 2ms/step - loss: 1.3260 - val_loss: 1.3804\n",
            "Epoch 77/200\n",
            "413/413 [==============================] - 1s 2ms/step - loss: 1.3260 - val_loss: 1.3807\n",
            "Epoch 78/200\n",
            "413/413 [==============================] - 1s 2ms/step - loss: 1.3260 - val_loss: 1.3808\n",
            "Epoch 79/200\n",
            "413/413 [==============================] - 1s 2ms/step - loss: 1.3260 - val_loss: 1.3804\n",
            "Epoch 80/200\n",
            "413/413 [==============================] - 1s 2ms/step - loss: 1.3260 - val_loss: 1.3805\n",
            "Epoch 81/200\n",
            "413/413 [==============================] - 1s 2ms/step - loss: 1.3259 - val_loss: 1.3802\n",
            "Epoch 82/200\n",
            "413/413 [==============================] - 1s 3ms/step - loss: 1.3261 - val_loss: 1.3805\n",
            "Epoch 83/200\n",
            "413/413 [==============================] - 1s 3ms/step - loss: 1.3260 - val_loss: 1.3809\n",
            "Epoch 84/200\n",
            "413/413 [==============================] - 2s 4ms/step - loss: 1.3260 - val_loss: 1.3807\n",
            "Epoch 85/200\n",
            "413/413 [==============================] - 1s 3ms/step - loss: 1.3260 - val_loss: 1.3804\n",
            "Epoch 86/200\n",
            "413/413 [==============================] - 1s 2ms/step - loss: 1.3260 - val_loss: 1.3812\n",
            "Epoch 87/200\n",
            "413/413 [==============================] - 1s 2ms/step - loss: 1.3260 - val_loss: 1.3806\n",
            "Epoch 88/200\n",
            "413/413 [==============================] - 1s 2ms/step - loss: 1.3261 - val_loss: 1.3808\n",
            "Epoch 89/200\n",
            "413/413 [==============================] - 1s 2ms/step - loss: 1.3260 - val_loss: 1.3812\n",
            "Epoch 90/200\n",
            "413/413 [==============================] - 1s 2ms/step - loss: 1.3260 - val_loss: 1.3806\n",
            "Epoch 91/200\n",
            "413/413 [==============================] - 1s 2ms/step - loss: 1.3260 - val_loss: 1.3808\n",
            "Epoch 92/200\n",
            "413/413 [==============================] - 1s 2ms/step - loss: 1.3260 - val_loss: 1.3805\n",
            "Epoch 93/200\n",
            "413/413 [==============================] - 1s 2ms/step - loss: 1.3260 - val_loss: 1.3806\n",
            "Epoch 94/200\n",
            "413/413 [==============================] - 1s 2ms/step - loss: 1.3260 - val_loss: 1.3807\n",
            "Epoch 95/200\n",
            "413/413 [==============================] - 1s 3ms/step - loss: 1.3260 - val_loss: 1.3806\n",
            "Epoch 96/200\n",
            "413/413 [==============================] - 1s 3ms/step - loss: 1.3261 - val_loss: 1.3804\n",
            "Epoch 97/200\n",
            "413/413 [==============================] - 2s 4ms/step - loss: 1.3260 - val_loss: 1.3811\n",
            "Epoch 98/200\n",
            "413/413 [==============================] - 1s 3ms/step - loss: 1.3260 - val_loss: 1.3805\n",
            "Epoch 99/200\n",
            "413/413 [==============================] - 1s 2ms/step - loss: 1.3260 - val_loss: 1.3809\n",
            "Epoch 100/200\n",
            "413/413 [==============================] - 1s 2ms/step - loss: 1.3260 - val_loss: 1.3811\n",
            "Epoch 101/200\n",
            "413/413 [==============================] - 1s 3ms/step - loss: 1.3260 - val_loss: 1.3805\n",
            "Epoch 102/200\n",
            "413/413 [==============================] - 1s 2ms/step - loss: 1.3260 - val_loss: 1.3805\n",
            "Epoch 103/200\n",
            "413/413 [==============================] - 1s 2ms/step - loss: 1.3260 - val_loss: 1.3808\n",
            "Epoch 104/200\n",
            "413/413 [==============================] - 1s 2ms/step - loss: 1.3261 - val_loss: 1.3805\n",
            "Epoch 105/200\n",
            "413/413 [==============================] - 1s 2ms/step - loss: 1.3260 - val_loss: 1.3807\n",
            "Epoch 106/200\n",
            "413/413 [==============================] - 1s 2ms/step - loss: 1.3260 - val_loss: 1.3809\n",
            "Epoch 107/200\n",
            "413/413 [==============================] - 1s 3ms/step - loss: 1.3260 - val_loss: 1.3806\n",
            "Epoch 108/200\n",
            "413/413 [==============================] - 2s 4ms/step - loss: 1.3260 - val_loss: 1.3812\n",
            "Epoch 109/200\n",
            "413/413 [==============================] - 2s 4ms/step - loss: 1.3260 - val_loss: 1.3811\n",
            "Epoch 110/200\n",
            "413/413 [==============================] - 1s 2ms/step - loss: 1.3260 - val_loss: 1.3809\n",
            "Epoch 111/200\n",
            "413/413 [==============================] - 1s 2ms/step - loss: 1.3261 - val_loss: 1.3806\n",
            "Epoch 112/200\n",
            "413/413 [==============================] - 1s 2ms/step - loss: 1.3259 - val_loss: 1.3803\n",
            "Epoch 113/200\n",
            "413/413 [==============================] - 1s 2ms/step - loss: 1.3260 - val_loss: 1.3802\n",
            "Epoch 114/200\n",
            "413/413 [==============================] - 1s 2ms/step - loss: 1.3259 - val_loss: 1.3809\n",
            "Epoch 115/200\n",
            "413/413 [==============================] - 1s 2ms/step - loss: 1.3260 - val_loss: 1.3811\n",
            "Epoch 116/200\n",
            "413/413 [==============================] - 1s 2ms/step - loss: 1.3260 - val_loss: 1.3809\n",
            "Epoch 117/200\n",
            "413/413 [==============================] - 1s 2ms/step - loss: 1.3260 - val_loss: 1.3806\n",
            "Epoch 118/200\n",
            "413/413 [==============================] - 1s 2ms/step - loss: 1.3259 - val_loss: 1.3806\n",
            "Epoch 119/200\n",
            "413/413 [==============================] - 1s 2ms/step - loss: 1.3260 - val_loss: 1.3808\n",
            "Epoch 120/200\n",
            "413/413 [==============================] - 1s 3ms/step - loss: 1.3260 - val_loss: 1.3808\n",
            "Epoch 121/200\n",
            "413/413 [==============================] - 2s 4ms/step - loss: 1.3261 - val_loss: 1.3808\n",
            "Epoch 122/200\n",
            "413/413 [==============================] - 1s 3ms/step - loss: 1.3260 - val_loss: 1.3805\n",
            "Epoch 123/200\n",
            "413/413 [==============================] - 1s 2ms/step - loss: 1.3260 - val_loss: 1.3805\n",
            "Epoch 124/200\n",
            "413/413 [==============================] - 1s 2ms/step - loss: 1.3260 - val_loss: 1.3806\n",
            "Epoch 125/200\n",
            "413/413 [==============================] - 1s 2ms/step - loss: 1.3260 - val_loss: 1.3807\n",
            "Epoch 126/200\n",
            "413/413 [==============================] - 1s 2ms/step - loss: 1.3260 - val_loss: 1.3806\n",
            "Epoch 127/200\n",
            "413/413 [==============================] - 1s 2ms/step - loss: 1.3260 - val_loss: 1.3809\n",
            "Epoch 128/200\n",
            "413/413 [==============================] - 1s 2ms/step - loss: 1.3260 - val_loss: 1.3805\n",
            "Epoch 129/200\n",
            "413/413 [==============================] - 1s 2ms/step - loss: 1.3259 - val_loss: 1.3815\n",
            "Epoch 130/200\n",
            "413/413 [==============================] - 1s 2ms/step - loss: 1.3261 - val_loss: 1.3807\n",
            "Epoch 131/200\n",
            "413/413 [==============================] - 1s 2ms/step - loss: 1.3260 - val_loss: 1.3806\n",
            "Epoch 132/200\n",
            "413/413 [==============================] - 1s 2ms/step - loss: 1.3261 - val_loss: 1.3805\n",
            "Epoch 133/200\n",
            "413/413 [==============================] - 1s 3ms/step - loss: 1.3260 - val_loss: 1.3804\n",
            "Epoch 134/200\n",
            "413/413 [==============================] - 1s 4ms/step - loss: 1.3260 - val_loss: 1.3805\n",
            "Epoch 135/200\n",
            "413/413 [==============================] - 1s 3ms/step - loss: 1.3260 - val_loss: 1.3804\n",
            "Epoch 136/200\n",
            "413/413 [==============================] - 1s 2ms/step - loss: 1.3260 - val_loss: 1.3803\n",
            "Epoch 137/200\n",
            "413/413 [==============================] - 1s 2ms/step - loss: 1.3260 - val_loss: 1.3806\n",
            "Epoch 138/200\n",
            "413/413 [==============================] - 1s 2ms/step - loss: 1.3260 - val_loss: 1.3806\n",
            "Epoch 139/200\n",
            "413/413 [==============================] - 1s 2ms/step - loss: 1.3261 - val_loss: 1.3805\n",
            "Epoch 140/200\n",
            "413/413 [==============================] - 1s 2ms/step - loss: 1.3260 - val_loss: 1.3805\n",
            "Epoch 141/200\n",
            "413/413 [==============================] - 1s 2ms/step - loss: 1.3260 - val_loss: 1.3808\n",
            "Epoch 142/200\n",
            "413/413 [==============================] - 1s 2ms/step - loss: 1.3260 - val_loss: 1.3804\n",
            "Epoch 143/200\n",
            "413/413 [==============================] - 1s 2ms/step - loss: 1.3260 - val_loss: 1.3809\n",
            "Epoch 144/200\n",
            "413/413 [==============================] - 1s 2ms/step - loss: 1.3259 - val_loss: 1.3804\n",
            "Epoch 145/200\n",
            "413/413 [==============================] - 1s 3ms/step - loss: 1.3260 - val_loss: 1.3807\n",
            "Epoch 146/200\n",
            "413/413 [==============================] - 1s 4ms/step - loss: 1.3260 - val_loss: 1.3806\n",
            "Epoch 147/200\n",
            "413/413 [==============================] - 2s 4ms/step - loss: 1.3260 - val_loss: 1.3810\n",
            "Epoch 148/200\n",
            "413/413 [==============================] - 1s 2ms/step - loss: 1.3260 - val_loss: 1.3809\n",
            "Epoch 149/200\n",
            "413/413 [==============================] - 1s 2ms/step - loss: 1.3260 - val_loss: 1.3810\n",
            "Epoch 150/200\n",
            "413/413 [==============================] - 1s 2ms/step - loss: 1.3260 - val_loss: 1.3808\n",
            "Epoch 151/200\n",
            "413/413 [==============================] - 1s 3ms/step - loss: 1.3260 - val_loss: 1.3807\n",
            "Epoch 152/200\n",
            "413/413 [==============================] - 1s 2ms/step - loss: 1.3260 - val_loss: 1.3805\n",
            "Epoch 153/200\n",
            "413/413 [==============================] - 1s 2ms/step - loss: 1.3260 - val_loss: 1.3806\n",
            "Epoch 154/200\n",
            "413/413 [==============================] - 1s 2ms/step - loss: 1.3259 - val_loss: 1.3811\n",
            "Epoch 155/200\n",
            "413/413 [==============================] - 1s 2ms/step - loss: 1.3260 - val_loss: 1.3805\n",
            "Epoch 156/200\n",
            "413/413 [==============================] - 1s 2ms/step - loss: 1.3260 - val_loss: 1.3807\n",
            "Epoch 157/200\n",
            "413/413 [==============================] - 1s 3ms/step - loss: 1.3260 - val_loss: 1.3804\n",
            "Epoch 158/200\n",
            "413/413 [==============================] - 1s 4ms/step - loss: 1.3260 - val_loss: 1.3804\n",
            "Epoch 159/200\n",
            "413/413 [==============================] - 2s 4ms/step - loss: 1.3260 - val_loss: 1.3805\n",
            "Epoch 160/200\n",
            "413/413 [==============================] - 1s 3ms/step - loss: 1.3260 - val_loss: 1.3808\n",
            "Epoch 161/200\n",
            "413/413 [==============================] - 1s 2ms/step - loss: 1.3260 - val_loss: 1.3805\n",
            "Epoch 162/200\n",
            "413/413 [==============================] - 1s 2ms/step - loss: 1.3260 - val_loss: 1.3808\n",
            "Epoch 163/200\n",
            "413/413 [==============================] - 1s 2ms/step - loss: 1.3260 - val_loss: 1.3807\n",
            "Epoch 164/200\n",
            "413/413 [==============================] - 1s 2ms/step - loss: 1.3260 - val_loss: 1.3808\n",
            "Epoch 165/200\n",
            "413/413 [==============================] - 1s 2ms/step - loss: 1.3259 - val_loss: 1.3803\n",
            "Epoch 166/200\n",
            "413/413 [==============================] - 1s 2ms/step - loss: 1.3260 - val_loss: 1.3802\n",
            "Epoch 167/200\n",
            "413/413 [==============================] - 1s 2ms/step - loss: 1.3260 - val_loss: 1.3804\n",
            "Epoch 168/200\n",
            "413/413 [==============================] - 1s 2ms/step - loss: 1.3260 - val_loss: 1.3806\n",
            "Epoch 169/200\n",
            "413/413 [==============================] - 1s 2ms/step - loss: 1.3260 - val_loss: 1.3806\n",
            "Epoch 170/200\n",
            "413/413 [==============================] - 1s 3ms/step - loss: 1.3260 - val_loss: 1.3805\n",
            "Epoch 171/200\n",
            "413/413 [==============================] - 1s 3ms/step - loss: 1.3261 - val_loss: 1.3805\n",
            "Epoch 172/200\n",
            "413/413 [==============================] - 1s 3ms/step - loss: 1.3260 - val_loss: 1.3808\n",
            "Epoch 173/200\n",
            "413/413 [==============================] - 1s 2ms/step - loss: 1.3261 - val_loss: 1.3805\n",
            "Epoch 174/200\n",
            "413/413 [==============================] - 1s 2ms/step - loss: 1.3260 - val_loss: 1.3807\n",
            "Epoch 175/200\n",
            "413/413 [==============================] - 1s 2ms/step - loss: 1.3259 - val_loss: 1.3804\n",
            "Epoch 176/200\n",
            "413/413 [==============================] - 1s 2ms/step - loss: 1.3260 - val_loss: 1.3805\n",
            "Epoch 177/200\n",
            "413/413 [==============================] - 1s 2ms/step - loss: 1.3260 - val_loss: 1.3804\n",
            "Epoch 178/200\n",
            "413/413 [==============================] - 1s 2ms/step - loss: 1.3260 - val_loss: 1.3808\n",
            "Epoch 179/200\n",
            "413/413 [==============================] - 1s 2ms/step - loss: 1.3260 - val_loss: 1.3808\n",
            "Epoch 180/200\n",
            "413/413 [==============================] - 1s 2ms/step - loss: 1.3259 - val_loss: 1.3802\n",
            "Epoch 181/200\n",
            "413/413 [==============================] - 1s 2ms/step - loss: 1.3260 - val_loss: 1.3809\n",
            "Epoch 182/200\n",
            "413/413 [==============================] - 1s 3ms/step - loss: 1.3259 - val_loss: 1.3803\n",
            "Epoch 183/200\n",
            "413/413 [==============================] - 1s 3ms/step - loss: 1.3260 - val_loss: 1.3807\n",
            "Epoch 184/200\n",
            "413/413 [==============================] - 1s 3ms/step - loss: 1.3260 - val_loss: 1.3803\n",
            "Epoch 185/200\n",
            "413/413 [==============================] - 1s 3ms/step - loss: 1.3260 - val_loss: 1.3806\n",
            "Epoch 186/200\n",
            "413/413 [==============================] - 1s 2ms/step - loss: 1.3260 - val_loss: 1.3804\n",
            "Epoch 187/200\n",
            "413/413 [==============================] - 1s 2ms/step - loss: 1.3260 - val_loss: 1.3807\n",
            "Epoch 188/200\n",
            "413/413 [==============================] - 1s 3ms/step - loss: 1.3260 - val_loss: 1.3806\n",
            "Epoch 189/200\n",
            "413/413 [==============================] - 1s 2ms/step - loss: 1.3260 - val_loss: 1.3809\n",
            "Epoch 190/200\n",
            "413/413 [==============================] - 1s 2ms/step - loss: 1.3260 - val_loss: 1.3803\n",
            "Epoch 191/200\n",
            "413/413 [==============================] - 1s 3ms/step - loss: 1.3260 - val_loss: 1.3808\n",
            "Epoch 192/200\n",
            "413/413 [==============================] - 1s 2ms/step - loss: 1.3260 - val_loss: 1.3808\n",
            "Epoch 193/200\n",
            "413/413 [==============================] - 1s 2ms/step - loss: 1.3260 - val_loss: 1.3806\n",
            "Epoch 194/200\n",
            "413/413 [==============================] - 1s 3ms/step - loss: 1.3260 - val_loss: 1.3810\n",
            "Epoch 195/200\n",
            "413/413 [==============================] - 2s 4ms/step - loss: 1.3260 - val_loss: 1.3806\n",
            "Epoch 196/200\n",
            "413/413 [==============================] - 2s 6ms/step - loss: 1.3260 - val_loss: 1.3809\n",
            "Epoch 197/200\n",
            "413/413 [==============================] - 1s 3ms/step - loss: 1.3258 - val_loss: 1.3801\n",
            "Epoch 198/200\n",
            "413/413 [==============================] - 1s 2ms/step - loss: 1.3261 - val_loss: 1.3804\n",
            "Epoch 199/200\n",
            "413/413 [==============================] - 1s 2ms/step - loss: 1.3261 - val_loss: 1.3808\n",
            "Epoch 200/200\n",
            "413/413 [==============================] - 1s 2ms/step - loss: 1.3260 - val_loss: 1.3809\n"
          ]
        }
      ]
    },
    {
      "cell_type": "code",
      "source": [
        "import matplotlib.pyplot as plt\n",
        "\n",
        "pd.DataFrame(best_run_c.history).plot()\n",
        "plt.grid(True)\n",
        "plt.show()"
      ],
      "metadata": {
        "colab": {
          "base_uri": "https://localhost:8080/",
          "height": 430
        },
        "id": "2CbYo1ikj2Jn",
        "outputId": "1f5dc9ce-d741-4fec-ae05-f02af1b2bfc2"
      },
      "execution_count": 147,
      "outputs": [
        {
          "output_type": "display_data",
          "data": {
            "text/plain": [
              "<Figure size 640x480 with 1 Axes>"
            ],
            "image/png": "[encoded data removed]"
          },
          "metadata": {}
        }
      ]
    },
    {
      "cell_type": "markdown",
      "metadata": {
        "id": "9ef8sjangwo0"
      },
      "source": [
        "# 2. Binary classification DNN [17 marks]\n",
        "\n",
        "Consider the [Portuguese Bank Marketing Data Set](https://www.kaggle.com/yufengsui/portuguese-bank-marketing-data-set?select=bank_cleaned.csv) available at Kaggle. Download the `bank_cleaned.csv` file or from [Canvas](https://canvas.uw.edu/files/106328167/download?download_frd=1). Here we want to predict the success or failure of a bank marketing campaign using phone calls to promote a term deposit product. The target variable is `response_binary`.\n",
        "\n",
        "The following code preprocesses the data. The day and month have been converted into cyclical features(1st day of the month has equal distance to the 2nd and the 31st)."
      ]
    },
    {
      "cell_type": "code",
      "execution_count": 148,
      "metadata": {
        "scrolled": true,
        "colab": {
          "base_uri": "https://localhost:8080/",
          "height": 206
        },
        "id": "WtRbIsEsgwo0",
        "outputId": "dbcc48d4-757a-4565-9a52-3e0c09238fa9"
      },
      "outputs": [
        {
          "output_type": "execute_result",
          "data": {
            "text/plain": [
              "   age           job  marital  education default  balance housing loan  \\\n",
              "0   58    management  married   tertiary      no     2143     yes   no   \n",
              "1   44    technician   single  secondary      no       29     yes   no   \n",
              "2   33  entrepreneur  married  secondary      no        2     yes  yes   \n",
              "3   35    management  married   tertiary      no      231     yes   no   \n",
              "4   28    management   single   tertiary      no      447     yes  yes   \n",
              "\n",
              "   duration  campaign  pdays  previous poutcome  response_binary   day_sin  \\\n",
              "0      4.35         1     -1         0  unknown                0  0.724793   \n",
              "1      2.52         1     -1         0  unknown                0  0.724793   \n",
              "2      1.27         1     -1         0  unknown                0  0.724793   \n",
              "3      2.32         1     -1         0  unknown                0  0.724793   \n",
              "4      3.62         1     -1         0  unknown                0  0.724793   \n",
              "\n",
              "    day_cos  month_sin  month_cos  \n",
              "0  0.688967   0.866025       -0.5  \n",
              "1  0.688967   0.866025       -0.5  \n",
              "2  0.688967   0.866025       -0.5  \n",
              "3  0.688967   0.866025       -0.5  \n",
              "4  0.688967   0.866025       -0.5  "
            ],
            "text/html": [
              "\n",
              "  <div id=\"df-009b039a-9397-463c-939f-c10d6b96d068\" class=\"colab-df-container\">\n",
              "    <div>\n",
              "<style scoped>\n",
              "    .dataframe tbody tr th:only-of-type {\n",
              "        vertical-align: middle;\n",
              "    }\n",
              "\n",
              "    .dataframe tbody tr th {\n",
              "        vertical-align: top;\n",
              "    }\n",
              "\n",
              "    .dataframe thead th {\n",
              "        text-align: right;\n",
              "    }\n",
              "</style>\n",
              "<table border=\"1\" class=\"dataframe\">\n",
              "  <thead>\n",
              "    <tr style=\"text-align: right;\">\n",
              "      <th></th>\n",
              "      <th>age</th>\n",
              "      <th>job</th>\n",
              "      <th>marital</th>\n",
              "      <th>education</th>\n",
              "      <th>default</th>\n",
              "      <th>balance</th>\n",
              "      <th>housing</th>\n",
              "      <th>loan</th>\n",
              "      <th>duration</th>\n",
              "      <th>campaign</th>\n",
              "      <th>pdays</th>\n",
              "      <th>previous</th>\n",
              "      <th>poutcome</th>\n",
              "      <th>response_binary</th>\n",
              "      <th>day_sin</th>\n",
              "      <th>day_cos</th>\n",
              "      <th>month_sin</th>\n",
              "      <th>month_cos</th>\n",
              "    </tr>\n",
              "  </thead>\n",
              "  <tbody>\n",
              "    <tr>\n",
              "      <th>0</th>\n",
              "      <td>58</td>\n",
              "      <td>management</td>\n",
              "      <td>married</td>\n",
              "      <td>tertiary</td>\n",
              "      <td>no</td>\n",
              "      <td>2143</td>\n",
              "      <td>yes</td>\n",
              "      <td>no</td>\n",
              "      <td>4.35</td>\n",
              "      <td>1</td>\n",
              "      <td>-1</td>\n",
              "      <td>0</td>\n",
              "      <td>unknown</td>\n",
              "      <td>0</td>\n",
              "      <td>0.724793</td>\n",
              "      <td>0.688967</td>\n",
              "      <td>0.866025</td>\n",
              "      <td>-0.5</td>\n",
              "    </tr>\n",
              "    <tr>\n",
              "      <th>1</th>\n",
              "      <td>44</td>\n",
              "      <td>technician</td>\n",
              "      <td>single</td>\n",
              "      <td>secondary</td>\n",
              "      <td>no</td>\n",
              "      <td>29</td>\n",
              "      <td>yes</td>\n",
              "      <td>no</td>\n",
              "      <td>2.52</td>\n",
              "      <td>1</td>\n",
              "      <td>-1</td>\n",
              "      <td>0</td>\n",
              "      <td>unknown</td>\n",
              "      <td>0</td>\n",
              "      <td>0.724793</td>\n",
              "      <td>0.688967</td>\n",
              "      <td>0.866025</td>\n",
              "      <td>-0.5</td>\n",
              "    </tr>\n",
              "    <tr>\n",
              "      <th>2</th>\n",
              "      <td>33</td>\n",
              "      <td>entrepreneur</td>\n",
              "      <td>married</td>\n",
              "      <td>secondary</td>\n",
              "      <td>no</td>\n",
              "      <td>2</td>\n",
              "      <td>yes</td>\n",
              "      <td>yes</td>\n",
              "      <td>1.27</td>\n",
              "      <td>1</td>\n",
              "      <td>-1</td>\n",
              "      <td>0</td>\n",
              "      <td>unknown</td>\n",
              "      <td>0</td>\n",
              "      <td>0.724793</td>\n",
              "      <td>0.688967</td>\n",
              "      <td>0.866025</td>\n",
              "      <td>-0.5</td>\n",
              "    </tr>\n",
              "    <tr>\n",
              "      <th>3</th>\n",
              "      <td>35</td>\n",
              "      <td>management</td>\n",
              "      <td>married</td>\n",
              "      <td>tertiary</td>\n",
              "      <td>no</td>\n",
              "      <td>231</td>\n",
              "      <td>yes</td>\n",
              "      <td>no</td>\n",
              "      <td>2.32</td>\n",
              "      <td>1</td>\n",
              "      <td>-1</td>\n",
              "      <td>0</td>\n",
              "      <td>unknown</td>\n",
              "      <td>0</td>\n",
              "      <td>0.724793</td>\n",
              "      <td>0.688967</td>\n",
              "      <td>0.866025</td>\n",
              "      <td>-0.5</td>\n",
              "    </tr>\n",
              "    <tr>\n",
              "      <th>4</th>\n",
              "      <td>28</td>\n",
              "      <td>management</td>\n",
              "      <td>single</td>\n",
              "      <td>tertiary</td>\n",
              "      <td>no</td>\n",
              "      <td>447</td>\n",
              "      <td>yes</td>\n",
              "      <td>yes</td>\n",
              "      <td>3.62</td>\n",
              "      <td>1</td>\n",
              "      <td>-1</td>\n",
              "      <td>0</td>\n",
              "      <td>unknown</td>\n",
              "      <td>0</td>\n",
              "      <td>0.724793</td>\n",
              "      <td>0.688967</td>\n",
              "      <td>0.866025</td>\n",
              "      <td>-0.5</td>\n",
              "    </tr>\n",
              "  </tbody>\n",
              "</table>\n",
              "</div>\n",
              "    <div class=\"colab-df-buttons\">\n",
              "\n",
              "  <div class=\"colab-df-container\">\n",
              "    <button class=\"colab-df-convert\" onclick=\"convertToInteractive('df-009b039a-9397-463c-939f-c10d6b96d068')\"\n",
              "            title=\"Convert this dataframe to an interactive table.\"\n",
              "            style=\"display:none;\">\n",
              "\n",
              "  <svg xmlns=\"http://www.w3.org/2000/svg\" height=\"24px\" viewBox=\"0 -960 960 960\">\n",
              "    <path d=\"M120-120v-720h720v720H120Zm60-500h600v-160H180v160Zm220 220h160v-160H400v160Zm0 220h160v-160H400v160ZM180-400h160v-160H180v160Zm440 0h160v-160H620v160ZM180-180h160v-160H180v160Zm440 0h160v-160H620v160Z\"/>\n",
              "  </svg>\n",
              "    </button>\n",
              "\n",
              "  <style>\n",
              "    .colab-df-container {\n",
              "      display:flex;\n",
              "      gap: 12px;\n",
              "    }\n",
              "\n",
              "    .colab-df-convert {\n",
              "      background-color: #E8F0FE;\n",
              "      border: none;\n",
              "      border-radius: 50%;\n",
              "      cursor: pointer;\n",
              "      display: none;\n",
              "      fill: #1967D2;\n",
              "      height: 32px;\n",
              "      padding: 0 0 0 0;\n",
              "      width: 32px;\n",
              "    }\n",
              "\n",
              "    .colab-df-convert:hover {\n",
              "      background-color: #E2EBFA;\n",
              "      box-shadow: 0px 1px 2px rgba(60, 64, 67, 0.3), 0px 1px 3px 1px rgba(60, 64, 67, 0.15);\n",
              "      fill: #174EA6;\n",
              "    }\n",
              "\n",
              "    .colab-df-buttons div {\n",
              "      margin-bottom: 4px;\n",
              "    }\n",
              "\n",
              "    [theme=dark] .colab-df-convert {\n",
              "      background-color: #3B4455;\n",
              "      fill: #D2E3FC;\n",
              "    }\n",
              "\n",
              "    [theme=dark] .colab-df-convert:hover {\n",
              "      background-color: #434B5C;\n",
              "      box-shadow: 0px 1px 3px 1px rgba(0, 0, 0, 0.15);\n",
              "      filter: drop-shadow(0px 1px 2px rgba(0, 0, 0, 0.3));\n",
              "      fill: #FFFFFF;\n",
              "    }\n",
              "  </style>\n",
              "\n",
              "    <script>\n",
              "      const buttonEl =\n",
              "        document.querySelector('#df-009b039a-9397-463c-939f-c10d6b96d068 button.colab-df-convert');\n",
              "      buttonEl.style.display =\n",
              "        google.colab.kernel.accessAllowed ? 'block' : 'none';\n",
              "\n",
              "      async function convertToInteractive(key) {\n",
              "        const element = document.querySelector('#df-009b039a-9397-463c-939f-c10d6b96d068');\n",
              "        const dataTable =\n",
              "          await google.colab.kernel.invokeFunction('convertToInteractive',\n",
              "                                                    [key], {});\n",
              "        if (!dataTable) return;\n",
              "\n",
              "        const docLinkHtml = 'Like what you see? Visit the ' +\n",
              "          '<a target=\"_blank\" href=https://colab.research.google.com/notebooks/data_table.ipynb>data table notebook</a>'\n",
              "          + ' to learn more about interactive tables.';\n",
              "        element.innerHTML = '';\n",
              "        dataTable['output_type'] = 'display_data';\n",
              "        await google.colab.output.renderOutput(dataTable, element);\n",
              "        const docLink = document.createElement('div');\n",
              "        docLink.innerHTML = docLinkHtml;\n",
              "        element.appendChild(docLink);\n",
              "      }\n",
              "    </script>\n",
              "  </div>\n",
              "\n",
              "\n",
              "<div id=\"df-859ddc2c-5c10-43e1-ad7a-68a8c9259aa8\">\n",
              "  <button class=\"colab-df-quickchart\" onclick=\"quickchart('df-859ddc2c-5c10-43e1-ad7a-68a8c9259aa8')\"\n",
              "            title=\"Suggest charts\"\n",
              "            style=\"display:none;\">\n",
              "\n",
              "<svg xmlns=\"http://www.w3.org/2000/svg\" height=\"24px\"viewBox=\"0 0 24 24\"\n",
              "     width=\"24px\">\n",
              "    <g>\n",
              "        <path d=\"M19 3H5c-1.1 0-2 .9-2 2v14c0 1.1.9 2 2 2h14c1.1 0 2-.9 2-2V5c0-1.1-.9-2-2-2zM9 17H7v-7h2v7zm4 0h-2V7h2v10zm4 0h-2v-4h2v4z\"/>\n",
              "    </g>\n",
              "</svg>\n",
              "  </button>\n",
              "\n",
              "<style>\n",
              "  .colab-df-quickchart {\n",
              "      --bg-color: #E8F0FE;\n",
              "      --fill-color: #1967D2;\n",
              "      --hover-bg-color: #E2EBFA;\n",
              "      --hover-fill-color: #174EA6;\n",
              "      --disabled-fill-color: #AAA;\n",
              "      --disabled-bg-color: #DDD;\n",
              "  }\n",
              "\n",
              "  [theme=dark] .colab-df-quickchart {\n",
              "      --bg-color: #3B4455;\n",
              "      --fill-color: #D2E3FC;\n",
              "      --hover-bg-color: #434B5C;\n",
              "      --hover-fill-color: #FFFFFF;\n",
              "      --disabled-bg-color: #3B4455;\n",
              "      --disabled-fill-color: #666;\n",
              "  }\n",
              "\n",
              "  .colab-df-quickchart {\n",
              "    background-color: var(--bg-color);\n",
              "    border: none;\n",
              "    border-radius: 50%;\n",
              "    cursor: pointer;\n",
              "    display: none;\n",
              "    fill: var(--fill-color);\n",
              "    height: 32px;\n",
              "    padding: 0;\n",
              "    width: 32px;\n",
              "  }\n",
              "\n",
              "  .colab-df-quickchart:hover {\n",
              "    background-color: var(--hover-bg-color);\n",
              "    box-shadow: 0 1px 2px rgba(60, 64, 67, 0.3), 0 1px 3px 1px rgba(60, 64, 67, 0.15);\n",
              "    fill: var(--button-hover-fill-color);\n",
              "  }\n",
              "\n",
              "  .colab-df-quickchart-complete:disabled,\n",
              "  .colab-df-quickchart-complete:disabled:hover {\n",
              "    background-color: var(--disabled-bg-color);\n",
              "    fill: var(--disabled-fill-color);\n",
              "    box-shadow: none;\n",
              "  }\n",
              "\n",
              "  .colab-df-spinner {\n",
              "    border: 2px solid var(--fill-color);\n",
              "    border-color: transparent;\n",
              "    border-bottom-color: var(--fill-color);\n",
              "    animation:\n",
              "      spin 1s steps(1) infinite;\n",
              "  }\n",
              "\n",
              "  @keyframes spin {\n",
              "    0% {\n",
              "      border-color: transparent;\n",
              "      border-bottom-color: var(--fill-color);\n",
              "      border-left-color: var(--fill-color);\n",
              "    }\n",
              "    20% {\n",
              "      border-color: transparent;\n",
              "      border-left-color: var(--fill-color);\n",
              "      border-top-color: var(--fill-color);\n",
              "    }\n",
              "    30% {\n",
              "      border-color: transparent;\n",
              "      border-left-color: var(--fill-color);\n",
              "      border-top-color: var(--fill-color);\n",
              "      border-right-color: var(--fill-color);\n",
              "    }\n",
              "    40% {\n",
              "      border-color: transparent;\n",
              "      border-right-color: var(--fill-color);\n",
              "      border-top-color: var(--fill-color);\n",
              "    }\n",
              "    60% {\n",
              "      border-color: transparent;\n",
              "      border-right-color: var(--fill-color);\n",
              "    }\n",
              "    80% {\n",
              "      border-color: transparent;\n",
              "      border-right-color: var(--fill-color);\n",
              "      border-bottom-color: var(--fill-color);\n",
              "    }\n",
              "    90% {\n",
              "      border-color: transparent;\n",
              "      border-bottom-color: var(--fill-color);\n",
              "    }\n",
              "  }\n",
              "</style>\n",
              "\n",
              "  <script>\n",
              "    async function quickchart(key) {\n",
              "      const quickchartButtonEl =\n",
              "        document.querySelector('#' + key + ' button');\n",
              "      quickchartButtonEl.disabled = true;  // To prevent multiple clicks.\n",
              "      quickchartButtonEl.classList.add('colab-df-spinner');\n",
              "      try {\n",
              "        const charts = await google.colab.kernel.invokeFunction(\n",
              "            'suggestCharts', [key], {});\n",
              "      } catch (error) {\n",
              "        console.error('Error during call to suggestCharts:', error);\n",
              "      }\n",
              "      quickchartButtonEl.classList.remove('colab-df-spinner');\n",
              "      quickchartButtonEl.classList.add('colab-df-quickchart-complete');\n",
              "    }\n",
              "    (() => {\n",
              "      let quickchartButtonEl =\n",
              "        document.querySelector('#df-859ddc2c-5c10-43e1-ad7a-68a8c9259aa8 button');\n",
              "      quickchartButtonEl.style.display =\n",
              "        google.colab.kernel.accessAllowed ? 'block' : 'none';\n",
              "    })();\n",
              "  </script>\n",
              "</div>\n",
              "    </div>\n",
              "  </div>\n"
            ],
            "application/vnd.google.colaboratory.intrinsic+json": {
              "type": "dataframe",
              "variable_name": "df",
              "summary": "{\n  \"name\": \"df\",\n  \"rows\": 40841,\n  \"fields\": [\n    {\n      \"column\": \"age\",\n      \"properties\": {\n        \"dtype\": \"number\",\n        \"std\": 10,\n        \"min\": 18,\n        \"max\": 95,\n        \"num_unique_values\": 75,\n        \"samples\": [\n          28,\n          94,\n          57\n        ],\n        \"semantic_type\": \"\",\n        \"description\": \"\"\n      }\n    },\n    {\n      \"column\": \"job\",\n      \"properties\": {\n        \"dtype\": \"category\",\n        \"num_unique_values\": 12,\n        \"samples\": [\n          \"student\",\n          \"housemaid\",\n          \"management\"\n        ],\n        \"semantic_type\": \"\",\n        \"description\": \"\"\n      }\n    },\n    {\n      \"column\": \"marital\",\n      \"properties\": {\n        \"dtype\": \"category\",\n        \"num_unique_values\": 3,\n        \"samples\": [\n          \"married\",\n          \"single\",\n          \"divorced\"\n        ],\n        \"semantic_type\": \"\",\n        \"description\": \"\"\n      }\n    },\n    {\n      \"column\": \"education\",\n      \"properties\": {\n        \"dtype\": \"category\",\n        \"num_unique_values\": 3,\n        \"samples\": [\n          \"tertiary\",\n          \"secondary\",\n          \"primary\"\n        ],\n        \"semantic_type\": \"\",\n        \"description\": \"\"\n      }\n    },\n    {\n      \"column\": \"default\",\n      \"properties\": {\n        \"dtype\": \"category\",\n        \"num_unique_values\": 2,\n        \"samples\": [\n          \"yes\",\n          \"no\"\n        ],\n        \"semantic_type\": \"\",\n        \"description\": \"\"\n      }\n    },\n    {\n      \"column\": \"balance\",\n      \"properties\": {\n        \"dtype\": \"number\",\n        \"std\": 1712,\n        \"min\": -6847,\n        \"max\": 10443,\n        \"num_unique_values\": 6350,\n        \"samples\": [\n          341,\n          4924\n        ],\n        \"semantic_type\": \"\",\n        \"description\": \"\"\n      }\n    },\n    {\n      \"column\": \"housing\",\n      \"properties\": {\n        \"dtype\": \"category\",\n        \"num_unique_values\": 2,\n        \"samples\": [\n          \"no\",\n          \"yes\"\n        ],\n        \"semantic_type\": \"\",\n        \"description\": \"\"\n      }\n    },\n    {\n      \"column\": \"loan\",\n      \"properties\": {\n        \"dtype\": \"category\",\n        \"num_unique_values\": 2,\n        \"samples\": [\n          \"yes\",\n          \"no\"\n        ],\n        \"semantic_type\": \"\",\n        \"description\": \"\"\n      }\n    },\n    {\n      \"column\": \"duration\",\n      \"properties\": {\n        \"dtype\": \"number\",\n        \"std\": 4.305823262976869,\n        \"min\": 0.1,\n        \"max\": 81.97,\n        \"num_unique_values\": 1539,\n        \"samples\": [\n          19.65,\n          14.98\n        ],\n        \"semantic_type\": \"\",\n        \"description\": \"\"\n      }\n    },\n    {\n      \"column\": \"campaign\",\n      \"properties\": {\n        \"dtype\": \"number\",\n        \"std\": 3,\n        \"min\": 1,\n        \"max\": 58,\n        \"num_unique_values\": 47,\n        \"samples\": [\n          26,\n          27\n        ],\n        \"semantic_type\": \"\",\n        \"description\": \"\"\n      }\n    },\n    {\n      \"column\": \"pdays\",\n      \"properties\": {\n        \"dtype\": \"number\",\n        \"std\": 90,\n        \"min\": -1,\n        \"max\": 871,\n        \"num_unique_values\": 510,\n        \"samples\": [\n          749,\n          415\n        ],\n        \"semantic_type\": \"\",\n        \"description\": \"\"\n      }\n    },\n    {\n      \"column\": \"previous\",\n      \"properties\": {\n        \"dtype\": \"number\",\n        \"std\": 1,\n        \"min\": 0,\n        \"max\": 55,\n        \"num_unique_values\": 36,\n        \"samples\": [\n          35,\n          14\n        ],\n        \"semantic_type\": \"\",\n        \"description\": \"\"\n      }\n    },\n    {\n      \"column\": \"poutcome\",\n      \"properties\": {\n        \"dtype\": \"category\",\n        \"num_unique_values\": 3,\n        \"samples\": [\n          \"unknown\",\n          \"failure\"\n        ],\n        \"semantic_type\": \"\",\n        \"description\": \"\"\n      }\n    },\n    {\n      \"column\": \"response_binary\",\n      \"properties\": {\n        \"dtype\": \"number\",\n        \"std\": 0,\n        \"min\": 0,\n        \"max\": 1,\n        \"num_unique_values\": 2,\n        \"samples\": [\n          1,\n          0\n        ],\n        \"semantic_type\": \"\",\n        \"description\": \"\"\n      }\n    },\n    {\n      \"column\": \"day_sin\",\n      \"properties\": {\n        \"dtype\": \"number\",\n        \"std\": 0.6899274548234425,\n        \"min\": -0.9987165071710528,\n        \"max\": 0.9987165071710528,\n        \"num_unique_values\": 31,\n        \"samples\": [\n          0.0,\n          -0.848644257494751\n        ],\n        \"semantic_type\": \"\",\n        \"description\": \"\"\n      }\n    },\n    {\n      \"column\": \"day_cos\",\n      \"properties\": {\n        \"dtype\": \"number\",\n        \"std\": 0.7155421795239112,\n        \"min\": -0.9948693233918952,\n        \"max\": 1.0,\n        \"num_unique_values\": 25,\n        \"samples\": [\n          -0.9541392564000488,\n          0.9189578116202306\n        ],\n        \"semantic_type\": \"\",\n        \"description\": \"\"\n      }\n    },\n    {\n      \"column\": \"month_sin\",\n      \"properties\": {\n        \"dtype\": \"number\",\n        \"std\": 0.6356361123754175,\n        \"min\": -1.0,\n        \"max\": 1.0,\n        \"num_unique_values\": 12,\n        \"samples\": [\n          1.0,\n          0.8660254037844386\n        ],\n        \"semantic_type\": \"\",\n        \"description\": \"\"\n      }\n    },\n    {\n      \"column\": \"month_cos\",\n      \"properties\": {\n        \"dtype\": \"number\",\n        \"std\": 0.5991725772209167,\n        \"min\": -1.0,\n        \"max\": 1.0,\n        \"num_unique_values\": 12,\n        \"samples\": [\n          6.123233995736766e-17,\n          0.5000000000000001\n        ],\n        \"semantic_type\": \"\",\n        \"description\": \"\"\n      }\n    }\n  ]\n}"
            }
          },
          "metadata": {},
          "execution_count": 148
        }
      ],
      "source": [
        "df = pd.read_csv(\"bank_cleaned.csv\")\n",
        "\n",
        "month_dict = {\"jan\": 1, \"feb\": 2, \"mar\": 3, \"apr\": 4, \"may\": 5, \"jun\": 6,\n",
        "              \"jul\": 7, \"aug\": 8, \"sep\": 9, \"oct\": 10, \"nov\": 11, \"dec\": 12}\n",
        "day_rad = (df[\"day\"] - 1) * (2 * np.pi / 31)\n",
        "month_rad = (df[\"month\"].replace(month_dict) - 1) * (2 * np.pi / 12)\n",
        "df[\"day_sin\"] = np.sin(day_rad)\n",
        "df[\"day_cos\"] = np.cos(day_rad)\n",
        "df[\"month_sin\"] = np.sin(month_rad)\n",
        "df[\"month_cos\"]  = np.cos(month_rad)\n",
        "df.drop(columns=[\"Unnamed: 0\", \"month\", \"day\", \"response\"], axis=1, inplace=True)\n",
        "df.head()"
      ]
    },
    {
      "cell_type": "code",
      "execution_count": 149,
      "metadata": {
        "id": "mB6TnXvugwo1"
      },
      "outputs": [],
      "source": [
        "from sklearn.preprocessing import StandardScaler, OrdinalEncoder, OneHotEncoder\n",
        "from sklearn.compose import ColumnTransformer\n",
        "\n",
        "train_set_tmp, test_set = train_test_split(df, test_size=0.2, random_state=42)\n",
        "train_set, valid_set = train_test_split(train_set_tmp, test_size=0.2, random_state=42)\n",
        "\n",
        "X_train_raw = train_set.drop(\"response_binary\", axis=1).copy()\n",
        "y_train = train_set[\"response_binary\"].copy()\n",
        "X_valid_raw = valid_set.drop(\"response_binary\", axis=1).copy()\n",
        "y_valid = valid_set[\"response_binary\"].copy()\n",
        "X_test_raw = test_set.drop(\"response_binary\", axis=1).copy()\n",
        "y_test = test_set[\"response_binary\"].copy()\n",
        "\n",
        "num_attribs = list(X_train_raw._get_numeric_data().columns)\n",
        "cat_attribs = list(set(X_train_raw.columns) - set(num_attribs))\n",
        "\n",
        "cat_attribs_ord = ['default', 'housing', 'loan']\n",
        "cat_attribs_hot = ['job', 'marital', 'education', 'poutcome']\n",
        "\n",
        "full_pipeline = ColumnTransformer([\n",
        "        (\"num\", StandardScaler(), num_attribs),\n",
        "        (\"cat_hot\", OneHotEncoder(), cat_attribs_hot),\n",
        "        (\"cat_ord\", OrdinalEncoder(categories=[['no','yes'],['no','yes'],['no','yes']]), cat_attribs_ord)\n",
        "    ])\n",
        "\n",
        "X_train = full_pipeline.fit_transform(X_train_raw)\n",
        "X_valid = full_pipeline.transform(X_valid_raw)\n",
        "X_test = full_pipeline.transform(X_test_raw)"
      ]
    },
    {
      "cell_type": "markdown",
      "metadata": {
        "id": "DJWI-hWIgwo1"
      },
      "source": [
        "## (a) [4 marks]\n",
        "\n",
        "In the next part you will build and fit a DNN with 4 hidden layers of 100 neurons each. Use the following specifications:\n",
        "\n",
        "(i) He initialization and the Swish activation function.\n",
        "\n",
        "(ii) The output layer has 1 neuron with sigmoid activation.\n",
        "\n",
        "(iii) Compile with `loss=\"binary_crossentropy\"` and  `metrics=[\"AUC\"]`.\n",
        "\n",
        "Explain why the choices (i), (ii), and (iii) are justified.\n",
        "\n",
        "Also, state the proportion of sucesses in the training data."
      ]
    },
    {
      "cell_type": "markdown",
      "metadata": {
        "id": "sTiAE_Rigwo1"
      },
      "source": [
        "**[Add your solution here]**"
      ]
    },
    {
      "cell_type": "markdown",
      "source": [
        "### Justifications for Model Configuration\n",
        "\n",
        "#### (i) He Initialization and Swish Activation\n",
        "\n",
        "- **Swish Activation**: This activation function is optimal due to its ability to manage gradient issues more effectively compared to traditional functions like ReLU. Its continuous and smooth curve helps maintain active gradients throughout training, improving the model's capacity to learn complex patterns.\n",
        "\n",
        "- **He Initialization**: Ideal for layers with Swish or ReLU activations, He initialization helps maintain a consistent variance in neurons' outputs across different layers, which is crucial for stabilizing the gradient distributions in deep neural networks.\n",
        "\n",
        "#### (ii) Sigmoid Activation in Output Layer\n",
        "\n",
        "- **Sigmoid Function**: For binary classification tasks, the sigmoid function transforms the output into a probability score between 0 and 1. This is particularly useful for models where the output needs to reflect a probability of belonging to the default class, effectively categorizing the input into one of two possible classes based on a 0.5 threshold.\n",
        "\n",
        "#### (iii) Binary Crossentropy Loss and AUC Metric\n",
        "\n",
        "- **Binary Crossentropy**: This loss function is quintessential for binary classification as it compares the predicted probabilities directly with the actual binary labels, effectively measuring the error in probability terms.\n",
        "\n",
        "- **AUC Metric**: The AUC metric is superior in scenarios with imbalanced data. It assesses the model's capability to distinguish between classes without being biased towards the majority class, unlike accuracy which might be misleading in imbalanced situations.\n",
        "\n",
        "#### Proportion of Positive Instances in Training Data\n",
        "\n",
        "The training data's composition in terms of positive instances (labelled as \"1\") is critical for determining the initial effectiveness of the model and understanding how well the model might perform with naive predictions.\n"
      ],
      "metadata": {
        "id": "xQwxBc_jkaZ3"
      }
    },
    {
      "cell_type": "code",
      "source": [
        "sum(y_train==1)/len(y_train)"
      ],
      "metadata": {
        "colab": {
          "base_uri": "https://localhost:8080/"
        },
        "id": "wU3X50dwkbg_",
        "outputId": "26e06826-902b-4281-fc58-2552d5bb98fc"
      },
      "execution_count": 150,
      "outputs": [
        {
          "output_type": "execute_result",
          "data": {
            "text/plain": [
              "0.11168075907717029"
            ]
          },
          "metadata": {},
          "execution_count": 150
        }
      ]
    },
    {
      "cell_type": "markdown",
      "metadata": {
        "id": "XuyeFkCEgwo1"
      },
      "source": [
        "## (b) [3 marks]\n",
        "\n",
        "Train the model in (a) for 30 epochs and use exponential scheduling using the function below (`lr0=0.01`, `s=20`) and the NAG optimizer with `momentum=0.9`. Use a learning curve to comment on whether it is overfitting.\n",
        "\n",
        "At the start of fitting your model, run `reset_session()` given by the following code."
      ]
    },
    {
      "cell_type": "code",
      "execution_count": 151,
      "metadata": {
        "id": "lTEUPYJ3gwo1"
      },
      "outputs": [],
      "source": [
        "def reset_session(seed=42):\n",
        "    tf.random.set_seed(seed)\n",
        "    np.random.seed(seed)\n",
        "    tf.keras.backend.clear_session()\n",
        "\n",
        "def exponential_decay(lr0, s):\n",
        "    return lambda epoch: lr0 * 0.1**(epoch / s)"
      ]
    },
    {
      "cell_type": "markdown",
      "metadata": {
        "id": "g0n6DBclgwo1"
      },
      "source": [
        "**[Add your solution here]**"
      ]
    },
    {
      "cell_type": "code",
      "source": [
        "reset_session()\n",
        "\n",
        "model = tf.keras.models.Sequential()\n",
        "for n_hidden in (100, 100, 100, 100):\n",
        "    model.add(tf.keras.layers.Dense(n_hidden, activation=\"swish\",\n",
        "         kernel_initializer=\"he_normal\"))\n",
        "model.add(tf.keras.layers.Dense(1, activation=\"sigmoid\"))\n",
        "\n",
        "optimizer = tf.keras.optimizers.SGD(momentum=0.9, nesterov=True)\n",
        "model.compile(loss=\"binary_crossentropy\",\n",
        "              optimizer=optimizer,\n",
        "              metrics=[\"AUC\"])\n",
        "lr_scheduler = tf.keras.callbacks.LearningRateScheduler(exponential_decay(lr0=0.01,s=20))\n",
        "run_2b = model.fit(X_train, y_train, epochs=30,\n",
        "                   validation_data=(X_valid, y_valid),\n",
        "                   callbacks=[lr_scheduler])"
      ],
      "metadata": {
        "colab": {
          "base_uri": "https://localhost:8080/"
        },
        "id": "5Rqnhi8NpsT4",
        "outputId": "b4d97aa6-3cd5-4715-95e7-cf444cdcc4d6"
      },
      "execution_count": 152,
      "outputs": [
        {
          "output_type": "stream",
          "name": "stdout",
          "text": [
            "Epoch 1/30\n",
            "817/817 [==============================] - 5s 4ms/step - loss: 0.2425 - auc: 0.8784 - val_loss: 0.2265 - val_auc: 0.8982 - lr: 0.0100\n",
            "Epoch 2/30\n",
            "817/817 [==============================] - 2s 3ms/step - loss: 0.2193 - auc: 0.9056 - val_loss: 0.2216 - val_auc: 0.9007 - lr: 0.0089\n",
            "Epoch 3/30\n",
            "817/817 [==============================] - 2s 3ms/step - loss: 0.2142 - auc: 0.9113 - val_loss: 0.2187 - val_auc: 0.9052 - lr: 0.0079\n",
            "Epoch 4/30\n",
            "817/817 [==============================] - 2s 3ms/step - loss: 0.2102 - auc: 0.9150 - val_loss: 0.2172 - val_auc: 0.9069 - lr: 0.0071\n",
            "Epoch 5/30\n",
            "817/817 [==============================] - 3s 3ms/step - loss: 0.2072 - auc: 0.9187 - val_loss: 0.2128 - val_auc: 0.9110 - lr: 0.0063\n",
            "Epoch 6/30\n",
            "817/817 [==============================] - 4s 5ms/step - loss: 0.2040 - auc: 0.9216 - val_loss: 0.2141 - val_auc: 0.9104 - lr: 0.0056\n",
            "Epoch 7/30\n",
            "817/817 [==============================] - 2s 3ms/step - loss: 0.2022 - auc: 0.9228 - val_loss: 0.2094 - val_auc: 0.9144 - lr: 0.0050\n",
            "Epoch 8/30\n",
            "817/817 [==============================] - 2s 3ms/step - loss: 0.1997 - auc: 0.9254 - val_loss: 0.2106 - val_auc: 0.9129 - lr: 0.0045\n",
            "Epoch 9/30\n",
            "817/817 [==============================] - 2s 3ms/step - loss: 0.1979 - auc: 0.9270 - val_loss: 0.2089 - val_auc: 0.9158 - lr: 0.0040\n",
            "Epoch 10/30\n",
            "817/817 [==============================] - 2s 3ms/step - loss: 0.1962 - auc: 0.9284 - val_loss: 0.2085 - val_auc: 0.9160 - lr: 0.0035\n",
            "Epoch 11/30\n",
            "817/817 [==============================] - 3s 4ms/step - loss: 0.1945 - auc: 0.9300 - val_loss: 0.2090 - val_auc: 0.9147 - lr: 0.0032\n",
            "Epoch 12/30\n",
            "817/817 [==============================] - 2s 3ms/step - loss: 0.1931 - auc: 0.9306 - val_loss: 0.2094 - val_auc: 0.9144 - lr: 0.0028\n",
            "Epoch 13/30\n",
            "817/817 [==============================] - 2s 3ms/step - loss: 0.1919 - auc: 0.9319 - val_loss: 0.2104 - val_auc: 0.9149 - lr: 0.0025\n",
            "Epoch 14/30\n",
            "817/817 [==============================] - 2s 3ms/step - loss: 0.1911 - auc: 0.9323 - val_loss: 0.2093 - val_auc: 0.9149 - lr: 0.0022\n",
            "Epoch 15/30\n",
            "817/817 [==============================] - 2s 3ms/step - loss: 0.1898 - auc: 0.9335 - val_loss: 0.2091 - val_auc: 0.9155 - lr: 0.0020\n",
            "Epoch 16/30\n",
            "817/817 [==============================] - 3s 4ms/step - loss: 0.1886 - auc: 0.9346 - val_loss: 0.2090 - val_auc: 0.9153 - lr: 0.0018\n",
            "Epoch 17/30\n",
            "817/817 [==============================] - 3s 4ms/step - loss: 0.1877 - auc: 0.9352 - val_loss: 0.2097 - val_auc: 0.9149 - lr: 0.0016\n",
            "Epoch 18/30\n",
            "817/817 [==============================] - 2s 3ms/step - loss: 0.1868 - auc: 0.9358 - val_loss: 0.2080 - val_auc: 0.9161 - lr: 0.0014\n",
            "Epoch 19/30\n",
            "817/817 [==============================] - 2s 3ms/step - loss: 0.1862 - auc: 0.9362 - val_loss: 0.2087 - val_auc: 0.9163 - lr: 0.0013\n",
            "Epoch 20/30\n",
            "817/817 [==============================] - 2s 3ms/step - loss: 0.1854 - auc: 0.9369 - val_loss: 0.2085 - val_auc: 0.9160 - lr: 0.0011\n",
            "Epoch 21/30\n",
            "817/817 [==============================] - 2s 3ms/step - loss: 0.1847 - auc: 0.9373 - val_loss: 0.2088 - val_auc: 0.9157 - lr: 0.0010\n",
            "Epoch 22/30\n",
            "817/817 [==============================] - 4s 4ms/step - loss: 0.1841 - auc: 0.9380 - val_loss: 0.2082 - val_auc: 0.9163 - lr: 8.9125e-04\n",
            "Epoch 23/30\n",
            "817/817 [==============================] - 2s 3ms/step - loss: 0.1835 - auc: 0.9384 - val_loss: 0.2092 - val_auc: 0.9159 - lr: 7.9433e-04\n",
            "Epoch 24/30\n",
            "817/817 [==============================] - 2s 3ms/step - loss: 0.1830 - auc: 0.9386 - val_loss: 0.2095 - val_auc: 0.9154 - lr: 7.0795e-04\n",
            "Epoch 25/30\n",
            "817/817 [==============================] - 2s 3ms/step - loss: 0.1825 - auc: 0.9388 - val_loss: 0.2093 - val_auc: 0.9158 - lr: 6.3096e-04\n",
            "Epoch 26/30\n",
            "817/817 [==============================] - 2s 3ms/step - loss: 0.1822 - auc: 0.9392 - val_loss: 0.2092 - val_auc: 0.9152 - lr: 5.6234e-04\n",
            "Epoch 27/30\n",
            "817/817 [==============================] - 2s 3ms/step - loss: 0.1817 - auc: 0.9397 - val_loss: 0.2090 - val_auc: 0.9153 - lr: 5.0119e-04\n",
            "Epoch 28/30\n",
            "817/817 [==============================] - 4s 5ms/step - loss: 0.1814 - auc: 0.9399 - val_loss: 0.2089 - val_auc: 0.9162 - lr: 4.4668e-04\n",
            "Epoch 29/30\n",
            "817/817 [==============================] - 2s 3ms/step - loss: 0.1811 - auc: 0.9401 - val_loss: 0.2095 - val_auc: 0.9156 - lr: 3.9811e-04\n",
            "Epoch 30/30\n",
            "817/817 [==============================] - 2s 3ms/step - loss: 0.1807 - auc: 0.9404 - val_loss: 0.2099 - val_auc: 0.9160 - lr: 3.5481e-04\n"
          ]
        }
      ]
    },
    {
      "cell_type": "code",
      "source": [
        "run_history = {key: run_2b.history[key] for key in list(run_2b.history.keys())}\n",
        "\n",
        "history_df = pd.DataFrame(run_history)\n",
        "\n",
        "plt.figure()\n",
        "history_df.plot()\n",
        "plt.title('Training and Validation Metrics')\n",
        "plt.xlabel('Epochs')\n",
        "plt.legend(loc='upper right')\n",
        "plt.grid(True)\n",
        "plt.ylim(0, 1)\n",
        "plt.show()"
      ],
      "metadata": {
        "colab": {
          "base_uri": "https://localhost:8080/",
          "height": 489
        },
        "id": "K7F_qcX7puS1",
        "outputId": "dcb5c97d-3103-4352-a1f2-cc73e6a8b079"
      },
      "execution_count": 153,
      "outputs": [
        {
          "output_type": "display_data",
          "data": {
            "text/plain": [
              "<Figure size 640x480 with 0 Axes>"
            ]
          },
          "metadata": {}
        },
        {
          "output_type": "display_data",
          "data": {
            "text/plain": [
              "<Figure size 640x480 with 1 Axes>"
            ],
            "image/png": "[encoded data removed]"
          },
          "metadata": {}
        }
      ]
    },
    {
      "cell_type": "markdown",
      "metadata": {
        "id": "vgwJ0sQUgwo1"
      },
      "source": [
        "## (c) [8 marks]\n",
        "\n",
        "Fit separate models using the same specification as in (b) but with the following regularization techniques:\n",
        "\n",
        "(i) batch normalization,\n",
        "\n",
        "(ii) early stopping based on validation AUC with `patience=10` (look at the documentation and note the `mode` argument).\n",
        "\n",
        "(iii) $\\ell_2$ regularization with `l2=0.0002`,\n",
        "\n",
        "(iv) dropout with probability 0.02,\n",
        "\n",
        "(v) $\\ell_2$ regularization and early stopping both as above,\n",
        "\n",
        "(vi) batch normalization and dropout both as above.\n",
        "\n",
        "At the start of each one of the above models, run `reset_session()`.\n",
        "\n",
        "The performance measure is validation AUC. State this for the model in (b), and for each of the models here comment on whether it is better than the model in (b)."
      ]
    },
    {
      "cell_type": "markdown",
      "metadata": {
        "id": "9OiDz7w3gwo1"
      },
      "source": [
        "**[Add your solution here]**"
      ]
    },
    {
      "cell_type": "markdown",
      "source": [
        "(1) batch normalization,"
      ],
      "metadata": {
        "id": "cgHeTRpcp9Pr"
      }
    },
    {
      "cell_type": "code",
      "source": [
        "reset_session()"
      ],
      "metadata": {
        "id": "Yf674a7dqAAm"
      },
      "execution_count": 154,
      "outputs": []
    },
    {
      "cell_type": "code",
      "source": [
        "model_bn = tf.keras.models.Sequential()\n",
        "model_bn.add(tf.keras.layers.BatchNormalization())\n",
        "for n_hidden in (100, 100, 100, 100):\n",
        "    model_bn.add(tf.keras.layers.Dense(n_hidden, activation=\"swish\",\n",
        "           kernel_initializer=\"he_normal\"))\n",
        "    model_bn.add(tf.keras.layers.BatchNormalization())\n",
        "model_bn.add(tf.keras.layers.Dense(1, activation=\"sigmoid\"))\n",
        "optimizer = tf.keras.optimizers.SGD(momentum=0.9, nesterov=True)\n",
        "model_bn.compile(loss=\"binary_crossentropy\",\n",
        "                 optimizer=optimizer,\n",
        "                 metrics=[\"AUC\"])\n",
        "run = model_bn.fit(X_train, y_train, epochs=30,\n",
        "                   validation_data=(X_valid, y_valid),\n",
        "                   callbacks=[lr_scheduler])"
      ],
      "metadata": {
        "colab": {
          "base_uri": "https://localhost:8080/"
        },
        "id": "FRtbqeQkqBRJ",
        "outputId": "bde6d3d9-c54f-4db5-b2f9-27668b2f09d5"
      },
      "execution_count": 155,
      "outputs": [
        {
          "output_type": "stream",
          "name": "stdout",
          "text": [
            "Epoch 1/30\n",
            "817/817 [==============================] - 6s 5ms/step - loss: 0.2712 - auc: 0.8446 - val_loss: 0.2449 - val_auc: 0.8772 - lr: 0.0100\n",
            "Epoch 2/30\n",
            "817/817 [==============================] - 4s 5ms/step - loss: 0.2318 - auc: 0.8931 - val_loss: 0.2325 - val_auc: 0.8905 - lr: 0.0089\n",
            "Epoch 3/30\n",
            "817/817 [==============================] - 3s 4ms/step - loss: 0.2250 - auc: 0.9008 - val_loss: 0.2250 - val_auc: 0.8983 - lr: 0.0079\n",
            "Epoch 4/30\n",
            "817/817 [==============================] - 3s 4ms/step - loss: 0.2207 - auc: 0.9052 - val_loss: 0.2281 - val_auc: 0.8979 - lr: 0.0071\n",
            "Epoch 5/30\n",
            "817/817 [==============================] - 4s 5ms/step - loss: 0.2178 - auc: 0.9082 - val_loss: 0.2233 - val_auc: 0.9004 - lr: 0.0063\n",
            "Epoch 6/30\n",
            "817/817 [==============================] - 3s 4ms/step - loss: 0.2134 - auc: 0.9131 - val_loss: 0.2245 - val_auc: 0.9006 - lr: 0.0056\n",
            "Epoch 7/30\n",
            "817/817 [==============================] - 3s 4ms/step - loss: 0.2107 - auc: 0.9151 - val_loss: 0.2224 - val_auc: 0.9030 - lr: 0.0050\n",
            "Epoch 8/30\n",
            "817/817 [==============================] - 3s 4ms/step - loss: 0.2076 - auc: 0.9183 - val_loss: 0.2229 - val_auc: 0.9031 - lr: 0.0045\n",
            "Epoch 9/30\n",
            "817/817 [==============================] - 5s 6ms/step - loss: 0.2049 - auc: 0.9207 - val_loss: 0.2197 - val_auc: 0.9050 - lr: 0.0040\n",
            "Epoch 10/30\n",
            "817/817 [==============================] - 4s 4ms/step - loss: 0.2021 - auc: 0.9235 - val_loss: 0.2213 - val_auc: 0.9032 - lr: 0.0035\n",
            "Epoch 11/30\n",
            "817/817 [==============================] - 3s 4ms/step - loss: 0.1997 - auc: 0.9257 - val_loss: 0.2240 - val_auc: 0.9012 - lr: 0.0032\n",
            "Epoch 12/30\n",
            "817/817 [==============================] - 4s 4ms/step - loss: 0.1995 - auc: 0.9258 - val_loss: 0.2268 - val_auc: 0.8989 - lr: 0.0028\n",
            "Epoch 13/30\n",
            "817/817 [==============================] - 5s 6ms/step - loss: 0.1959 - auc: 0.9289 - val_loss: 0.2270 - val_auc: 0.8992 - lr: 0.0025\n",
            "Epoch 14/30\n",
            "817/817 [==============================] - 3s 4ms/step - loss: 0.1943 - auc: 0.9304 - val_loss: 0.2301 - val_auc: 0.8970 - lr: 0.0022\n",
            "Epoch 15/30\n",
            "817/817 [==============================] - 3s 4ms/step - loss: 0.1935 - auc: 0.9307 - val_loss: 0.2317 - val_auc: 0.8966 - lr: 0.0020\n",
            "Epoch 16/30\n",
            "817/817 [==============================] - 4s 5ms/step - loss: 0.1929 - auc: 0.9313 - val_loss: 0.2305 - val_auc: 0.8979 - lr: 0.0018\n",
            "Epoch 17/30\n",
            "817/817 [==============================] - 4s 5ms/step - loss: 0.1903 - auc: 0.9338 - val_loss: 0.2279 - val_auc: 0.9012 - lr: 0.0016\n",
            "Epoch 18/30\n",
            "817/817 [==============================] - 3s 4ms/step - loss: 0.1903 - auc: 0.9336 - val_loss: 0.2299 - val_auc: 0.8982 - lr: 0.0014\n",
            "Epoch 19/30\n",
            "817/817 [==============================] - 3s 4ms/step - loss: 0.1877 - auc: 0.9353 - val_loss: 0.2306 - val_auc: 0.8980 - lr: 0.0013\n",
            "Epoch 20/30\n",
            "817/817 [==============================] - 4s 5ms/step - loss: 0.1891 - auc: 0.9344 - val_loss: 0.2320 - val_auc: 0.8971 - lr: 0.0011\n",
            "Epoch 21/30\n",
            "817/817 [==============================] - 4s 5ms/step - loss: 0.1884 - auc: 0.9346 - val_loss: 0.2308 - val_auc: 0.8978 - lr: 0.0010\n",
            "Epoch 22/30\n",
            "817/817 [==============================] - 4s 5ms/step - loss: 0.1872 - auc: 0.9355 - val_loss: 0.2311 - val_auc: 0.8988 - lr: 8.9125e-04\n",
            "Epoch 23/30\n",
            "817/817 [==============================] - 3s 4ms/step - loss: 0.1864 - auc: 0.9360 - val_loss: 0.2323 - val_auc: 0.8973 - lr: 7.9433e-04\n",
            "Epoch 24/30\n",
            "817/817 [==============================] - 4s 5ms/step - loss: 0.1849 - auc: 0.9376 - val_loss: 0.2315 - val_auc: 0.8966 - lr: 7.0795e-04\n",
            "Epoch 25/30\n",
            "817/817 [==============================] - 3s 4ms/step - loss: 0.1859 - auc: 0.9370 - val_loss: 0.2322 - val_auc: 0.8981 - lr: 6.3096e-04\n",
            "Epoch 26/30\n",
            "817/817 [==============================] - 4s 4ms/step - loss: 0.1865 - auc: 0.9358 - val_loss: 0.2324 - val_auc: 0.8963 - lr: 5.6234e-04\n",
            "Epoch 27/30\n",
            "817/817 [==============================] - 4s 4ms/step - loss: 0.1832 - auc: 0.9385 - val_loss: 0.2322 - val_auc: 0.8967 - lr: 5.0119e-04\n",
            "Epoch 28/30\n",
            "817/817 [==============================] - 5s 6ms/step - loss: 0.1835 - auc: 0.9389 - val_loss: 0.2329 - val_auc: 0.8964 - lr: 4.4668e-04\n",
            "Epoch 29/30\n",
            "817/817 [==============================] - 3s 4ms/step - loss: 0.1821 - auc: 0.9396 - val_loss: 0.2332 - val_auc: 0.8970 - lr: 3.9811e-04\n",
            "Epoch 30/30\n",
            "817/817 [==============================] - 3s 4ms/step - loss: 0.1822 - auc: 0.9390 - val_loss: 0.2321 - val_auc: 0.8979 - lr: 3.5481e-04\n"
          ]
        }
      ]
    },
    {
      "cell_type": "code",
      "source": [
        "run_history = {key: run.history[key] for key in list(run.history.keys())}\n",
        "\n",
        "history_df = pd.DataFrame(run_history)\n",
        "\n",
        "plt.figure()\n",
        "history_df.plot()\n",
        "plt.title('Training and Validation Metrics')\n",
        "plt.xlabel('Epochs')\n",
        "plt.legend(loc='upper right')\n",
        "plt.grid(True)\n",
        "plt.show()"
      ],
      "metadata": {
        "colab": {
          "base_uri": "https://localhost:8080/",
          "height": 489
        },
        "id": "-KDibykQqNzq",
        "outputId": "62b74d6c-f62a-4d58-dfa9-8dc18651682c"
      },
      "execution_count": 156,
      "outputs": [
        {
          "output_type": "display_data",
          "data": {
            "text/plain": [
              "<Figure size 640x480 with 0 Axes>"
            ]
          },
          "metadata": {}
        },
        {
          "output_type": "display_data",
          "data": {
            "text/plain": [
              "<Figure size 640x480 with 1 Axes>"
            ],
            "image/png": "[encoded data removed]"
          },
          "metadata": {}
        }
      ]
    },
    {
      "cell_type": "markdown",
      "source": [
        "Compared to Validation AUG, the situation is worse."
      ],
      "metadata": {
        "id": "6Xj7Q7fXqQps"
      }
    },
    {
      "cell_type": "markdown",
      "source": [
        "(2) early stopping based on validation AUC with `patience=10` (look at the documentation and note the `mode` argument)."
      ],
      "metadata": {
        "id": "6B9lTC7IqXry"
      }
    },
    {
      "cell_type": "code",
      "source": [
        "reset_session()"
      ],
      "metadata": {
        "id": "zLFViJ5eqfDc"
      },
      "execution_count": 157,
      "outputs": []
    },
    {
      "cell_type": "code",
      "source": [
        "model_es = tf.keras.models.Sequential()\n",
        "for n_hidden in (100, 100, 100, 100):\n",
        "    model_es.add(tf.keras.layers.Dense(n_hidden, activation=\"swish\",\n",
        "           kernel_initializer=\"he_normal\"))\n",
        "model_es.add(tf.keras.layers.Dense(1, activation=\"sigmoid\"))\n",
        "\n",
        "optimizer = tf.keras.optimizers.SGD(momentum=0.9, nesterov=True)\n",
        "early_stopping_cii = tf.keras.callbacks.EarlyStopping(patience=10,\n",
        "            restore_best_weights=True,monitor=\"val_auc\", mode=\"max\")\n",
        "model_es.compile(loss=\"binary_crossentropy\",\n",
        "                 optimizer=optimizer,\n",
        "                 metrics=[\"AUC\"])\n",
        "run = model_es.fit(X_train, y_train, epochs=30,\n",
        "                   validation_data=(X_valid, y_valid),\n",
        "                   callbacks=[early_stopping_cii, lr_scheduler])"
      ],
      "metadata": {
        "colab": {
          "base_uri": "https://localhost:8080/"
        },
        "id": "ts4WnP5Uqgr9",
        "outputId": "dc008a39-8289-4929-9736-0eb7d60efd05"
      },
      "execution_count": 158,
      "outputs": [
        {
          "output_type": "stream",
          "name": "stdout",
          "text": [
            "Epoch 1/30\n",
            "817/817 [==============================] - 6s 6ms/step - loss: 0.2434 - auc: 0.8776 - val_loss: 0.2269 - val_auc: 0.8980 - lr: 0.0100\n",
            "Epoch 2/30\n",
            "817/817 [==============================] - 3s 3ms/step - loss: 0.2176 - auc: 0.9074 - val_loss: 0.2187 - val_auc: 0.9045 - lr: 0.0089\n",
            "Epoch 3/30\n",
            "817/817 [==============================] - 2s 3ms/step - loss: 0.2113 - auc: 0.9140 - val_loss: 0.2164 - val_auc: 0.9087 - lr: 0.0079\n",
            "Epoch 4/30\n",
            "817/817 [==============================] - 2s 3ms/step - loss: 0.2074 - auc: 0.9178 - val_loss: 0.2127 - val_auc: 0.9115 - lr: 0.0071\n",
            "Epoch 5/30\n",
            "817/817 [==============================] - 2s 3ms/step - loss: 0.2041 - auc: 0.9214 - val_loss: 0.2098 - val_auc: 0.9147 - lr: 0.0063\n",
            "Epoch 6/30\n",
            "817/817 [==============================] - 3s 4ms/step - loss: 0.2016 - auc: 0.9236 - val_loss: 0.2101 - val_auc: 0.9150 - lr: 0.0056\n",
            "Epoch 7/30\n",
            "817/817 [==============================] - 3s 4ms/step - loss: 0.2000 - auc: 0.9250 - val_loss: 0.2068 - val_auc: 0.9174 - lr: 0.0050\n",
            "Epoch 8/30\n",
            "817/817 [==============================] - 2s 3ms/step - loss: 0.1978 - auc: 0.9269 - val_loss: 0.2063 - val_auc: 0.9172 - lr: 0.0045\n",
            "Epoch 9/30\n",
            "817/817 [==============================] - 2s 3ms/step - loss: 0.1964 - auc: 0.9283 - val_loss: 0.2058 - val_auc: 0.9194 - lr: 0.0040\n",
            "Epoch 10/30\n",
            "817/817 [==============================] - 2s 3ms/step - loss: 0.1950 - auc: 0.9294 - val_loss: 0.2058 - val_auc: 0.9186 - lr: 0.0035\n",
            "Epoch 11/30\n",
            "817/817 [==============================] - 3s 3ms/step - loss: 0.1933 - auc: 0.9309 - val_loss: 0.2062 - val_auc: 0.9181 - lr: 0.0032\n",
            "Epoch 12/30\n",
            "817/817 [==============================] - 4s 4ms/step - loss: 0.1921 - auc: 0.9313 - val_loss: 0.2077 - val_auc: 0.9168 - lr: 0.0028\n",
            "Epoch 13/30\n",
            "817/817 [==============================] - 2s 3ms/step - loss: 0.1911 - auc: 0.9325 - val_loss: 0.2074 - val_auc: 0.9179 - lr: 0.0025\n",
            "Epoch 14/30\n",
            "817/817 [==============================] - 2s 3ms/step - loss: 0.1904 - auc: 0.9333 - val_loss: 0.2071 - val_auc: 0.9176 - lr: 0.0022\n",
            "Epoch 15/30\n",
            "817/817 [==============================] - 2s 3ms/step - loss: 0.1893 - auc: 0.9338 - val_loss: 0.2072 - val_auc: 0.9174 - lr: 0.0020\n",
            "Epoch 16/30\n",
            "817/817 [==============================] - 2s 3ms/step - loss: 0.1882 - auc: 0.9348 - val_loss: 0.2068 - val_auc: 0.9177 - lr: 0.0018\n",
            "Epoch 17/30\n",
            "817/817 [==============================] - 3s 4ms/step - loss: 0.1873 - auc: 0.9353 - val_loss: 0.2082 - val_auc: 0.9170 - lr: 0.0016\n",
            "Epoch 18/30\n",
            "817/817 [==============================] - 3s 4ms/step - loss: 0.1866 - auc: 0.9360 - val_loss: 0.2060 - val_auc: 0.9187 - lr: 0.0014\n",
            "Epoch 19/30\n",
            "817/817 [==============================] - 2s 3ms/step - loss: 0.1860 - auc: 0.9363 - val_loss: 0.2066 - val_auc: 0.9174 - lr: 0.0013\n"
          ]
        }
      ]
    },
    {
      "cell_type": "code",
      "source": [
        "run_history = {key: run.history[key] for key in list(run.history.keys())}\n",
        "\n",
        "history_df = pd.DataFrame(run_history)\n",
        "\n",
        "plt.figure()\n",
        "history_df.plot()\n",
        "plt.title('Training and Validation Metrics')\n",
        "plt.xlabel('Epochs')\n",
        "plt.legend(loc='upper right')\n",
        "plt.grid(True)\n",
        "plt.show()"
      ],
      "metadata": {
        "colab": {
          "base_uri": "https://localhost:8080/",
          "height": 489
        },
        "id": "wBTocgeBqj91",
        "outputId": "b4663eac-893b-47b6-d188-a49651477f5f"
      },
      "execution_count": 159,
      "outputs": [
        {
          "output_type": "display_data",
          "data": {
            "text/plain": [
              "<Figure size 640x480 with 0 Axes>"
            ]
          },
          "metadata": {}
        },
        {
          "output_type": "display_data",
          "data": {
            "text/plain": [
              "<Figure size 640x480 with 1 Axes>"
            ],
            "image/png": "[encoded data removed]"
          },
          "metadata": {}
        }
      ]
    },
    {
      "cell_type": "markdown",
      "source": [
        "Compared to Validation AUG, the situation is better."
      ],
      "metadata": {
        "id": "4WyuefvysEuu"
      }
    },
    {
      "cell_type": "markdown",
      "source": [
        "(3) $\\ell_2$ regularization with `l2=0.0002`"
      ],
      "metadata": {
        "id": "7EaGfR4kqlC5"
      }
    },
    {
      "cell_type": "code",
      "source": [
        "reset_session()"
      ],
      "metadata": {
        "id": "b92UTUemqrQn"
      },
      "execution_count": 160,
      "outputs": []
    },
    {
      "cell_type": "code",
      "source": [
        "model_l2 = tf.keras.models.Sequential()\n",
        "for n_hidden in (100, 100, 100, 100):\n",
        "    model_l2.add(tf.keras.layers.Dense(n_hidden, activation=\"swish\",\n",
        "           kernel_initializer=\"he_normal\",\n",
        "           kernel_regularizer=tf.keras.regularizers.l2(0.0002)))\n",
        "model_l2.add(tf.keras.layers.Dense(1, activation=\"sigmoid\",\n",
        "       kernel_regularizer=tf.keras.regularizers.l2(0.0002)))\n",
        "\n",
        "optimizer = tf.keras.optimizers.SGD(momentum=0.9, nesterov=True)\n",
        "model_l2.compile(loss=\"binary_crossentropy\",\n",
        "                 optimizer=optimizer,\n",
        "                 metrics=[\"AUC\"])\n",
        "run = model_l2.fit(X_train, y_train, epochs=30,\n",
        "                   validation_data=(X_valid, y_valid),\n",
        "                   callbacks=[lr_scheduler])"
      ],
      "metadata": {
        "colab": {
          "base_uri": "https://localhost:8080/"
        },
        "id": "7ECL_-a6qtl3",
        "outputId": "1fbaa5fa-8590-4cd3-8a35-1b4583aa23d3"
      },
      "execution_count": 161,
      "outputs": [
        {
          "output_type": "stream",
          "name": "stdout",
          "text": [
            "Epoch 1/30\n",
            "817/817 [==============================] - 4s 3ms/step - loss: 0.3973 - auc: 0.8806 - val_loss: 0.3784 - val_auc: 0.8980 - lr: 0.0100\n",
            "Epoch 2/30\n",
            "817/817 [==============================] - 2s 3ms/step - loss: 0.3657 - auc: 0.9070 - val_loss: 0.3655 - val_auc: 0.9009 - lr: 0.0089\n",
            "Epoch 3/30\n",
            "817/817 [==============================] - 2s 3ms/step - loss: 0.3540 - auc: 0.9116 - val_loss: 0.3556 - val_auc: 0.9046 - lr: 0.0079\n",
            "Epoch 4/30\n",
            "817/817 [==============================] - 2s 3ms/step - loss: 0.3452 - auc: 0.9144 - val_loss: 0.3484 - val_auc: 0.9062 - lr: 0.0071\n",
            "Epoch 5/30\n",
            "817/817 [==============================] - 3s 4ms/step - loss: 0.3382 - auc: 0.9166 - val_loss: 0.3421 - val_auc: 0.9077 - lr: 0.0063\n",
            "Epoch 6/30\n",
            "817/817 [==============================] - 3s 4ms/step - loss: 0.3320 - auc: 0.9180 - val_loss: 0.3403 - val_auc: 0.9072 - lr: 0.0056\n",
            "Epoch 7/30\n",
            "817/817 [==============================] - 2s 3ms/step - loss: 0.3276 - auc: 0.9184 - val_loss: 0.3323 - val_auc: 0.9100 - lr: 0.0050\n",
            "Epoch 8/30\n",
            "817/817 [==============================] - 2s 3ms/step - loss: 0.3230 - auc: 0.9201 - val_loss: 0.3300 - val_auc: 0.9097 - lr: 0.0045\n",
            "Epoch 9/30\n",
            "817/817 [==============================] - 3s 3ms/step - loss: 0.3192 - auc: 0.9214 - val_loss: 0.3272 - val_auc: 0.9109 - lr: 0.0040\n",
            "Epoch 10/30\n",
            "817/817 [==============================] - 3s 4ms/step - loss: 0.3162 - auc: 0.9216 - val_loss: 0.3242 - val_auc: 0.9120 - lr: 0.0035\n",
            "Epoch 11/30\n",
            "817/817 [==============================] - 4s 4ms/step - loss: 0.3132 - auc: 0.9230 - val_loss: 0.3225 - val_auc: 0.9107 - lr: 0.0032\n",
            "Epoch 12/30\n",
            "817/817 [==============================] - 2s 3ms/step - loss: 0.3108 - auc: 0.9230 - val_loss: 0.3202 - val_auc: 0.9118 - lr: 0.0028\n",
            "Epoch 13/30\n",
            "817/817 [==============================] - 2s 3ms/step - loss: 0.3086 - auc: 0.9239 - val_loss: 0.3194 - val_auc: 0.9112 - lr: 0.0025\n",
            "Epoch 14/30\n",
            "817/817 [==============================] - 3s 3ms/step - loss: 0.3068 - auc: 0.9241 - val_loss: 0.3175 - val_auc: 0.9115 - lr: 0.0022\n",
            "Epoch 15/30\n",
            "817/817 [==============================] - 3s 3ms/step - loss: 0.3049 - auc: 0.9247 - val_loss: 0.3168 - val_auc: 0.9110 - lr: 0.0020\n",
            "Epoch 16/30\n",
            "817/817 [==============================] - 4s 5ms/step - loss: 0.3033 - auc: 0.9255 - val_loss: 0.3157 - val_auc: 0.9110 - lr: 0.0018\n",
            "Epoch 17/30\n",
            "817/817 [==============================] - 2s 3ms/step - loss: 0.3020 - auc: 0.9256 - val_loss: 0.3158 - val_auc: 0.9113 - lr: 0.0016\n",
            "Epoch 18/30\n",
            "817/817 [==============================] - 2s 3ms/step - loss: 0.3008 - auc: 0.9260 - val_loss: 0.3127 - val_auc: 0.9128 - lr: 0.0014\n",
            "Epoch 19/30\n",
            "817/817 [==============================] - 2s 3ms/step - loss: 0.2998 - auc: 0.9260 - val_loss: 0.3124 - val_auc: 0.9120 - lr: 0.0013\n",
            "Epoch 20/30\n",
            "817/817 [==============================] - 3s 3ms/step - loss: 0.2988 - auc: 0.9264 - val_loss: 0.3114 - val_auc: 0.9128 - lr: 0.0011\n",
            "Epoch 21/30\n",
            "817/817 [==============================] - 4s 4ms/step - loss: 0.2979 - auc: 0.9271 - val_loss: 0.3111 - val_auc: 0.9126 - lr: 0.0010\n",
            "Epoch 22/30\n",
            "817/817 [==============================] - 2s 3ms/step - loss: 0.2972 - auc: 0.9271 - val_loss: 0.3105 - val_auc: 0.9126 - lr: 8.9125e-04\n",
            "Epoch 23/30\n",
            "817/817 [==============================] - 2s 3ms/step - loss: 0.2965 - auc: 0.9273 - val_loss: 0.3105 - val_auc: 0.9122 - lr: 7.9433e-04\n",
            "Epoch 24/30\n",
            "817/817 [==============================] - 2s 3ms/step - loss: 0.2961 - auc: 0.9274 - val_loss: 0.3101 - val_auc: 0.9121 - lr: 7.0795e-04\n",
            "Epoch 25/30\n",
            "817/817 [==============================] - 3s 3ms/step - loss: 0.2955 - auc: 0.9277 - val_loss: 0.3090 - val_auc: 0.9127 - lr: 6.3096e-04\n",
            "Epoch 26/30\n",
            "817/817 [==============================] - 4s 5ms/step - loss: 0.2950 - auc: 0.9278 - val_loss: 0.3090 - val_auc: 0.9125 - lr: 5.6234e-04\n",
            "Epoch 27/30\n",
            "817/817 [==============================] - 2s 3ms/step - loss: 0.2945 - auc: 0.9279 - val_loss: 0.3087 - val_auc: 0.9124 - lr: 5.0119e-04\n",
            "Epoch 28/30\n",
            "817/817 [==============================] - 2s 3ms/step - loss: 0.2942 - auc: 0.9281 - val_loss: 0.3082 - val_auc: 0.9134 - lr: 4.4668e-04\n",
            "Epoch 29/30\n",
            "817/817 [==============================] - 2s 3ms/step - loss: 0.2939 - auc: 0.9282 - val_loss: 0.3082 - val_auc: 0.9130 - lr: 3.9811e-04\n",
            "Epoch 30/30\n",
            "817/817 [==============================] - 2s 3ms/step - loss: 0.2935 - auc: 0.9284 - val_loss: 0.3082 - val_auc: 0.9127 - lr: 3.5481e-04\n"
          ]
        }
      ]
    },
    {
      "cell_type": "code",
      "source": [
        "run_history = {key: run.history[key] for key in list(run.history.keys())}\n",
        "\n",
        "history_df = pd.DataFrame(run_history)\n",
        "\n",
        "plt.figure()\n",
        "history_df.plot()\n",
        "plt.title('Training and Validation Metrics')\n",
        "plt.xlabel('Epochs')\n",
        "plt.legend(loc='upper right')\n",
        "plt.grid(True)\n",
        "plt.show()"
      ],
      "metadata": {
        "colab": {
          "base_uri": "https://localhost:8080/",
          "height": 489
        },
        "id": "NySiea7ar77i",
        "outputId": "beaadb2a-9832-4f50-bd32-4d15b98b5e55"
      },
      "execution_count": 162,
      "outputs": [
        {
          "output_type": "display_data",
          "data": {
            "text/plain": [
              "<Figure size 640x480 with 0 Axes>"
            ]
          },
          "metadata": {}
        },
        {
          "output_type": "display_data",
          "data": {
            "text/plain": [
              "<Figure size 640x480 with 1 Axes>"
            ],
            "image/png": "[encoded data removed]"
          },
          "metadata": {}
        }
      ]
    },
    {
      "cell_type": "markdown",
      "source": [
        "Compared to Validation AUG, the situation is worse."
      ],
      "metadata": {
        "id": "PoKLSsq3r9eu"
      }
    },
    {
      "cell_type": "markdown",
      "source": [
        "(4) dropout with probability 0.02"
      ],
      "metadata": {
        "id": "DUk1IMXasISv"
      }
    },
    {
      "cell_type": "code",
      "source": [
        "reset_session()"
      ],
      "metadata": {
        "id": "zmOOJxggsUVp"
      },
      "execution_count": 163,
      "outputs": []
    },
    {
      "cell_type": "code",
      "source": [
        "model_dr = tf.keras.models.Sequential()\n",
        "model_dr.add(tf.keras.layers.Dropout(rate=0.02))\n",
        "for n_hidden in (100, 100, 100, 100):\n",
        "    model_dr.add(tf.keras.layers.Dense(n_hidden, activation=\"swish\",\n",
        "                       kernel_initializer=\"he_normal\"))\n",
        "    model_dr.add(tf.keras.layers.Dropout(rate=0.02))\n",
        "model_dr.add(tf.keras.layers.Dense(1, activation=\"sigmoid\"))\n",
        "optimizer = tf.keras.optimizers.SGD(momentum=0.9, nesterov=True)\n",
        "model_dr.compile(loss=\"binary_crossentropy\",\n",
        "                 optimizer=optimizer,\n",
        "                 metrics=[\"AUC\"])\n",
        "run = model_dr.fit(X_train, y_train, epochs=30,\n",
        "                   validation_data=(X_valid, y_valid),\n",
        "                   callbacks=[lr_scheduler])"
      ],
      "metadata": {
        "colab": {
          "base_uri": "https://localhost:8080/"
        },
        "id": "0yomj80msU8F",
        "outputId": "c784ff0b-31cb-4af8-9d65-80eba6526596"
      },
      "execution_count": 164,
      "outputs": [
        {
          "output_type": "stream",
          "name": "stdout",
          "text": [
            "Epoch 1/30\n",
            "817/817 [==============================] - 4s 3ms/step - loss: 0.2520 - auc: 0.8649 - val_loss: 0.2257 - val_auc: 0.8988 - lr: 0.0100\n",
            "Epoch 2/30\n",
            "817/817 [==============================] - 2s 3ms/step - loss: 0.2227 - auc: 0.9015 - val_loss: 0.2192 - val_auc: 0.9042 - lr: 0.0089\n",
            "Epoch 3/30\n",
            "817/817 [==============================] - 2s 3ms/step - loss: 0.2177 - auc: 0.9072 - val_loss: 0.2148 - val_auc: 0.9090 - lr: 0.0079\n",
            "Epoch 4/30\n",
            "817/817 [==============================] - 3s 3ms/step - loss: 0.2134 - auc: 0.9118 - val_loss: 0.2144 - val_auc: 0.9085 - lr: 0.0071\n",
            "Epoch 5/30\n",
            "817/817 [==============================] - 3s 4ms/step - loss: 0.2114 - auc: 0.9137 - val_loss: 0.2108 - val_auc: 0.9128 - lr: 0.0063\n",
            "Epoch 6/30\n",
            "817/817 [==============================] - 2s 3ms/step - loss: 0.2101 - auc: 0.9151 - val_loss: 0.2112 - val_auc: 0.9127 - lr: 0.0056\n",
            "Epoch 7/30\n",
            "817/817 [==============================] - 2s 3ms/step - loss: 0.2077 - auc: 0.9172 - val_loss: 0.2080 - val_auc: 0.9151 - lr: 0.0050\n",
            "Epoch 8/30\n",
            "817/817 [==============================] - 2s 3ms/step - loss: 0.2047 - auc: 0.9202 - val_loss: 0.2080 - val_auc: 0.9156 - lr: 0.0045\n",
            "Epoch 9/30\n",
            "817/817 [==============================] - 2s 3ms/step - loss: 0.2036 - auc: 0.9212 - val_loss: 0.2075 - val_auc: 0.9171 - lr: 0.0040\n",
            "Epoch 10/30\n",
            "817/817 [==============================] - 3s 4ms/step - loss: 0.2029 - auc: 0.9218 - val_loss: 0.2075 - val_auc: 0.9170 - lr: 0.0035\n",
            "Epoch 11/30\n",
            "817/817 [==============================] - 2s 3ms/step - loss: 0.2002 - auc: 0.9244 - val_loss: 0.2071 - val_auc: 0.9166 - lr: 0.0032\n",
            "Epoch 12/30\n",
            "817/817 [==============================] - 2s 3ms/step - loss: 0.2018 - auc: 0.9226 - val_loss: 0.2081 - val_auc: 0.9158 - lr: 0.0028\n",
            "Epoch 13/30\n",
            "817/817 [==============================] - 2s 3ms/step - loss: 0.1994 - auc: 0.9253 - val_loss: 0.2064 - val_auc: 0.9179 - lr: 0.0025\n",
            "Epoch 14/30\n",
            "817/817 [==============================] - 2s 3ms/step - loss: 0.1985 - auc: 0.9263 - val_loss: 0.2071 - val_auc: 0.9175 - lr: 0.0022\n",
            "Epoch 15/30\n",
            "817/817 [==============================] - 3s 4ms/step - loss: 0.1962 - auc: 0.9283 - val_loss: 0.2062 - val_auc: 0.9178 - lr: 0.0020\n",
            "Epoch 16/30\n",
            "817/817 [==============================] - 3s 3ms/step - loss: 0.1969 - auc: 0.9267 - val_loss: 0.2066 - val_auc: 0.9178 - lr: 0.0018\n",
            "Epoch 17/30\n",
            "817/817 [==============================] - 2s 3ms/step - loss: 0.1983 - auc: 0.9257 - val_loss: 0.2067 - val_auc: 0.9175 - lr: 0.0016\n",
            "Epoch 18/30\n",
            "817/817 [==============================] - 2s 3ms/step - loss: 0.1962 - auc: 0.9275 - val_loss: 0.2057 - val_auc: 0.9182 - lr: 0.0014\n",
            "Epoch 19/30\n",
            "817/817 [==============================] - 2s 3ms/step - loss: 0.1962 - auc: 0.9280 - val_loss: 0.2053 - val_auc: 0.9187 - lr: 0.0013\n",
            "Epoch 20/30\n",
            "817/817 [==============================] - 3s 4ms/step - loss: 0.1961 - auc: 0.9271 - val_loss: 0.2053 - val_auc: 0.9184 - lr: 0.0011\n",
            "Epoch 21/30\n",
            "817/817 [==============================] - 3s 4ms/step - loss: 0.1946 - auc: 0.9291 - val_loss: 0.2051 - val_auc: 0.9189 - lr: 0.0010\n",
            "Epoch 22/30\n",
            "817/817 [==============================] - 2s 3ms/step - loss: 0.1949 - auc: 0.9289 - val_loss: 0.2048 - val_auc: 0.9182 - lr: 8.9125e-04\n",
            "Epoch 23/30\n",
            "817/817 [==============================] - 2s 3ms/step - loss: 0.1928 - auc: 0.9306 - val_loss: 0.2055 - val_auc: 0.9184 - lr: 7.9433e-04\n",
            "Epoch 24/30\n",
            "817/817 [==============================] - 2s 3ms/step - loss: 0.1945 - auc: 0.9292 - val_loss: 0.2053 - val_auc: 0.9187 - lr: 7.0795e-04\n",
            "Epoch 25/30\n",
            "817/817 [==============================] - 3s 3ms/step - loss: 0.1926 - auc: 0.9310 - val_loss: 0.2051 - val_auc: 0.9188 - lr: 6.3096e-04\n",
            "Epoch 26/30\n",
            "817/817 [==============================] - 4s 4ms/step - loss: 0.1931 - auc: 0.9297 - val_loss: 0.2055 - val_auc: 0.9186 - lr: 5.6234e-04\n",
            "Epoch 27/30\n",
            "817/817 [==============================] - 2s 3ms/step - loss: 0.1936 - auc: 0.9303 - val_loss: 0.2055 - val_auc: 0.9180 - lr: 5.0119e-04\n",
            "Epoch 28/30\n",
            "817/817 [==============================] - 2s 3ms/step - loss: 0.1924 - auc: 0.9307 - val_loss: 0.2049 - val_auc: 0.9189 - lr: 4.4668e-04\n",
            "Epoch 29/30\n",
            "817/817 [==============================] - 2s 3ms/step - loss: 0.1930 - auc: 0.9297 - val_loss: 0.2050 - val_auc: 0.9190 - lr: 3.9811e-04\n",
            "Epoch 30/30\n",
            "817/817 [==============================] - 2s 3ms/step - loss: 0.1932 - auc: 0.9299 - val_loss: 0.2052 - val_auc: 0.9183 - lr: 3.5481e-04\n"
          ]
        }
      ]
    },
    {
      "cell_type": "code",
      "source": [
        "run_history = {key: run.history[key] for key in list(run.history.keys())}\n",
        "\n",
        "history_df = pd.DataFrame(run_history)\n",
        "\n",
        "plt.figure()\n",
        "history_df.plot()\n",
        "plt.title('Training and Validation Metrics')\n",
        "plt.xlabel('Epochs')\n",
        "plt.legend(loc='upper right')\n",
        "plt.grid(True)\n",
        "plt.show()"
      ],
      "metadata": {
        "colab": {
          "base_uri": "https://localhost:8080/",
          "height": 489
        },
        "id": "qLwXz1lIsXhv",
        "outputId": "3a9644ce-be74-4cb1-b4a8-3fd2fb32c837"
      },
      "execution_count": 165,
      "outputs": [
        {
          "output_type": "display_data",
          "data": {
            "text/plain": [
              "<Figure size 640x480 with 0 Axes>"
            ]
          },
          "metadata": {}
        },
        {
          "output_type": "display_data",
          "data": {
            "text/plain": [
              "<Figure size 640x480 with 1 Axes>"
            ],
            "image/png": "[encoded data removed]"
          },
          "metadata": {}
        }
      ]
    },
    {
      "cell_type": "markdown",
      "source": [
        "Compared to Validation AUG, the situation is better."
      ],
      "metadata": {
        "id": "ESGWyZbssbOE"
      }
    },
    {
      "cell_type": "markdown",
      "source": [
        "(5) $\\ell_2$ regularization and early stopping both as above"
      ],
      "metadata": {
        "id": "TC4HdlOAscCr"
      }
    },
    {
      "cell_type": "code",
      "source": [
        "reset_session()"
      ],
      "metadata": {
        "id": "AKPrkP12sget"
      },
      "execution_count": 166,
      "outputs": []
    },
    {
      "cell_type": "code",
      "source": [
        "model_l2es = tf.keras.models.Sequential()\n",
        "for n_hidden in (100, 100, 100, 100):\n",
        "    model_l2es.add(tf.keras.layers.Dense(n_hidden, activation=\"swish\",\n",
        "                        kernel_initializer=\"he_normal\",\n",
        "                        kernel_regularizer=tf.keras.regularizers.l2(0.0002)))\n",
        "model_l2es.add(tf.keras.layers.Dense(1, activation=\"sigmoid\",\n",
        "                        kernel_regularizer=tf.keras.regularizers.l2(0.0002)))\n",
        "\n",
        "optimizer = tf.keras.optimizers.SGD(momentum=0.9, nesterov=True)\n",
        "early_stopping_cb = tf.keras.callbacks.EarlyStopping(patience=10,\n",
        "                              restore_best_weights=True,\n",
        "                              monitor=\"val_auc\", mode=\"max\")\n",
        "model_l2es.compile(loss=\"binary_crossentropy\",\n",
        "                   optimizer=optimizer,\n",
        "                   metrics=[\"AUC\"])\n",
        "run = model_l2es.fit(X_train, y_train, epochs=30,\n",
        "                     validation_data=(X_valid, y_valid),\n",
        "                     callbacks=[early_stopping_cb, lr_scheduler])"
      ],
      "metadata": {
        "colab": {
          "base_uri": "https://localhost:8080/"
        },
        "id": "ZrnhqsMksgyG",
        "outputId": "6cac1e03-0bd3-4a69-a55c-15f5f7299f11"
      },
      "execution_count": 167,
      "outputs": [
        {
          "output_type": "stream",
          "name": "stdout",
          "text": [
            "Epoch 1/30\n",
            "817/817 [==============================] - 4s 3ms/step - loss: 0.3946 - auc: 0.8810 - val_loss: 0.3777 - val_auc: 0.8954 - lr: 0.0100\n",
            "Epoch 2/30\n",
            "817/817 [==============================] - 2s 3ms/step - loss: 0.3645 - auc: 0.9057 - val_loss: 0.3647 - val_auc: 0.8995 - lr: 0.0089\n",
            "Epoch 3/30\n",
            "817/817 [==============================] - 3s 3ms/step - loss: 0.3526 - auc: 0.9110 - val_loss: 0.3561 - val_auc: 0.9038 - lr: 0.0079\n",
            "Epoch 4/30\n",
            "817/817 [==============================] - 3s 4ms/step - loss: 0.3434 - auc: 0.9143 - val_loss: 0.3496 - val_auc: 0.9039 - lr: 0.0071\n",
            "Epoch 5/30\n",
            "817/817 [==============================] - 2s 3ms/step - loss: 0.3364 - auc: 0.9163 - val_loss: 0.3426 - val_auc: 0.9079 - lr: 0.0063\n",
            "Epoch 6/30\n",
            "817/817 [==============================] - 2s 3ms/step - loss: 0.3300 - auc: 0.9186 - val_loss: 0.3383 - val_auc: 0.9072 - lr: 0.0056\n",
            "Epoch 7/30\n",
            "817/817 [==============================] - 2s 3ms/step - loss: 0.3254 - auc: 0.9192 - val_loss: 0.3320 - val_auc: 0.9097 - lr: 0.0050\n",
            "Epoch 8/30\n",
            "817/817 [==============================] - 2s 3ms/step - loss: 0.3207 - auc: 0.9210 - val_loss: 0.3298 - val_auc: 0.9093 - lr: 0.0045\n",
            "Epoch 9/30\n",
            "817/817 [==============================] - 3s 4ms/step - loss: 0.3169 - auc: 0.9224 - val_loss: 0.3254 - val_auc: 0.9118 - lr: 0.0040\n",
            "Epoch 10/30\n",
            "817/817 [==============================] - 3s 3ms/step - loss: 0.3138 - auc: 0.9227 - val_loss: 0.3224 - val_auc: 0.9133 - lr: 0.0035\n",
            "Epoch 11/30\n",
            "817/817 [==============================] - 2s 3ms/step - loss: 0.3107 - auc: 0.9241 - val_loss: 0.3205 - val_auc: 0.9119 - lr: 0.0032\n",
            "Epoch 12/30\n",
            "817/817 [==============================] - 2s 3ms/step - loss: 0.3082 - auc: 0.9244 - val_loss: 0.3204 - val_auc: 0.9113 - lr: 0.0028\n",
            "Epoch 13/30\n",
            "817/817 [==============================] - 2s 3ms/step - loss: 0.3060 - auc: 0.9253 - val_loss: 0.3182 - val_auc: 0.9124 - lr: 0.0025\n",
            "Epoch 14/30\n",
            "817/817 [==============================] - 2s 3ms/step - loss: 0.3043 - auc: 0.9255 - val_loss: 0.3164 - val_auc: 0.9133 - lr: 0.0022\n",
            "Epoch 15/30\n",
            "817/817 [==============================] - 3s 4ms/step - loss: 0.3025 - auc: 0.9261 - val_loss: 0.3149 - val_auc: 0.9131 - lr: 0.0020\n",
            "Epoch 16/30\n",
            "817/817 [==============================] - 3s 3ms/step - loss: 0.3008 - auc: 0.9267 - val_loss: 0.3144 - val_auc: 0.9125 - lr: 0.0018\n",
            "Epoch 17/30\n",
            "817/817 [==============================] - 2s 3ms/step - loss: 0.2995 - auc: 0.9270 - val_loss: 0.3137 - val_auc: 0.9128 - lr: 0.0016\n",
            "Epoch 18/30\n",
            "817/817 [==============================] - 2s 3ms/step - loss: 0.2982 - auc: 0.9275 - val_loss: 0.3108 - val_auc: 0.9140 - lr: 0.0014\n",
            "Epoch 19/30\n",
            "817/817 [==============================] - 2s 3ms/step - loss: 0.2973 - auc: 0.9278 - val_loss: 0.3103 - val_auc: 0.9139 - lr: 0.0013\n",
            "Epoch 20/30\n",
            "817/817 [==============================] - 2s 3ms/step - loss: 0.2963 - auc: 0.9280 - val_loss: 0.3096 - val_auc: 0.9141 - lr: 0.0011\n",
            "Epoch 21/30\n",
            "817/817 [==============================] - 3s 4ms/step - loss: 0.2953 - auc: 0.9285 - val_loss: 0.3091 - val_auc: 0.9142 - lr: 0.0010\n",
            "Epoch 22/30\n",
            "817/817 [==============================] - 2s 3ms/step - loss: 0.2947 - auc: 0.9284 - val_loss: 0.3080 - val_auc: 0.9143 - lr: 8.9125e-04\n",
            "Epoch 23/30\n",
            "817/817 [==============================] - 2s 3ms/step - loss: 0.2940 - auc: 0.9290 - val_loss: 0.3085 - val_auc: 0.9138 - lr: 7.9433e-04\n",
            "Epoch 24/30\n",
            "817/817 [==============================] - 2s 3ms/step - loss: 0.2935 - auc: 0.9289 - val_loss: 0.3083 - val_auc: 0.9136 - lr: 7.0795e-04\n",
            "Epoch 25/30\n",
            "817/817 [==============================] - 2s 3ms/step - loss: 0.2929 - auc: 0.9291 - val_loss: 0.3070 - val_auc: 0.9151 - lr: 6.3096e-04\n",
            "Epoch 26/30\n",
            "817/817 [==============================] - 2s 3ms/step - loss: 0.2924 - auc: 0.9291 - val_loss: 0.3070 - val_auc: 0.9139 - lr: 5.6234e-04\n",
            "Epoch 27/30\n",
            "817/817 [==============================] - 3s 4ms/step - loss: 0.2919 - auc: 0.9293 - val_loss: 0.3068 - val_auc: 0.9140 - lr: 5.0119e-04\n",
            "Epoch 28/30\n",
            "817/817 [==============================] - 2s 2ms/step - loss: 0.2916 - auc: 0.9295 - val_loss: 0.3061 - val_auc: 0.9151 - lr: 4.4668e-04\n",
            "Epoch 29/30\n",
            "817/817 [==============================] - 2s 3ms/step - loss: 0.2912 - auc: 0.9298 - val_loss: 0.3061 - val_auc: 0.9146 - lr: 3.9811e-04\n",
            "Epoch 30/30\n",
            "817/817 [==============================] - 2s 3ms/step - loss: 0.2909 - auc: 0.9297 - val_loss: 0.3063 - val_auc: 0.9142 - lr: 3.5481e-04\n"
          ]
        }
      ]
    },
    {
      "cell_type": "code",
      "source": [
        "run_history = {key: run.history[key] for key in list(run.history.keys())}\n",
        "\n",
        "history_df = pd.DataFrame(run_history)\n",
        "\n",
        "plt.figure()\n",
        "history_df.plot()\n",
        "plt.title('Training and Validation Metrics')\n",
        "plt.xlabel('Epochs')\n",
        "plt.legend(loc='upper right')\n",
        "plt.grid(True)\n",
        "plt.show()"
      ],
      "metadata": {
        "colab": {
          "base_uri": "https://localhost:8080/",
          "height": 489
        },
        "id": "D0fH6pMbsjIG",
        "outputId": "0839b94c-a604-4ea8-df2a-a6f796941f28"
      },
      "execution_count": 168,
      "outputs": [
        {
          "output_type": "display_data",
          "data": {
            "text/plain": [
              "<Figure size 640x480 with 0 Axes>"
            ]
          },
          "metadata": {}
        },
        {
          "output_type": "display_data",
          "data": {
            "text/plain": [
              "<Figure size 640x480 with 1 Axes>"
            ],
            "image/png": "[encoded data removed]"
          },
          "metadata": {}
        }
      ]
    },
    {
      "cell_type": "markdown",
      "source": [
        "Compared to Validation AUG, the situation is worse."
      ],
      "metadata": {
        "id": "vy8OLrcNslHC"
      }
    },
    {
      "cell_type": "markdown",
      "source": [
        "(6) batch normalization and dropout both as above"
      ],
      "metadata": {
        "id": "SJP4lcHAslp3"
      }
    },
    {
      "cell_type": "code",
      "source": [
        "reset_session()"
      ],
      "metadata": {
        "id": "h9HCm6WesqyK"
      },
      "execution_count": 169,
      "outputs": []
    },
    {
      "cell_type": "code",
      "source": [
        "model_bndr = tf.keras.models.Sequential()\n",
        "model_bndr.add(tf.keras.layers.BatchNormalization())\n",
        "model_bndr.add(tf.keras.layers.Dropout(rate=0.02))\n",
        "for n_hidden in (100, 100, 100, 100):\n",
        "    model_bndr.add(tf.keras.layers.Dense(n_hidden, activation=\"swish\",\n",
        "                        kernel_initializer=\"he_normal\"))\n",
        "    model_bndr.add(tf.keras.layers.BatchNormalization())\n",
        "    model_bndr.add(tf.keras.layers.Dropout(rate=0.2))\n",
        "model_bndr.add(tf.keras.layers.Dense(1, activation=\"sigmoid\"))\n",
        "optimizer = tf.keras.optimizers.SGD(momentum=0.9, nesterov=True)\n",
        "model_bndr.compile(loss=\"binary_crossentropy\",\n",
        "                   optimizer=optimizer,\n",
        "                   metrics=[\"AUC\"])\n",
        "run = model_bndr.fit(X_train, y_train, epochs=30,\n",
        "                     validation_data=(X_valid, y_valid),\n",
        "                     callbacks=[lr_scheduler])"
      ],
      "metadata": {
        "colab": {
          "base_uri": "https://localhost:8080/"
        },
        "id": "wqZ2C9adsrux",
        "outputId": "4ee6b6e6-0a1f-4fff-dbb8-19e184e3a8a0"
      },
      "execution_count": 170,
      "outputs": [
        {
          "output_type": "stream",
          "name": "stdout",
          "text": [
            "Epoch 1/30\n",
            "817/817 [==============================] - 7s 5ms/step - loss: 0.2957 - auc: 0.8054 - val_loss: 0.2372 - val_auc: 0.8836 - lr: 0.0100\n",
            "Epoch 2/30\n",
            "817/817 [==============================] - 4s 5ms/step - loss: 0.2538 - auc: 0.8647 - val_loss: 0.2312 - val_auc: 0.8909 - lr: 0.0089\n",
            "Epoch 3/30\n",
            "817/817 [==============================] - 3s 4ms/step - loss: 0.2496 - auc: 0.8706 - val_loss: 0.2298 - val_auc: 0.8928 - lr: 0.0079\n",
            "Epoch 4/30\n",
            "817/817 [==============================] - 3s 4ms/step - loss: 0.2465 - auc: 0.8749 - val_loss: 0.2335 - val_auc: 0.8942 - lr: 0.0071\n",
            "Epoch 5/30\n",
            "817/817 [==============================] - 4s 4ms/step - loss: 0.2410 - auc: 0.8812 - val_loss: 0.2290 - val_auc: 0.8957 - lr: 0.0063\n",
            "Epoch 6/30\n",
            "817/817 [==============================] - 4s 5ms/step - loss: 0.2430 - auc: 0.8789 - val_loss: 0.2252 - val_auc: 0.8992 - lr: 0.0056\n",
            "Epoch 7/30\n",
            "817/817 [==============================] - 3s 4ms/step - loss: 0.2406 - auc: 0.8817 - val_loss: 0.2240 - val_auc: 0.8999 - lr: 0.0050\n",
            "Epoch 8/30\n",
            "817/817 [==============================] - 3s 4ms/step - loss: 0.2395 - auc: 0.8832 - val_loss: 0.2264 - val_auc: 0.9014 - lr: 0.0045\n",
            "Epoch 9/30\n",
            "817/817 [==============================] - 3s 4ms/step - loss: 0.2372 - auc: 0.8864 - val_loss: 0.2228 - val_auc: 0.9013 - lr: 0.0040\n",
            "Epoch 10/30\n",
            "817/817 [==============================] - 4s 5ms/step - loss: 0.2346 - auc: 0.8887 - val_loss: 0.2208 - val_auc: 0.9031 - lr: 0.0035\n",
            "Epoch 11/30\n",
            "817/817 [==============================] - 3s 4ms/step - loss: 0.2322 - auc: 0.8925 - val_loss: 0.2208 - val_auc: 0.9033 - lr: 0.0032\n",
            "Epoch 12/30\n",
            "817/817 [==============================] - 3s 4ms/step - loss: 0.2348 - auc: 0.8887 - val_loss: 0.2200 - val_auc: 0.9046 - lr: 0.0028\n",
            "Epoch 13/30\n",
            "817/817 [==============================] - 3s 4ms/step - loss: 0.2336 - auc: 0.8906 - val_loss: 0.2190 - val_auc: 0.9050 - lr: 0.0025\n",
            "Epoch 14/30\n",
            "817/817 [==============================] - 4s 5ms/step - loss: 0.2320 - auc: 0.8924 - val_loss: 0.2192 - val_auc: 0.9057 - lr: 0.0022\n",
            "Epoch 15/30\n",
            "817/817 [==============================] - 3s 4ms/step - loss: 0.2319 - auc: 0.8927 - val_loss: 0.2195 - val_auc: 0.9054 - lr: 0.0020\n",
            "Epoch 16/30\n",
            "817/817 [==============================] - 3s 4ms/step - loss: 0.2320 - auc: 0.8929 - val_loss: 0.2186 - val_auc: 0.9057 - lr: 0.0018\n",
            "Epoch 17/30\n",
            "817/817 [==============================] - 3s 4ms/step - loss: 0.2318 - auc: 0.8931 - val_loss: 0.2173 - val_auc: 0.9067 - lr: 0.0016\n",
            "Epoch 18/30\n",
            "817/817 [==============================] - 4s 5ms/step - loss: 0.2301 - auc: 0.8953 - val_loss: 0.2178 - val_auc: 0.9067 - lr: 0.0014\n",
            "Epoch 19/30\n",
            "817/817 [==============================] - 3s 4ms/step - loss: 0.2315 - auc: 0.8928 - val_loss: 0.2176 - val_auc: 0.9067 - lr: 0.0013\n",
            "Epoch 20/30\n",
            "817/817 [==============================] - 3s 4ms/step - loss: 0.2315 - auc: 0.8931 - val_loss: 0.2186 - val_auc: 0.9067 - lr: 0.0011\n",
            "Epoch 21/30\n",
            "817/817 [==============================] - 4s 4ms/step - loss: 0.2308 - auc: 0.8938 - val_loss: 0.2180 - val_auc: 0.9069 - lr: 0.0010\n",
            "Epoch 22/30\n",
            "817/817 [==============================] - 4s 5ms/step - loss: 0.2312 - auc: 0.8926 - val_loss: 0.2178 - val_auc: 0.9069 - lr: 8.9125e-04\n",
            "Epoch 23/30\n",
            "817/817 [==============================] - 3s 4ms/step - loss: 0.2287 - auc: 0.8957 - val_loss: 0.2168 - val_auc: 0.9076 - lr: 7.9433e-04\n",
            "Epoch 24/30\n",
            "817/817 [==============================] - 3s 4ms/step - loss: 0.2295 - auc: 0.8953 - val_loss: 0.2166 - val_auc: 0.9079 - lr: 7.0795e-04\n",
            "Epoch 25/30\n",
            "817/817 [==============================] - 3s 4ms/step - loss: 0.2298 - auc: 0.8946 - val_loss: 0.2171 - val_auc: 0.9076 - lr: 6.3096e-04\n",
            "Epoch 26/30\n",
            "817/817 [==============================] - 4s 5ms/step - loss: 0.2307 - auc: 0.8934 - val_loss: 0.2171 - val_auc: 0.9079 - lr: 5.6234e-04\n",
            "Epoch 27/30\n",
            "817/817 [==============================] - 3s 4ms/step - loss: 0.2272 - auc: 0.8979 - val_loss: 0.2168 - val_auc: 0.9078 - lr: 5.0119e-04\n",
            "Epoch 28/30\n",
            "817/817 [==============================] - 3s 4ms/step - loss: 0.2305 - auc: 0.8939 - val_loss: 0.2172 - val_auc: 0.9080 - lr: 4.4668e-04\n",
            "Epoch 29/30\n",
            "817/817 [==============================] - 3s 4ms/step - loss: 0.2283 - auc: 0.8968 - val_loss: 0.2166 - val_auc: 0.9080 - lr: 3.9811e-04\n",
            "Epoch 30/30\n",
            "817/817 [==============================] - 4s 5ms/step - loss: 0.2300 - auc: 0.8946 - val_loss: 0.2162 - val_auc: 0.9085 - lr: 3.5481e-04\n"
          ]
        }
      ]
    },
    {
      "cell_type": "code",
      "source": [
        "run_history = {key: run.history[key] for key in list(run.history.keys())}\n",
        "\n",
        "history_df = pd.DataFrame(run_history)\n",
        "\n",
        "plt.figure()\n",
        "history_df.plot()\n",
        "plt.title('Training and Validation Metrics')\n",
        "plt.xlabel('Epochs')\n",
        "plt.legend(loc='upper right')\n",
        "plt.grid(True)\n",
        "plt.show()"
      ],
      "metadata": {
        "colab": {
          "base_uri": "https://localhost:8080/",
          "height": 489
        },
        "id": "LpI23zH2st4m",
        "outputId": "8e60dbdb-521a-4e1e-8726-73964ebd132e"
      },
      "execution_count": 171,
      "outputs": [
        {
          "output_type": "display_data",
          "data": {
            "text/plain": [
              "<Figure size 640x480 with 0 Axes>"
            ]
          },
          "metadata": {}
        },
        {
          "output_type": "display_data",
          "data": {
            "text/plain": [
              "<Figure size 640x480 with 1 Axes>"
            ],
            "image/png": "[encoded data removed]"
          },
          "metadata": {}
        }
      ]
    },
    {
      "cell_type": "markdown",
      "source": [
        "Compared to Validation AUG, the situation is worse."
      ],
      "metadata": {
        "id": "xkAm_vozswUh"
      }
    },
    {
      "cell_type": "markdown",
      "metadata": {
        "id": "NWuddk7Kgwo1"
      },
      "source": [
        "## (d) [1 mark]\n",
        "\n",
        "For the dropout model in (c)(iv) determine whether or not it is overfitting less than the model in (b)."
      ]
    },
    {
      "cell_type": "markdown",
      "metadata": {
        "id": "SK5AJVEYgwo1"
      },
      "source": [
        "**[Add your solution here]**"
      ]
    },
    {
      "cell_type": "code",
      "source": [
        "model_dr"
      ],
      "metadata": {
        "colab": {
          "base_uri": "https://localhost:8080/"
        },
        "id": "LSTC5tfrtKfI",
        "outputId": "e0a4afcc-dbc6-4093-95c3-2c6e3cbe4a36"
      },
      "execution_count": 172,
      "outputs": [
        {
          "output_type": "execute_result",
          "data": {
            "text/plain": [
              "<keras.src.engine.sequential.Sequential at 0x7c342c245ba0>"
            ]
          },
          "metadata": {},
          "execution_count": 172
        }
      ]
    },
    {
      "cell_type": "code",
      "source": [
        "model_dr.evaluate(X_train, y_train)"
      ],
      "metadata": {
        "colab": {
          "base_uri": "https://localhost:8080/"
        },
        "id": "WN_5TZI7tLb-",
        "outputId": "f338d42b-1868-421a-83f6-ff72da7c2abd"
      },
      "execution_count": 173,
      "outputs": [
        {
          "output_type": "stream",
          "name": "stdout",
          "text": [
            "817/817 [==============================] - 1s 2ms/step - loss: 0.1833 - auc: 0.9391\n"
          ]
        },
        {
          "output_type": "execute_result",
          "data": {
            "text/plain": [
              "[0.1832573264837265, 0.9391189813613892]"
            ]
          },
          "metadata": {},
          "execution_count": 173
        }
      ]
    },
    {
      "cell_type": "code",
      "source": [
        "model_dr.evaluate(X_valid, y_valid)"
      ],
      "metadata": {
        "colab": {
          "base_uri": "https://localhost:8080/"
        },
        "id": "11YHgRbxtMni",
        "outputId": "f918372c-bc27-4d84-f794-e99f1c99fa87"
      },
      "execution_count": 174,
      "outputs": [
        {
          "output_type": "stream",
          "name": "stdout",
          "text": [
            "205/205 [==============================] - 0s 2ms/step - loss: 0.2052 - auc: 0.9183\n"
          ]
        },
        {
          "output_type": "execute_result",
          "data": {
            "text/plain": [
              "[0.20518158376216888, 0.9183346629142761]"
            ]
          },
          "metadata": {},
          "execution_count": 174
        }
      ]
    },
    {
      "cell_type": "markdown",
      "metadata": {
        "id": "Z2UyITtDgwo1"
      },
      "source": [
        "## (e) [1 mark]\n",
        "\n",
        "Of the models in (b) and (c), one would now choose the best model according to the performance metric (validation AUC) to evaluate on the test set. But instead, evaluate the model in (c)(v) on the test set in terms of the AUC and confusion matrix (regardless of whether it is the best model given your results)."
      ]
    },
    {
      "cell_type": "markdown",
      "metadata": {
        "id": "wHLoN_CIgwo1"
      },
      "source": [
        "**[Add your solution here]**"
      ]
    },
    {
      "cell_type": "code",
      "source": [
        "model_l2es"
      ],
      "metadata": {
        "colab": {
          "base_uri": "https://localhost:8080/"
        },
        "id": "6vKZkFJXtOCZ",
        "outputId": "64c4843d-0e8d-4c49-cc1e-247abbd846ba"
      },
      "execution_count": 175,
      "outputs": [
        {
          "output_type": "execute_result",
          "data": {
            "text/plain": [
              "<keras.src.engine.sequential.Sequential at 0x7c342be4a170>"
            ]
          },
          "metadata": {},
          "execution_count": 175
        }
      ]
    },
    {
      "cell_type": "code",
      "source": [
        "# AUC\n",
        "model_l2es.evaluate(X_test, y_test)"
      ],
      "metadata": {
        "colab": {
          "base_uri": "https://localhost:8080/"
        },
        "id": "Al8TJdEQtO7-",
        "outputId": "ae164062-88e5-4fa2-bc30-b2f975b3fd1b"
      },
      "execution_count": 176,
      "outputs": [
        {
          "output_type": "stream",
          "name": "stdout",
          "text": [
            "256/256 [==============================] - 1s 2ms/step - loss: 0.3054 - auc: 0.9283\n"
          ]
        },
        {
          "output_type": "execute_result",
          "data": {
            "text/plain": [
              "[0.30541476607322693, 0.9282727837562561]"
            ]
          },
          "metadata": {},
          "execution_count": 176
        }
      ]
    },
    {
      "cell_type": "code",
      "source": [
        "# confusion matrix\n",
        "from sklearn.metrics import confusion_matrix\n",
        "y_train_pred = (model_l2es.predict(X_test) >= 0.5)\n",
        "confusion_matrix(y_test, y_train_pred)"
      ],
      "metadata": {
        "colab": {
          "base_uri": "https://localhost:8080/"
        },
        "id": "RE0S6myNtP8c",
        "outputId": "1cf3d44d-f957-453e-e6d2-88d61deb39b4"
      },
      "execution_count": 177,
      "outputs": [
        {
          "output_type": "stream",
          "name": "stdout",
          "text": [
            "256/256 [==============================] - 0s 1ms/step\n"
          ]
        },
        {
          "output_type": "execute_result",
          "data": {
            "text/plain": [
              "array([[6947,  219],\n",
              "       [ 573,  430]])"
            ]
          },
          "metadata": {},
          "execution_count": 177
        }
      ]
    },
    {
      "cell_type": "markdown",
      "metadata": {
        "id": "rGMOjn0lgwo2"
      },
      "source": [
        "# 3. Time series using machine learning [14 marks]\n",
        "\n",
        "Obtain daily values of the [Japan/U.S. Foreign Exchange Rate (DEXJPUS)](https://fred.stlouisfed.org/series/DEXJPUS) starting from Jan 1, 1990, to Jan 1, 2023, from FRED. This can be obtained using the code below or you can download the data as a csv file from [Canvas](https://canvas.uw.edu/files/106328118/download?download_frd=1)."
      ]
    },
    {
      "cell_type": "code",
      "execution_count": 178,
      "metadata": {
        "id": "U6L_FvqHgwo2"
      },
      "outputs": [],
      "source": [
        "import pandas as pd\n",
        "import pandas_datareader as pdr\n",
        "from datetime import datetime\n",
        "data = pdr.get_data_fred('DEXJPUS', datetime(1990,1,1),datetime(2023,1,1))"
      ]
    },
    {
      "cell_type": "markdown",
      "metadata": {
        "id": "d_rwiYPDgwo2"
      },
      "source": [
        "## (a) [2 marks]\n",
        "\n",
        "Create a training set (before 2010), a validation set (Jan 2010 to Dec 2015), and a test set (the rest of the data). Turn the time series data into a supervised learning dataset where the features are the value of the exchange rate in the last 10 days inclusive of the current day, and the target is the value of the exchange rate in the next day."
      ]
    },
    {
      "cell_type": "markdown",
      "metadata": {
        "id": "DJ4lq09ugwo2"
      },
      "source": [
        "**[Add your solution here]**"
      ]
    },
    {
      "cell_type": "code",
      "source": [
        "data = data.dropna()"
      ],
      "metadata": {
        "id": "RyZ_aTZP15kW"
      },
      "execution_count": 179,
      "outputs": []
    },
    {
      "cell_type": "code",
      "source": [
        "def ts_split(ts, feature_steps=8, target_steps=1):\n",
        "    n_obs = len(ts) - feature_steps - target_steps + 1\n",
        "    X = np.array([ts[idx:idx + feature_steps] for idx in range(n_obs)])\n",
        "    y = np.array([ts[idx + feature_steps:idx + feature_steps + target_steps]\n",
        "                  for idx in range(n_obs)])\n",
        "    return X, y"
      ],
      "metadata": {
        "id": "YYQlkZN716DE"
      },
      "execution_count": 180,
      "outputs": []
    },
    {
      "cell_type": "code",
      "source": [
        "time_steps = 10\n",
        "\n",
        "ts = data.values.flatten()\n",
        "X, y = ts_split(ts, feature_steps=time_steps)\n",
        "\n",
        "train_idx = sum(data.index.year < 2010) - time_steps\n",
        "valid_idx = sum(data.index.year < 2016) - time_steps\n",
        "\n",
        "X_train, y_train = X[:train_idx], y[:train_idx]\n",
        "X_valid, y_valid = X[train_idx:valid_idx], y[train_idx:valid_idx]\n",
        "X_test, y_test = X[valid_idx:], y[valid_idx:]"
      ],
      "metadata": {
        "id": "ZQb-w3Z117Tv"
      },
      "execution_count": 181,
      "outputs": []
    },
    {
      "cell_type": "code",
      "source": [
        "X_train"
      ],
      "metadata": {
        "colab": {
          "base_uri": "https://localhost:8080/"
        },
        "id": "5UpohkHs19zB",
        "outputId": "09a8f120-ac67-49e3-cabe-6c4de5d388d1"
      },
      "execution_count": 182,
      "outputs": [
        {
          "output_type": "execute_result",
          "data": {
            "text/plain": [
              "array([[146.25, 145.7 , 143.37, ..., 145.4 , 145.4 , 145.48],\n",
              "       [145.7 , 143.37, 143.82, ..., 145.4 , 145.48, 145.49],\n",
              "       [143.37, 143.82, 144.1 , ..., 145.48, 145.49, 146.12],\n",
              "       ...,\n",
              "       [ 88.65,  89.91,  89.52, ...,  91.52,  91.69,  91.57],\n",
              "       [ 89.91,  89.52,  90.35, ...,  91.69,  91.57,  91.95],\n",
              "       [ 89.52,  90.35,  90.47, ...,  91.57,  91.95,  92.66]])"
            ]
          },
          "metadata": {},
          "execution_count": 182
        }
      ]
    },
    {
      "cell_type": "code",
      "source": [
        "y_train"
      ],
      "metadata": {
        "colab": {
          "base_uri": "https://localhost:8080/"
        },
        "id": "A_rNfBe92GvU",
        "outputId": "96432d52-ccc4-449c-8f64-cfb5adaeb710"
      },
      "execution_count": 183,
      "outputs": [
        {
          "output_type": "execute_result",
          "data": {
            "text/plain": [
              "array([[145.49],\n",
              "       [146.12],\n",
              "       [145.65],\n",
              "       ...,\n",
              "       [ 91.95],\n",
              "       [ 92.66],\n",
              "       [ 93.08]])"
            ]
          },
          "metadata": {},
          "execution_count": 183
        }
      ]
    },
    {
      "cell_type": "markdown",
      "metadata": {
        "id": "K5tPFtdmgwo2"
      },
      "source": [
        "## (b) [3 marks]\n",
        "\n",
        "Fit a random forest regressor to predict the value of the exchange rate in the next day. Using the test set, report the mean squared error and the accuracy for the movement direction.\n",
        "\n",
        "Hint: You can calculate the accuracy of the movement direction by determining what the actual movement direction is and comparing it to the movement direction corresponding to the predicted value of the exchange rate. For instance, the movement direction of the test set `X_test` and `y_test` where a strictly up movement is `True` can be computed as follows."
      ]
    },
    {
      "cell_type": "code",
      "execution_count": 184,
      "metadata": {
        "id": "j1sErEaDgwo2"
      },
      "outputs": [],
      "source": [
        "movement_test = X_test[:,-1] < y_test.ravel()"
      ]
    },
    {
      "cell_type": "markdown",
      "metadata": {
        "id": "LfQYXOZLgwo2"
      },
      "source": [
        "**[Add your solution here]**"
      ]
    },
    {
      "cell_type": "code",
      "source": [
        "from sklearn.ensemble import RandomForestRegressor\n",
        "from sklearn.metrics import mean_squared_error\n",
        "from sklearn.metrics import accuracy_score"
      ],
      "metadata": {
        "id": "ljacDrc62dBq"
      },
      "execution_count": 185,
      "outputs": []
    },
    {
      "cell_type": "code",
      "source": [
        "rf_regressor = RandomForestRegressor(n_estimators=100, random_state=42)\n",
        "rf_regressor.fit(X_train, y_train.ravel())\n",
        "\n",
        "y_pred = rf_regressor.predict(X_test)\n",
        "\n",
        "mse = mean_squared_error(y_test, y_pred)\n",
        "print(f\"Mean Squared Error: {mse}\")"
      ],
      "metadata": {
        "colab": {
          "base_uri": "https://localhost:8080/"
        },
        "id": "Dc-DIlQk2db8",
        "outputId": "7a7b0d60-c11b-4d8a-d1fb-4e19565c7276"
      },
      "execution_count": 186,
      "outputs": [
        {
          "output_type": "stream",
          "name": "stdout",
          "text": [
            "Mean Squared Error: 0.5271643620377792\n"
          ]
        }
      ]
    },
    {
      "cell_type": "code",
      "source": [
        "actual_movement = X_test[:,-1] < y_test.ravel()\n",
        "predicted_movement = X_test[:,-1] < y_pred\n",
        "\n",
        "accuracy = accuracy_score(actual_movement, predicted_movement)\n",
        "print(f\"Accuracy of Movement Direction: {accuracy}\")"
      ],
      "metadata": {
        "colab": {
          "base_uri": "https://localhost:8080/"
        },
        "id": "OrbjTwrf2fGu",
        "outputId": "64b032f4-be24-4e93-ade4-cca85bd91e2d"
      },
      "execution_count": 187,
      "outputs": [
        {
          "output_type": "stream",
          "name": "stdout",
          "text": [
            "Accuracy of Movement Direction: 0.5203205495134516\n"
          ]
        }
      ]
    },
    {
      "cell_type": "markdown",
      "metadata": {
        "id": "Qt0yETp8gwo2"
      },
      "source": [
        "## (c) [4 marks]\n",
        "\n",
        "Repeat (b), but now fit a deep RNN with 2 recurrent layers of 20 and 20 neurons, and an output layer which is 1 dense neuron. Use 100 epochs and the Nadam optimizer. Comment on the result and the learning curve (the validation set is used for the learning curve)."
      ]
    },
    {
      "cell_type": "markdown",
      "metadata": {
        "id": "2jvpTkwhgwo2"
      },
      "source": [
        "**[Add your solution here]**"
      ]
    },
    {
      "cell_type": "code",
      "source": [
        "reset_session()"
      ],
      "metadata": {
        "id": "xi0eAyfn2idm"
      },
      "execution_count": 188,
      "outputs": []
    },
    {
      "cell_type": "code",
      "source": [
        "model = tf.keras.models.Sequential([\n",
        "    tf.keras.layers.SimpleRNN(20, return_sequences=True, input_shape=[None, 1]),\n",
        "    tf.keras.layers.SimpleRNN(20),\n",
        "    tf.keras.layers.Dense(1)\n",
        "])\n",
        "model.compile(loss=\"mse\", optimizer=\"nadam\")\n",
        "run = model.fit(X_train[..., np.newaxis], y_train, epochs=100, validation_data=(X_valid[..., np.newaxis], y_valid))"
      ],
      "metadata": {
        "colab": {
          "base_uri": "https://localhost:8080/"
        },
        "id": "nZe_Jpz72kWx",
        "outputId": "8caeff6c-5fc2-4f0e-a777-27d62bf6537f"
      },
      "execution_count": 189,
      "outputs": [
        {
          "output_type": "stream",
          "name": "stdout",
          "text": [
            "Epoch 1/100\n",
            "157/157 [==============================] - 4s 8ms/step - loss: 12269.5459 - val_loss: 7788.1128\n",
            "Epoch 2/100\n",
            "157/157 [==============================] - 1s 5ms/step - loss: 11248.6963 - val_loss: 7176.9414\n",
            "Epoch 3/100\n",
            "157/157 [==============================] - 1s 5ms/step - loss: 10535.3760 - val_loss: 6629.7427\n",
            "Epoch 4/100\n",
            "157/157 [==============================] - 1s 6ms/step - loss: 9876.6904 - val_loss: 6121.9507\n",
            "Epoch 5/100\n",
            "157/157 [==============================] - 1s 5ms/step - loss: 9256.4346 - val_loss: 5646.0796\n",
            "Epoch 6/100\n",
            "157/157 [==============================] - 1s 5ms/step - loss: 8669.0078 - val_loss: 5198.5879\n",
            "Epoch 7/100\n",
            "157/157 [==============================] - 1s 6ms/step - loss: 8111.3018 - val_loss: 4777.6118\n",
            "Epoch 8/100\n",
            "157/157 [==============================] - 1s 6ms/step - loss: 7581.2720 - val_loss: 4381.3521\n",
            "Epoch 9/100\n",
            "157/157 [==============================] - 1s 7ms/step - loss: 7077.4229 - val_loss: 4008.9971\n",
            "Epoch 10/100\n",
            "157/157 [==============================] - 1s 8ms/step - loss: 6598.2886 - val_loss: 3659.0518\n",
            "Epoch 11/100\n",
            "157/157 [==============================] - 1s 9ms/step - loss: 6142.7197 - val_loss: 3330.5386\n",
            "Epoch 12/100\n",
            "157/157 [==============================] - 1s 7ms/step - loss: 5709.8760 - val_loss: 3022.7305\n",
            "Epoch 13/100\n",
            "157/157 [==============================] - 1s 5ms/step - loss: 5298.8789 - val_loss: 2734.4934\n",
            "Epoch 14/100\n",
            "157/157 [==============================] - 1s 5ms/step - loss: 4908.9326 - val_loss: 2465.6648\n",
            "Epoch 15/100\n",
            "157/157 [==============================] - 1s 5ms/step - loss: 4539.3916 - val_loss: 2215.7622\n",
            "Epoch 16/100\n",
            "157/157 [==============================] - 1s 6ms/step - loss: 4189.5781 - val_loss: 1983.4316\n",
            "Epoch 17/100\n",
            "157/157 [==============================] - 1s 5ms/step - loss: 3858.7100 - val_loss: 1768.4366\n",
            "Epoch 18/100\n",
            "157/157 [==============================] - 1s 6ms/step - loss: 3546.2637 - val_loss: 1570.1884\n",
            "Epoch 19/100\n",
            "157/157 [==============================] - 1s 5ms/step - loss: 3251.7988 - val_loss: 1388.0851\n",
            "Epoch 20/100\n",
            "157/157 [==============================] - 1s 6ms/step - loss: 2974.7373 - val_loss: 1221.6210\n",
            "Epoch 21/100\n",
            "157/157 [==============================] - 1s 5ms/step - loss: 2714.5754 - val_loss: 1070.1991\n",
            "Epoch 22/100\n",
            "157/157 [==============================] - 1s 6ms/step - loss: 2470.7539 - val_loss: 933.6046\n",
            "Epoch 23/100\n",
            "157/157 [==============================] - 1s 5ms/step - loss: 2242.7668 - val_loss: 810.9485\n",
            "Epoch 24/100\n",
            "157/157 [==============================] - 1s 8ms/step - loss: 2030.1896 - val_loss: 701.7002\n",
            "Epoch 25/100\n",
            "157/157 [==============================] - 1s 9ms/step - loss: 1832.5067 - val_loss: 605.5861\n",
            "Epoch 26/100\n",
            "157/157 [==============================] - 1s 7ms/step - loss: 1649.2960 - val_loss: 521.9352\n",
            "Epoch 27/100\n",
            "157/157 [==============================] - 1s 5ms/step - loss: 1480.0547 - val_loss: 450.2109\n",
            "Epoch 28/100\n",
            "157/157 [==============================] - 1s 6ms/step - loss: 1324.2969 - val_loss: 389.9155\n",
            "Epoch 29/100\n",
            "157/157 [==============================] - 1s 5ms/step - loss: 1181.6049 - val_loss: 340.2949\n",
            "Epoch 30/100\n",
            "157/157 [==============================] - 1s 6ms/step - loss: 1051.4324 - val_loss: 300.9268\n",
            "Epoch 31/100\n",
            "157/157 [==============================] - 1s 6ms/step - loss: 933.2825 - val_loss: 271.1775\n",
            "Epoch 32/100\n",
            "157/157 [==============================] - 1s 6ms/step - loss: 826.5749 - val_loss: 250.4142\n",
            "Epoch 33/100\n",
            "157/157 [==============================] - 1s 6ms/step - loss: 730.8239 - val_loss: 237.8359\n",
            "Epoch 34/100\n",
            "157/157 [==============================] - 1s 6ms/step - loss: 645.4301 - val_loss: 232.8822\n",
            "Epoch 35/100\n",
            "157/157 [==============================] - 1s 5ms/step - loss: 569.8699 - val_loss: 234.7814\n",
            "Epoch 36/100\n",
            "157/157 [==============================] - 1s 5ms/step - loss: 503.5237 - val_loss: 242.8222\n",
            "Epoch 37/100\n",
            "157/157 [==============================] - 1s 5ms/step - loss: 445.8536 - val_loss: 256.2133\n",
            "Epoch 38/100\n",
            "157/157 [==============================] - 1s 8ms/step - loss: 396.1888 - val_loss: 274.1335\n",
            "Epoch 39/100\n",
            "157/157 [==============================] - 1s 8ms/step - loss: 353.8067 - val_loss: 295.7627\n",
            "Epoch 40/100\n",
            "157/157 [==============================] - 1s 9ms/step - loss: 318.1526 - val_loss: 320.5168\n",
            "Epoch 41/100\n",
            "157/157 [==============================] - 1s 6ms/step - loss: 288.5357 - val_loss: 347.2926\n",
            "Epoch 42/100\n",
            "157/157 [==============================] - 1s 6ms/step - loss: 264.3158 - val_loss: 375.4279\n",
            "Epoch 43/100\n",
            "157/157 [==============================] - 1s 5ms/step - loss: 244.8364 - val_loss: 404.2320\n",
            "Epoch 44/100\n",
            "157/157 [==============================] - 1s 6ms/step - loss: 229.4563 - val_loss: 432.9489\n",
            "Epoch 45/100\n",
            "157/157 [==============================] - 1s 5ms/step - loss: 217.5379 - val_loss: 460.9678\n",
            "Epoch 46/100\n",
            "157/157 [==============================] - 1s 6ms/step - loss: 208.5142 - val_loss: 487.1337\n",
            "Epoch 47/100\n",
            "157/157 [==============================] - 1s 5ms/step - loss: 201.8674 - val_loss: 511.8720\n",
            "Epoch 48/100\n",
            "157/157 [==============================] - 1s 5ms/step - loss: 197.0858 - val_loss: 534.3687\n",
            "Epoch 49/100\n",
            "157/157 [==============================] - 1s 5ms/step - loss: 193.7742 - val_loss: 554.7841\n",
            "Epoch 50/100\n",
            "157/157 [==============================] - 1s 5ms/step - loss: 191.5182 - val_loss: 571.6330\n",
            "Epoch 51/100\n",
            "157/157 [==============================] - 1s 5ms/step - loss: 190.0505 - val_loss: 586.3555\n",
            "Epoch 52/100\n",
            "157/157 [==============================] - 1s 7ms/step - loss: 189.1508 - val_loss: 598.8717\n",
            "Epoch 53/100\n",
            "157/157 [==============================] - 1s 8ms/step - loss: 188.6057 - val_loss: 608.4953\n",
            "Epoch 54/100\n",
            "157/157 [==============================] - 1s 8ms/step - loss: 188.3107 - val_loss: 615.6865\n",
            "Epoch 55/100\n",
            "157/157 [==============================] - 1s 7ms/step - loss: 188.1431 - val_loss: 621.7249\n",
            "Epoch 56/100\n",
            "157/157 [==============================] - 1s 5ms/step - loss: 188.0468 - val_loss: 625.3815\n",
            "Epoch 57/100\n",
            "157/157 [==============================] - 1s 5ms/step - loss: 187.9923 - val_loss: 628.9782\n",
            "Epoch 58/100\n",
            "157/157 [==============================] - 1s 5ms/step - loss: 187.9760 - val_loss: 631.7415\n",
            "Epoch 59/100\n",
            "157/157 [==============================] - 1s 5ms/step - loss: 187.9665 - val_loss: 633.9129\n",
            "Epoch 60/100\n",
            "157/157 [==============================] - 1s 5ms/step - loss: 187.9695 - val_loss: 633.5508\n",
            "Epoch 61/100\n",
            "157/157 [==============================] - 1s 5ms/step - loss: 187.9658 - val_loss: 633.6550\n",
            "Epoch 62/100\n",
            "157/157 [==============================] - 1s 5ms/step - loss: 187.9718 - val_loss: 634.8356\n",
            "Epoch 63/100\n",
            "157/157 [==============================] - 1s 6ms/step - loss: 187.9706 - val_loss: 634.2169\n",
            "Epoch 64/100\n",
            "157/157 [==============================] - 1s 6ms/step - loss: 187.9620 - val_loss: 632.9653\n",
            "Epoch 65/100\n",
            "157/157 [==============================] - 1s 5ms/step - loss: 150.4456 - val_loss: 50.9304\n",
            "Epoch 66/100\n",
            "157/157 [==============================] - 1s 6ms/step - loss: 79.1119 - val_loss: 9.4963\n",
            "Epoch 67/100\n",
            "157/157 [==============================] - 1s 7ms/step - loss: 59.9279 - val_loss: 8.9232\n",
            "Epoch 68/100\n",
            "157/157 [==============================] - 1s 9ms/step - loss: 47.5772 - val_loss: 12.9866\n",
            "Epoch 69/100\n",
            "157/157 [==============================] - 1s 8ms/step - loss: 38.8628 - val_loss: 14.0543\n",
            "Epoch 70/100\n",
            "157/157 [==============================] - 1s 7ms/step - loss: 32.4949 - val_loss: 14.8039\n",
            "Epoch 71/100\n",
            "157/157 [==============================] - 1s 6ms/step - loss: 27.4635 - val_loss: 13.4223\n",
            "Epoch 72/100\n",
            "157/157 [==============================] - 1s 5ms/step - loss: 23.4562 - val_loss: 11.7135\n",
            "Epoch 73/100\n",
            "157/157 [==============================] - 1s 5ms/step - loss: 20.3396 - val_loss: 6.0042\n",
            "Epoch 74/100\n",
            "157/157 [==============================] - 1s 6ms/step - loss: 17.5681 - val_loss: 5.1186\n",
            "Epoch 75/100\n",
            "157/157 [==============================] - 1s 6ms/step - loss: 15.4813 - val_loss: 9.9967\n",
            "Epoch 76/100\n",
            "157/157 [==============================] - 1s 6ms/step - loss: 13.6981 - val_loss: 6.7963\n",
            "Epoch 77/100\n",
            "157/157 [==============================] - 1s 6ms/step - loss: 12.1724 - val_loss: 2.5751\n",
            "Epoch 78/100\n",
            "157/157 [==============================] - 1s 6ms/step - loss: 10.8086 - val_loss: 12.2056\n",
            "Epoch 79/100\n",
            "157/157 [==============================] - 1s 6ms/step - loss: 9.6156 - val_loss: 2.0245\n",
            "Epoch 80/100\n",
            "157/157 [==============================] - 1s 6ms/step - loss: 8.5703 - val_loss: 4.8075\n",
            "Epoch 81/100\n",
            "157/157 [==============================] - 1s 7ms/step - loss: 7.7701 - val_loss: 3.1385\n",
            "Epoch 82/100\n",
            "157/157 [==============================] - 1s 8ms/step - loss: 7.0247 - val_loss: 2.1737\n",
            "Epoch 83/100\n",
            "157/157 [==============================] - 1s 9ms/step - loss: 6.3257 - val_loss: 3.9992\n",
            "Epoch 84/100\n",
            "157/157 [==============================] - 1s 8ms/step - loss: 5.6962 - val_loss: 1.6205\n",
            "Epoch 85/100\n",
            "157/157 [==============================] - 1s 5ms/step - loss: 5.2065 - val_loss: 4.9208\n",
            "Epoch 86/100\n",
            "157/157 [==============================] - 1s 6ms/step - loss: 4.7861 - val_loss: 2.6051\n",
            "Epoch 87/100\n",
            "157/157 [==============================] - 1s 5ms/step - loss: 4.3628 - val_loss: 1.9567\n",
            "Epoch 88/100\n",
            "157/157 [==============================] - 1s 5ms/step - loss: 3.8876 - val_loss: 2.3722\n",
            "Epoch 89/100\n",
            "157/157 [==============================] - 1s 6ms/step - loss: 3.5581 - val_loss: 1.6347\n",
            "Epoch 90/100\n",
            "157/157 [==============================] - 1s 6ms/step - loss: 3.2555 - val_loss: 2.2690\n",
            "Epoch 91/100\n",
            "157/157 [==============================] - 1s 6ms/step - loss: 2.9743 - val_loss: 2.2624\n",
            "Epoch 92/100\n",
            "157/157 [==============================] - 1s 5ms/step - loss: 2.7559 - val_loss: 3.8965\n",
            "Epoch 93/100\n",
            "157/157 [==============================] - 1s 6ms/step - loss: 2.5436 - val_loss: 2.1849\n",
            "Epoch 94/100\n",
            "157/157 [==============================] - 1s 6ms/step - loss: 2.3329 - val_loss: 2.5301\n",
            "Epoch 95/100\n",
            "157/157 [==============================] - 1s 7ms/step - loss: 2.1643 - val_loss: 3.7646\n",
            "Epoch 96/100\n",
            "157/157 [==============================] - 1s 8ms/step - loss: 2.0216 - val_loss: 5.2977\n",
            "Epoch 97/100\n",
            "157/157 [==============================] - 2s 10ms/step - loss: 1.8785 - val_loss: 2.3013\n",
            "Epoch 98/100\n",
            "157/157 [==============================] - 1s 8ms/step - loss: 1.8016 - val_loss: 3.1408\n",
            "Epoch 99/100\n",
            "157/157 [==============================] - 1s 6ms/step - loss: 1.6957 - val_loss: 1.0536\n",
            "Epoch 100/100\n",
            "157/157 [==============================] - 1s 7ms/step - loss: 1.6281 - val_loss: 1.8744\n"
          ]
        }
      ]
    },
    {
      "cell_type": "code",
      "source": [
        "pd.DataFrame(run.history).plot()\n",
        "plt.grid(True)\n",
        "plt.show()"
      ],
      "metadata": {
        "colab": {
          "base_uri": "https://localhost:8080/",
          "height": 430
        },
        "id": "3-Cs8yam2mZX",
        "outputId": "d29be808-089c-46d2-f3e2-36a1aa03b7f6"
      },
      "execution_count": 190,
      "outputs": [
        {
          "output_type": "display_data",
          "data": {
            "text/plain": [
              "<Figure size 640x480 with 1 Axes>"
            ],
            "image/png": "[encoded data removed]"
          },
          "metadata": {}
        }
      ]
    },
    {
      "cell_type": "code",
      "source": [
        "y_pred = model.predict(X_test)"
      ],
      "metadata": {
        "colab": {
          "base_uri": "https://localhost:8080/"
        },
        "id": "jyU1e0Vn2oCu",
        "outputId": "77b3f861-fb68-4d1e-c968-331964b5243a"
      },
      "execution_count": 191,
      "outputs": [
        {
          "output_type": "stream",
          "name": "stdout",
          "text": [
            "55/55 [==============================] - 0s 3ms/step\n"
          ]
        }
      ]
    },
    {
      "cell_type": "code",
      "source": [
        "mse = mean_squared_error(y_test, y_pred)\n",
        "print(f\"Mean Squared Error: {mse}\")\n",
        "\n",
        "movement_pred = X_test[:,-1] < y_pred.ravel()\n",
        "a_score = accuracy_score(movement_test, movement_pred)\n",
        "print(f\"Accuracy of Movement Direction: {a_score}\")"
      ],
      "metadata": {
        "colab": {
          "base_uri": "https://localhost:8080/"
        },
        "id": "8lNyBOXz2pm6",
        "outputId": "5be7ed21-a0ee-413f-fa8f-3d3754df996f"
      },
      "execution_count": 192,
      "outputs": [
        {
          "output_type": "stream",
          "name": "stdout",
          "text": [
            "Mean Squared Error: 0.5928549652378918\n",
            "Accuracy of Movement Direction: 0.49170005724098453\n"
          ]
        }
      ]
    },
    {
      "cell_type": "markdown",
      "source": [
        "According to the above information, it is no overfitting."
      ],
      "metadata": {
        "id": "hFnpguKX2rfz"
      }
    },
    {
      "cell_type": "markdown",
      "metadata": {
        "id": "8f5Nc7fjgwo2"
      },
      "source": [
        "## (d) [5 marks]\n",
        "\n",
        "Create a supervised learning dataset suitable for predicting 3 days ahead instead of 1 day ahead. Adjust the deep RNN in (c) so that it predicts 3 days ahead. Use 100 epochs and the Nadam optimizer. Using the test set, report the mean squared error and the accuracy for the movement direction for each of the 3 days ahead predictions.  Comment on the result and the learning curve."
      ]
    },
    {
      "cell_type": "markdown",
      "metadata": {
        "id": "daFbyXh1gwo2"
      },
      "source": [
        "**[Add your solution here]**"
      ]
    },
    {
      "cell_type": "code",
      "source": [
        "X_new, y_new = ts_split(ts,feature_steps=time_steps, target_steps=3)\n",
        "\n",
        "X_train_3ahead = X_new[:(train_idx-2)]\n",
        "y_train_3ahead = y_new[:(train_idx-2)]\n",
        "X_valid_3ahead = X_new[(train_idx-2):(valid_idx-2)]\n",
        "y_valid_3ahead = y_new[(train_idx-2):(valid_idx-2)]\n",
        "X_test_3ahead = X_new[(valid_idx-2):]\n",
        "y_test_3ahead = y_new[(valid_idx-2):]"
      ],
      "metadata": {
        "id": "Vqcpb4lj2yCR"
      },
      "execution_count": 193,
      "outputs": []
    },
    {
      "cell_type": "code",
      "source": [
        "reset_session()"
      ],
      "metadata": {
        "id": "64P33MZX2zI0"
      },
      "execution_count": 194,
      "outputs": []
    },
    {
      "cell_type": "code",
      "source": [
        "model_new = tf.keras.models.Sequential([\n",
        "    tf.keras.layers.SimpleRNN(20, return_sequences=True, input_shape=[None, 1]),\n",
        "    tf.keras.layers.SimpleRNN(20),\n",
        "    tf.keras.layers.Dense(3)\n",
        "])\n",
        "\n",
        "model_new.compile(loss=\"mse\", optimizer=\"nadam\")\n",
        "run = model_new.fit(X_train_3ahead[..., np.newaxis],\n",
        "                    y_train_3ahead[..., np.newaxis],\n",
        "                    epochs=100,\n",
        "                    validation_data=(X_valid_3ahead[..., np.newaxis],\n",
        "                                     y_valid_3ahead[..., np.newaxis]))"
      ],
      "metadata": {
        "colab": {
          "base_uri": "https://localhost:8080/"
        },
        "id": "BIFLLw4C20LQ",
        "outputId": "e614b104-3544-4e92-b5ca-ab24ec025a95"
      },
      "execution_count": 195,
      "outputs": [
        {
          "output_type": "stream",
          "name": "stdout",
          "text": [
            "Epoch 1/100\n",
            "157/157 [==============================] - 3s 7ms/step - loss: 12603.8975 - val_loss: 8173.0054\n",
            "Epoch 2/100\n",
            "157/157 [==============================] - 1s 6ms/step - loss: 11737.1641 - val_loss: 7572.9155\n",
            "Epoch 3/100\n",
            "157/157 [==============================] - 1s 5ms/step - loss: 11027.9707 - val_loss: 7020.1963\n",
            "Epoch 4/100\n",
            "157/157 [==============================] - 1s 5ms/step - loss: 10362.7568 - val_loss: 6501.9663\n",
            "Epoch 5/100\n",
            "157/157 [==============================] - 1s 5ms/step - loss: 9732.3789 - val_loss: 6013.9204\n",
            "Epoch 6/100\n",
            "157/157 [==============================] - 1s 5ms/step - loss: 9132.9365 - val_loss: 5553.2993\n",
            "Epoch 7/100\n",
            "157/157 [==============================] - 1s 5ms/step - loss: 8562.0537 - val_loss: 5118.5117\n",
            "Epoch 8/100\n",
            "157/157 [==============================] - 1s 5ms/step - loss: 8017.9858 - val_loss: 4707.9185\n",
            "Epoch 9/100\n",
            "157/157 [==============================] - 1s 8ms/step - loss: 7499.4062 - val_loss: 4320.7900\n",
            "Epoch 10/100\n",
            "157/157 [==============================] - 1s 8ms/step - loss: 7005.3096 - val_loss: 3956.0784\n",
            "Epoch 11/100\n",
            "157/157 [==============================] - 1s 8ms/step - loss: 6534.7051 - val_loss: 3612.6160\n",
            "Epoch 12/100\n",
            "157/157 [==============================] - 1s 6ms/step - loss: 6086.6924 - val_loss: 3289.8665\n",
            "Epoch 13/100\n",
            "157/157 [==============================] - 1s 6ms/step - loss: 5660.5005 - val_loss: 2987.1682\n",
            "Epoch 14/100\n",
            "157/157 [==============================] - 1s 6ms/step - loss: 5255.3506 - val_loss: 2703.6411\n",
            "Epoch 15/100\n",
            "157/157 [==============================] - 1s 5ms/step - loss: 4870.5239 - val_loss: 2438.9087\n",
            "Epoch 16/100\n",
            "157/157 [==============================] - 1s 5ms/step - loss: 4505.4180 - val_loss: 2192.1707\n",
            "Epoch 17/100\n",
            "157/157 [==============================] - 1s 5ms/step - loss: 4159.5093 - val_loss: 1962.8572\n",
            "Epoch 18/100\n",
            "157/157 [==============================] - 1s 6ms/step - loss: 3832.1824 - val_loss: 1750.6702\n",
            "Epoch 19/100\n",
            "157/157 [==============================] - 1s 6ms/step - loss: 3522.8958 - val_loss: 1554.6833\n",
            "Epoch 20/100\n",
            "157/157 [==============================] - 1s 5ms/step - loss: 3231.1948 - val_loss: 1374.7229\n",
            "Epoch 21/100\n",
            "157/157 [==============================] - 1s 6ms/step - loss: 2956.5940 - val_loss: 1210.1403\n",
            "Epoch 22/100\n",
            "157/157 [==============================] - 1s 5ms/step - loss: 2698.5334 - val_loss: 1060.4355\n",
            "Epoch 23/100\n",
            "157/157 [==============================] - 1s 6ms/step - loss: 2456.6428 - val_loss: 925.0654\n",
            "Epoch 24/100\n",
            "157/157 [==============================] - 1s 8ms/step - loss: 2230.4336 - val_loss: 803.6744\n",
            "Epoch 25/100\n",
            "157/157 [==============================] - 1s 8ms/step - loss: 2019.4772 - val_loss: 695.6292\n",
            "Epoch 26/100\n",
            "157/157 [==============================] - 1s 8ms/step - loss: 1823.2856 - val_loss: 600.6248\n",
            "Epoch 27/100\n",
            "157/157 [==============================] - 1s 6ms/step - loss: 1641.3461 - val_loss: 517.8085\n",
            "Epoch 28/100\n",
            "157/157 [==============================] - 1s 6ms/step - loss: 1473.1711 - val_loss: 446.9510\n",
            "Epoch 29/100\n",
            "157/157 [==============================] - 1s 5ms/step - loss: 1318.3873 - val_loss: 387.2140\n",
            "Epoch 30/100\n",
            "157/157 [==============================] - 1s 6ms/step - loss: 1176.4902 - val_loss: 338.2676\n",
            "Epoch 31/100\n",
            "157/157 [==============================] - 1s 6ms/step - loss: 1047.0187 - val_loss: 299.3364\n",
            "Epoch 32/100\n",
            "157/157 [==============================] - 1s 5ms/step - loss: 929.4935 - val_loss: 270.0504\n",
            "Epoch 33/100\n",
            "157/157 [==============================] - 1s 5ms/step - loss: 823.3039 - val_loss: 249.6380\n",
            "Epoch 34/100\n",
            "157/157 [==============================] - 1s 6ms/step - loss: 727.9969 - val_loss: 237.3851\n",
            "Epoch 35/100\n",
            "157/157 [==============================] - 1s 6ms/step - loss: 643.0467 - val_loss: 232.7019\n",
            "Epoch 36/100\n",
            "157/157 [==============================] - 1s 6ms/step - loss: 567.9009 - val_loss: 234.8261\n",
            "Epoch 37/100\n",
            "157/157 [==============================] - 1s 6ms/step - loss: 501.9019 - val_loss: 243.0339\n",
            "Epoch 38/100\n",
            "157/157 [==============================] - 1s 8ms/step - loss: 444.4897 - val_loss: 256.5677\n",
            "Epoch 39/100\n",
            "157/157 [==============================] - 1s 9ms/step - loss: 395.0669 - val_loss: 274.5753\n",
            "Epoch 40/100\n",
            "157/157 [==============================] - 1s 9ms/step - loss: 352.9574 - val_loss: 296.3711\n",
            "Epoch 41/100\n",
            "157/157 [==============================] - 1s 6ms/step - loss: 317.4738 - val_loss: 321.0572\n",
            "Epoch 42/100\n",
            "157/157 [==============================] - 1s 6ms/step - loss: 288.0154 - val_loss: 347.9557\n",
            "Epoch 43/100\n",
            "157/157 [==============================] - 1s 6ms/step - loss: 263.9150 - val_loss: 376.1132\n",
            "Epoch 44/100\n",
            "157/157 [==============================] - 1s 6ms/step - loss: 244.5177 - val_loss: 404.7577\n",
            "Epoch 45/100\n",
            "157/157 [==============================] - 1s 6ms/step - loss: 229.2247 - val_loss: 433.2709\n",
            "Epoch 46/100\n",
            "157/157 [==============================] - 1s 6ms/step - loss: 217.3403 - val_loss: 461.0138\n",
            "Epoch 47/100\n",
            "157/157 [==============================] - 1s 6ms/step - loss: 208.3089 - val_loss: 487.6067\n",
            "Epoch 48/100\n",
            "157/157 [==============================] - 1s 6ms/step - loss: 201.6425 - val_loss: 511.8792\n",
            "Epoch 49/100\n",
            "157/157 [==============================] - 1s 6ms/step - loss: 196.8696 - val_loss: 534.9227\n",
            "Epoch 50/100\n",
            "157/157 [==============================] - 1s 6ms/step - loss: 193.5166 - val_loss: 554.8851\n",
            "Epoch 51/100\n",
            "157/157 [==============================] - 1s 7ms/step - loss: 191.2788 - val_loss: 572.4556\n",
            "Epoch 52/100\n",
            "157/157 [==============================] - 1s 9ms/step - loss: 189.8359 - val_loss: 587.3308\n",
            "Epoch 53/100\n",
            "157/157 [==============================] - 2s 10ms/step - loss: 188.9343 - val_loss: 598.9402\n",
            "Epoch 54/100\n",
            "157/157 [==============================] - 1s 8ms/step - loss: 188.3948 - val_loss: 608.4846\n",
            "Epoch 55/100\n",
            "157/157 [==============================] - 1s 6ms/step - loss: 188.0830 - val_loss: 616.6029\n",
            "Epoch 56/100\n",
            "157/157 [==============================] - 1s 7ms/step - loss: 187.9173 - val_loss: 622.1592\n",
            "Epoch 57/100\n",
            "157/157 [==============================] - 1s 7ms/step - loss: 187.8273 - val_loss: 626.6833\n",
            "Epoch 58/100\n",
            "157/157 [==============================] - 1s 6ms/step - loss: 187.7918 - val_loss: 629.4898\n",
            "Epoch 59/100\n",
            "157/157 [==============================] - 1s 6ms/step - loss: 187.7661 - val_loss: 632.5537\n",
            "Epoch 60/100\n",
            "157/157 [==============================] - 1s 6ms/step - loss: 187.7618 - val_loss: 634.0876\n",
            "Epoch 61/100\n",
            "157/157 [==============================] - 1s 7ms/step - loss: 187.7575 - val_loss: 634.0182\n",
            "Epoch 62/100\n",
            "157/157 [==============================] - 1s 7ms/step - loss: 187.7597 - val_loss: 633.8531\n",
            "Epoch 63/100\n",
            "157/157 [==============================] - 1s 6ms/step - loss: 187.7775 - val_loss: 635.0819\n",
            "Epoch 64/100\n",
            "157/157 [==============================] - 1s 9ms/step - loss: 187.7587 - val_loss: 634.9564\n",
            "Epoch 65/100\n",
            "157/157 [==============================] - 2s 10ms/step - loss: 187.7686 - val_loss: 634.7744\n",
            "Epoch 66/100\n",
            "157/157 [==============================] - 2s 10ms/step - loss: 187.7617 - val_loss: 634.3032\n",
            "Epoch 67/100\n",
            "157/157 [==============================] - 1s 7ms/step - loss: 187.7700 - val_loss: 633.8302\n",
            "Epoch 68/100\n",
            "157/157 [==============================] - 1s 7ms/step - loss: 187.7664 - val_loss: 632.9128\n",
            "Epoch 69/100\n",
            "157/157 [==============================] - 1s 7ms/step - loss: 187.7620 - val_loss: 634.7371\n",
            "Epoch 70/100\n",
            "157/157 [==============================] - 1s 7ms/step - loss: 187.7761 - val_loss: 635.0140\n",
            "Epoch 71/100\n",
            "157/157 [==============================] - 1s 7ms/step - loss: 187.7687 - val_loss: 634.6573\n",
            "Epoch 72/100\n",
            "157/157 [==============================] - 1s 6ms/step - loss: 187.7661 - val_loss: 636.3422\n",
            "Epoch 73/100\n",
            "157/157 [==============================] - 1s 7ms/step - loss: 158.8532 - val_loss: 341.6503\n",
            "Epoch 74/100\n",
            "157/157 [==============================] - 1s 7ms/step - loss: 86.6466 - val_loss: 74.5431\n",
            "Epoch 75/100\n",
            "157/157 [==============================] - 1s 7ms/step - loss: 57.5794 - val_loss: 59.1595\n",
            "Epoch 76/100\n",
            "157/157 [==============================] - 2s 11ms/step - loss: 43.8884 - val_loss: 12.2270\n",
            "Epoch 77/100\n",
            "157/157 [==============================] - 2s 11ms/step - loss: 34.2753 - val_loss: 6.6343\n",
            "Epoch 78/100\n",
            "157/157 [==============================] - 1s 9ms/step - loss: 28.0812 - val_loss: 8.6122\n",
            "Epoch 79/100\n",
            "157/157 [==============================] - 1s 7ms/step - loss: 23.5402 - val_loss: 10.3528\n",
            "Epoch 80/100\n",
            "157/157 [==============================] - 1s 7ms/step - loss: 20.0951 - val_loss: 12.0600\n",
            "Epoch 81/100\n",
            "157/157 [==============================] - 1s 7ms/step - loss: 17.5441 - val_loss: 9.6170\n",
            "Epoch 82/100\n",
            "157/157 [==============================] - 1s 7ms/step - loss: 15.2346 - val_loss: 9.1479\n",
            "Epoch 83/100\n",
            "157/157 [==============================] - 1s 6ms/step - loss: 13.3292 - val_loss: 5.1540\n",
            "Epoch 84/100\n",
            "157/157 [==============================] - 1s 6ms/step - loss: 11.8486 - val_loss: 3.0356\n",
            "Epoch 85/100\n",
            "157/157 [==============================] - 1s 7ms/step - loss: 10.7468 - val_loss: 4.7342\n",
            "Epoch 86/100\n",
            "157/157 [==============================] - 1s 6ms/step - loss: 9.5311 - val_loss: 2.7170\n",
            "Epoch 87/100\n",
            "157/157 [==============================] - 1s 7ms/step - loss: 8.5614 - val_loss: 3.9069\n",
            "Epoch 88/100\n",
            "157/157 [==============================] - 1s 9ms/step - loss: 7.6963 - val_loss: 5.3192\n",
            "Epoch 89/100\n",
            "157/157 [==============================] - 2s 11ms/step - loss: 7.1522 - val_loss: 2.4515\n",
            "Epoch 90/100\n",
            "157/157 [==============================] - 1s 8ms/step - loss: 6.4097 - val_loss: 1.8853\n",
            "Epoch 91/100\n",
            "157/157 [==============================] - 1s 7ms/step - loss: 5.9189 - val_loss: 4.8517\n",
            "Epoch 92/100\n",
            "157/157 [==============================] - 1s 6ms/step - loss: 5.3471 - val_loss: 3.3615\n",
            "Epoch 93/100\n",
            "157/157 [==============================] - 1s 7ms/step - loss: 5.0657 - val_loss: 7.8965\n",
            "Epoch 94/100\n",
            "157/157 [==============================] - 1s 6ms/step - loss: 4.5297 - val_loss: 3.0706\n",
            "Epoch 95/100\n",
            "157/157 [==============================] - 1s 7ms/step - loss: 4.1770 - val_loss: 6.8461\n",
            "Epoch 96/100\n",
            "157/157 [==============================] - 1s 7ms/step - loss: 3.9034 - val_loss: 2.3363\n",
            "Epoch 97/100\n",
            "157/157 [==============================] - 1s 7ms/step - loss: 3.6311 - val_loss: 4.5025\n",
            "Epoch 98/100\n",
            "157/157 [==============================] - 1s 6ms/step - loss: 3.3529 - val_loss: 2.8598\n",
            "Epoch 99/100\n",
            "157/157 [==============================] - 1s 6ms/step - loss: 3.2928 - val_loss: 1.8768\n",
            "Epoch 100/100\n",
            "157/157 [==============================] - 1s 9ms/step - loss: 3.0091 - val_loss: 3.9426\n"
          ]
        }
      ]
    },
    {
      "cell_type": "code",
      "source": [
        "y_pred = model_new.predict(X_test_3ahead[..., np.newaxis])"
      ],
      "metadata": {
        "colab": {
          "base_uri": "https://localhost:8080/"
        },
        "id": "cHQwZqEg215h",
        "outputId": "481d653a-4cc5-4201-a971-cb9af645273a"
      },
      "execution_count": 196,
      "outputs": [
        {
          "output_type": "stream",
          "name": "stdout",
          "text": [
            "55/55 [==============================] - 1s 4ms/step\n"
          ]
        }
      ]
    },
    {
      "cell_type": "code",
      "source": [
        "pd.DataFrame(run.history).plot()\n",
        "plt.grid(True)\n",
        "plt.show()"
      ],
      "metadata": {
        "colab": {
          "base_uri": "https://localhost:8080/",
          "height": 430
        },
        "id": "uzkoSD2Q223L",
        "outputId": "0029c3f4-e1fe-49d7-9939-e92245b7cfe6"
      },
      "execution_count": 197,
      "outputs": [
        {
          "output_type": "display_data",
          "data": {
            "text/plain": [
              "<Figure size 640x480 with 1 Axes>"
            ],
            "image/png": "[encoded data removed]"
          },
          "metadata": {}
        }
      ]
    },
    {
      "cell_type": "code",
      "source": [
        "mse = mean_squared_error(y_test_3ahead, y_pred, multioutput=\"raw_values\")\n",
        "mse"
      ],
      "metadata": {
        "colab": {
          "base_uri": "https://localhost:8080/"
        },
        "id": "HSm_jLiA23-I",
        "outputId": "64d568c2-fb7f-42bf-a1ea-566cbe80fbf5"
      },
      "execution_count": 198,
      "outputs": [
        {
          "output_type": "execute_result",
          "data": {
            "text/plain": [
              "array([0.57867664, 0.98727358, 1.40778023])"
            ]
          },
          "metadata": {},
          "execution_count": 198
        }
      ]
    },
    {
      "cell_type": "code",
      "source": [
        "movement_test_1 = X_test_3ahead[:,-1] < y_test_3ahead[:,0]\n",
        "movement_test_2 = X_test_3ahead[:,-1] < y_test_3ahead[:,1]\n",
        "movement_test_3 = X_test_3ahead[:,-1] < y_test_3ahead[:,2]\n",
        "movement_pred_1 = X_test_3ahead[:,-1] < y_pred[:,0]\n",
        "movement_pred_2 = X_test_3ahead[:,-1] < y_pred[:,1]\n",
        "movement_pred_3 = X_test_3ahead[:,-1] < y_pred[:,2]"
      ],
      "metadata": {
        "id": "1MlWSYr_25Jl"
      },
      "execution_count": 199,
      "outputs": []
    },
    {
      "cell_type": "code",
      "source": [
        "print(accuracy_score(movement_test_1, movement_pred_1))\n",
        "print(accuracy_score(movement_test_2, movement_pred_2))\n",
        "print(accuracy_score(movement_test_3, movement_pred_3))"
      ],
      "metadata": {
        "colab": {
          "base_uri": "https://localhost:8080/"
        },
        "id": "WvtElMSs26yJ",
        "outputId": "7c172656-916f-4d1d-9ddd-d906a65e2862"
      },
      "execution_count": 200,
      "outputs": [
        {
          "output_type": "stream",
          "name": "stdout",
          "text": [
            "0.5088723526044648\n",
            "0.4939896966227819\n",
            "0.497424155695478\n"
          ]
        }
      ]
    },
    {
      "cell_type": "markdown",
      "source": [
        "Here is no overfitting, and we can see 1-step ahead is the best."
      ],
      "metadata": {
        "id": "ZnBJafDP28T8"
      }
    }
  ],
  "metadata": {
    "hide_input": false,
    "kernelspec": {
      "display_name": "Python 3 (ipykernel)",
      "language": "python",
      "name": "python3"
    },
    "language_info": {
      "codemirror_mode": {
        "name": "ipython",
        "version": 3
      },
      "file_extension": ".py",
      "mimetype": "text/x-python",
      "name": "python",
      "nbconvert_exporter": "python",
      "pygments_lexer": "ipython3",
      "version": "3.11.8"
    },
    "latex_envs": {
      "LaTeX_envs_menu_present": true,
      "autoclose": false,
      "autocomplete": false,
      "bibliofile": "biblio.bib",
      "cite_by": "apalike",
      "current_citInitial": 1,
      "eqLabelWithNumbers": true,
      "eqNumInitial": 1,
      "hotkeys": {
        "equation": "Ctrl-E",
        "itemize": "Ctrl-I"
      },
      "labels_anchors": false,
      "latex_user_defs": false,
      "report_style_numbering": false,
      "user_envs_cfg": false
    },
    "toc": {
      "base_numbering": 1,
      "nav_menu": {},
      "number_sections": false,
      "sideBar": true,
      "skip_h1_title": false,
      "title_cell": "Table of Contents",
      "title_sidebar": "Contents",
      "toc_cell": false,
      "toc_position": {},
      "toc_section_display": true,
      "toc_window_display": false
    },
    "varInspector": {
      "cols": {
        "lenName": 16,
        "lenType": 16,
        "lenVar": 40
      },
      "kernels_config": {
        "python": {
          "delete_cmd_postfix": "",
          "delete_cmd_prefix": "del ",
          "library": "var_list.py",
          "varRefreshCmd": "print(var_dic_list())"
        },
        "r": {
          "delete_cmd_postfix": ") ",
          "delete_cmd_prefix": "rm(",
          "library": "var_list.r",
          "varRefreshCmd": "cat(var_dic_list()) "
        }
      },
      "types_to_exclude": [
        "module",
        "function",
        "builtin_function_or_method",
        "instance",
        "_Feature"
      ],
      "window_display": false
    },
    "colab": {
      "provenance": [],
      "include_colab_link": true
    }
  },
  "nbformat": 4,
  "nbformat_minor": 0
}